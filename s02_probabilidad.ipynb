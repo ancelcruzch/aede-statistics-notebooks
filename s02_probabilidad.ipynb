{
  "nbformat": 4,
  "nbformat_minor": 0,
  "metadata": {
    "colab": {
      "provenance": []
    },
    "kernelspec": {
      "name": "ir",
      "display_name": "R"
    },
    "language_info": {
      "name": "R"
    }
  },
  "cells": [
    {
      "cell_type": "markdown",
      "source": [
        "<img src=\"https://drive.google.com/uc?export=view&id=1QyjJW7NL2WDfnVZ0_MqAfH6Slkal1DJA\" width=\"150\">\n",
        "\n",
        "$\\tiny{Universidad \\ Nacional \\ de \\ San \\ Agustín \\ de \\ Arequipa \\\\\n",
        "Ciencia \\ de \\ la \\ Computación \\ UNSA}$\n",
        "\n",
        "---"
      ],
      "metadata": {
        "id": "mL_Ae-bkIYxd"
      }
    },
    {
      "cell_type": "markdown",
      "source": [
        "# <center>  $Capítulo \\ 1$\n",
        "### <center>  $Fundamentos \\ de \\ probabilidad$"
      ],
      "metadata": {
        "id": "9_gSO5oFIZDM"
      }
    },
    {
      "cell_type": "markdown",
      "source": [
        "**Sesión de Laboratorio 01:** Probabilidades\n",
        "\n",
        "**Maestría:** ............................................\n",
        "\n",
        "**Profesor:** ......................................\n",
        "\n",
        "**Estudiante de Posgrado:** .........................................\n",
        "\n"
      ],
      "metadata": {
        "id": "HsCEGFJmIgKA"
      }
    },
    {
      "cell_type": "markdown",
      "source": [
        "---"
      ],
      "metadata": {
        "id": "DoetjeMxnpoX"
      }
    },
    {
      "cell_type": "markdown",
      "source": [
        "# **Probabilidad**\n",
        "\n",
        "La probabilidad describe la posibilidad de que algo ocurra. La teoría de las probabilidades analiza y minimiza riesgos en situaciones de incertidumbre\n",
        "\n",
        "**Experimento aleatorio:** Es un proceso que consiste en la ejecución de una prueba una o más veces donde los resultados de la prueba tienen diferentes posibilidades y dependen del azar\n",
        "\n",
        "**Espacio muestral:** Es el conjunto de todos los resultados posibles de un experimento aleatorio, a este conjunto se le denota por la letra $\\Omega$\n",
        "\n",
        "**Evento:** Es un subconjunto de un espacio muestral"
      ],
      "metadata": {
        "id": "IiLkP3QdngeH"
      }
    },
    {
      "cell_type": "markdown",
      "source": [
        "### **Probabilidad de un evento**\n",
        "\n",
        "En un experimento aleatorio la probabilidad de un evento $E$\n",
        " es un numero real que varía de cero a uno, que indica la posibilidad de que el evento E ocurra este número se define como\n",
        "\n",
        "$$P(E)=\\frac{n(E)}{n(\\Omega)}$$"
      ],
      "metadata": {
        "id": "hNIa4ylWoEjm"
      }
    },
    {
      "cell_type": "markdown",
      "source": [
        "---"
      ],
      "metadata": {
        "id": "eghOjIKeLsj8"
      }
    },
    {
      "cell_type": "markdown",
      "source": [
        "##  **La función $sample$**\n",
        "\n",
        "\n",
        "Esta función  permite tomar una muestra aleatoria simple a partir de un vector con o sin reemplazamiento, su formato esta dado por\n",
        "\n",
        "\n",
        "$$sample(x,size,replace,prob)$$"
      ],
      "metadata": {
        "id": "ai8UhdbaoPpX"
      }
    },
    {
      "cell_type": "markdown",
      "source": [
        "donde\n",
        "\n",
        "$x$  : Es el vector\n",
        "\n",
        "$size$  :  Número de elementos aleatorios que se quiere elegir\n",
        "\n",
        "$replace$ : Tipo de muestreo, que puede ser FALSE(sin reemplazamiento)  o TRUE (con reemplazamiento)\n",
        "\n",
        "$prob$ :  Es la probabilidad con la que se elegirá la correpsondiente  componenente del vector que se va a muestrear\n"
      ],
      "metadata": {
        "id": "EHt691LQoiRE"
      }
    },
    {
      "cell_type": "markdown",
      "source": [
        "**Ejemplo:**  Simulación del lanzamiento de un dado\n",
        "\n",
        "\n",
        " $\\Omega=\\{1,2,3,4,5,6\\}$\n",
        ""
      ],
      "metadata": {
        "id": "Fy-daG6JovdU"
      }
    },
    {
      "cell_type": "markdown",
      "source": [
        "a)  Tomar una muestra aleatoria de tamaño 1, del espacio muestral $\\Omega$"
      ],
      "metadata": {
        "id": "YliW_iWPo81x"
      }
    },
    {
      "cell_type": "code",
      "execution_count": null,
      "metadata": {
        "colab": {
          "base_uri": "https://localhost:8080/",
          "height": 34
        },
        "id": "L7oe77fNnDia",
        "outputId": "a618746d-746a-4f5d-ec82-f28f0d9e3f59"
      },
      "outputs": [
        {
          "output_type": "display_data",
          "data": {
            "text/html": [
              "3"
            ],
            "text/markdown": "3",
            "text/latex": "3",
            "text/plain": [
              "[1] 3"
            ]
          },
          "metadata": {}
        }
      ],
      "source": [
        "dado=sample(1:6,size=1)\n",
        "dado"
      ]
    },
    {
      "cell_type": "markdown",
      "source": [
        "b)  Tomar una muestra aleatoria de tamaño 4\\, del espacio muestral $\\Omega$"
      ],
      "metadata": {
        "id": "HmQ-ksQTpZo3"
      }
    },
    {
      "cell_type": "code",
      "source": [
        "dado=sample(1:6,size=4)\n",
        "dado"
      ],
      "metadata": {
        "colab": {
          "base_uri": "https://localhost:8080/",
          "height": 34
        },
        "id": "PJZfEh42pfJQ",
        "outputId": "4fae7387-7660-4765-f5ec-1220a0d92d32"
      },
      "execution_count": null,
      "outputs": [
        {
          "output_type": "display_data",
          "data": {
            "text/html": [
              "<style>\n",
              ".list-inline {list-style: none; margin:0; padding: 0}\n",
              ".list-inline>li {display: inline-block}\n",
              ".list-inline>li:not(:last-child)::after {content: \"\\00b7\"; padding: 0 .5ex}\n",
              "</style>\n",
              "<ol class=list-inline><li>3</li><li>1</li><li>4</li><li>2</li></ol>\n"
            ],
            "text/markdown": "1. 3\n2. 1\n3. 4\n4. 2\n\n\n",
            "text/latex": "\\begin{enumerate*}\n\\item 3\n\\item 1\n\\item 4\n\\item 2\n\\end{enumerate*}\n",
            "text/plain": [
              "[1] 3 1 4 2"
            ]
          },
          "metadata": {}
        }
      ]
    },
    {
      "cell_type": "markdown",
      "source": [
        "c)  Tomar una muestra aleatoria de tamaño 10, del espacio muestral $\\Omega$"
      ],
      "metadata": {
        "id": "cG-72C4Epxvz"
      }
    },
    {
      "cell_type": "code",
      "source": [
        "dado=sample(1:6,size=10)\n",
        "dado"
      ],
      "metadata": {
        "colab": {
          "base_uri": "https://localhost:8080/",
          "height": 153
        },
        "id": "bvB6C6bXp4cO",
        "outputId": "e7d3c0ce-e34a-46d2-9a10-3d46f98ff31c"
      },
      "execution_count": null,
      "outputs": [
        {
          "output_type": "error",
          "ename": "ERROR",
          "evalue": "ignored",
          "traceback": [
            "Error in sample.int(length(x), size, replace, prob): cannot take a sample larger than the population when 'replace = FALSE'\nTraceback:\n",
            "1. sample(1:6, size = 10)",
            "2. sample.int(length(x), size, replace, prob)"
          ]
        }
      ]
    },
    {
      "cell_type": "markdown",
      "source": [
        "Muestreo con reposicion"
      ],
      "metadata": {
        "id": "smQJIX-sqG1y"
      }
    },
    {
      "cell_type": "code",
      "source": [
        "dado=sample(1:6,size=10,replace=TRUE)\n",
        "dado"
      ],
      "metadata": {
        "colab": {
          "base_uri": "https://localhost:8080/",
          "height": 34
        },
        "id": "ygyMpvoTqKvB",
        "outputId": "29dbfc8b-e815-420f-e9fb-6731da253c39"
      },
      "execution_count": null,
      "outputs": [
        {
          "output_type": "display_data",
          "data": {
            "text/html": [
              "<style>\n",
              ".list-inline {list-style: none; margin:0; padding: 0}\n",
              ".list-inline>li {display: inline-block}\n",
              ".list-inline>li:not(:last-child)::after {content: \"\\00b7\"; padding: 0 .5ex}\n",
              "</style>\n",
              "<ol class=list-inline><li>2</li><li>4</li><li>2</li><li>4</li><li>6</li><li>1</li><li>1</li><li>4</li><li>4</li><li>6</li></ol>\n"
            ],
            "text/markdown": "1. 2\n2. 4\n3. 2\n4. 4\n5. 6\n6. 1\n7. 1\n8. 4\n9. 4\n10. 6\n\n\n",
            "text/latex": "\\begin{enumerate*}\n\\item 2\n\\item 4\n\\item 2\n\\item 4\n\\item 6\n\\item 1\n\\item 1\n\\item 4\n\\item 4\n\\item 6\n\\end{enumerate*}\n",
            "text/plain": [
              " [1] 2 4 2 4 6 1 1 4 4 6"
            ]
          },
          "metadata": {}
        }
      ]
    },
    {
      "cell_type": "markdown",
      "source": [
        "**Ejemplo:**  Considerar el experimento de evaluar un articulo como defectuoso(D) o bueno (B)\n",
        "\n",
        "\n",
        " $\\Omega= \\{D,B \\}$"
      ],
      "metadata": {
        "id": "luflOZDxqaC1"
      }
    },
    {
      "cell_type": "code",
      "source": [
        "Omega=c(\"Defectuoso\",\"Bueno\")\n",
        "Omega"
      ],
      "metadata": {
        "colab": {
          "base_uri": "https://localhost:8080/",
          "height": 34
        },
        "id": "cuPYylbQqqtl",
        "outputId": "9204324a-808a-4ae6-b826-377f9176e8a4"
      },
      "execution_count": null,
      "outputs": [
        {
          "output_type": "display_data",
          "data": {
            "text/html": [
              "<style>\n",
              ".list-inline {list-style: none; margin:0; padding: 0}\n",
              ".list-inline>li {display: inline-block}\n",
              ".list-inline>li:not(:last-child)::after {content: \"\\00b7\"; padding: 0 .5ex}\n",
              "</style>\n",
              "<ol class=list-inline><li>'Defectuoso'</li><li>'Bueno'</li></ol>\n"
            ],
            "text/markdown": "1. 'Defectuoso'\n2. 'Bueno'\n\n\n",
            "text/latex": "\\begin{enumerate*}\n\\item 'Defectuoso'\n\\item 'Bueno'\n\\end{enumerate*}\n",
            "text/plain": [
              "[1] \"Defectuoso\" \"Bueno\"     "
            ]
          },
          "metadata": {}
        }
      ]
    },
    {
      "cell_type": "markdown",
      "source": [
        "Muestra de tamaño 1"
      ],
      "metadata": {
        "id": "vqNNPJSgq6Dd"
      }
    },
    {
      "cell_type": "code",
      "source": [
        "Articulo=sample(Omega,1)\n",
        "Articulo"
      ],
      "metadata": {
        "colab": {
          "base_uri": "https://localhost:8080/",
          "height": 34
        },
        "id": "u8Dwg1jHq9aL",
        "outputId": "e2ba66ba-ebbb-489e-a77f-c7e2c65347c7"
      },
      "execution_count": null,
      "outputs": [
        {
          "output_type": "display_data",
          "data": {
            "text/html": [
              "'Defectuoso'"
            ],
            "text/markdown": "'Defectuoso'",
            "text/latex": "'Defectuoso'",
            "text/plain": [
              "[1] \"Defectuoso\""
            ]
          },
          "metadata": {}
        }
      ]
    },
    {
      "cell_type": "markdown",
      "source": [
        "Muestreo con reposicion"
      ],
      "metadata": {
        "id": "SwvRKIEYrPiV"
      }
    },
    {
      "cell_type": "code",
      "source": [
        "Articulos=sample(Omega,50,replace=TRUE)\n",
        "Articulos"
      ],
      "metadata": {
        "colab": {
          "base_uri": "https://localhost:8080/",
          "height": 69
        },
        "id": "TagPYVmorS9W",
        "outputId": "d416282a-22dd-4614-9d00-0eba042e1adf"
      },
      "execution_count": null,
      "outputs": [
        {
          "output_type": "display_data",
          "data": {
            "text/html": [
              "<style>\n",
              ".list-inline {list-style: none; margin:0; padding: 0}\n",
              ".list-inline>li {display: inline-block}\n",
              ".list-inline>li:not(:last-child)::after {content: \"\\00b7\"; padding: 0 .5ex}\n",
              "</style>\n",
              "<ol class=list-inline><li>'Defectuoso'</li><li>'Defectuoso'</li><li>'Bueno'</li><li>'Defectuoso'</li><li>'Bueno'</li><li>'Bueno'</li><li>'Defectuoso'</li><li>'Bueno'</li><li>'Bueno'</li><li>'Bueno'</li><li>'Bueno'</li><li>'Bueno'</li><li>'Defectuoso'</li><li>'Defectuoso'</li><li>'Bueno'</li><li>'Defectuoso'</li><li>'Defectuoso'</li><li>'Defectuoso'</li><li>'Defectuoso'</li><li>'Bueno'</li><li>'Defectuoso'</li><li>'Bueno'</li><li>'Bueno'</li><li>'Defectuoso'</li><li>'Defectuoso'</li><li>'Bueno'</li><li>'Bueno'</li><li>'Defectuoso'</li><li>'Defectuoso'</li><li>'Defectuoso'</li><li>'Defectuoso'</li><li>'Bueno'</li><li>'Defectuoso'</li><li>'Bueno'</li><li>'Bueno'</li><li>'Defectuoso'</li><li>'Bueno'</li><li>'Defectuoso'</li><li>'Bueno'</li><li>'Bueno'</li><li>'Bueno'</li><li>'Defectuoso'</li><li>'Bueno'</li><li>'Defectuoso'</li><li>'Bueno'</li><li>'Bueno'</li><li>'Defectuoso'</li><li>'Bueno'</li><li>'Defectuoso'</li><li>'Bueno'</li></ol>\n"
            ],
            "text/markdown": "1. 'Defectuoso'\n2. 'Defectuoso'\n3. 'Bueno'\n4. 'Defectuoso'\n5. 'Bueno'\n6. 'Bueno'\n7. 'Defectuoso'\n8. 'Bueno'\n9. 'Bueno'\n10. 'Bueno'\n11. 'Bueno'\n12. 'Bueno'\n13. 'Defectuoso'\n14. 'Defectuoso'\n15. 'Bueno'\n16. 'Defectuoso'\n17. 'Defectuoso'\n18. 'Defectuoso'\n19. 'Defectuoso'\n20. 'Bueno'\n21. 'Defectuoso'\n22. 'Bueno'\n23. 'Bueno'\n24. 'Defectuoso'\n25. 'Defectuoso'\n26. 'Bueno'\n27. 'Bueno'\n28. 'Defectuoso'\n29. 'Defectuoso'\n30. 'Defectuoso'\n31. 'Defectuoso'\n32. 'Bueno'\n33. 'Defectuoso'\n34. 'Bueno'\n35. 'Bueno'\n36. 'Defectuoso'\n37. 'Bueno'\n38. 'Defectuoso'\n39. 'Bueno'\n40. 'Bueno'\n41. 'Bueno'\n42. 'Defectuoso'\n43. 'Bueno'\n44. 'Defectuoso'\n45. 'Bueno'\n46. 'Bueno'\n47. 'Defectuoso'\n48. 'Bueno'\n49. 'Defectuoso'\n50. 'Bueno'\n\n\n",
            "text/latex": "\\begin{enumerate*}\n\\item 'Defectuoso'\n\\item 'Defectuoso'\n\\item 'Bueno'\n\\item 'Defectuoso'\n\\item 'Bueno'\n\\item 'Bueno'\n\\item 'Defectuoso'\n\\item 'Bueno'\n\\item 'Bueno'\n\\item 'Bueno'\n\\item 'Bueno'\n\\item 'Bueno'\n\\item 'Defectuoso'\n\\item 'Defectuoso'\n\\item 'Bueno'\n\\item 'Defectuoso'\n\\item 'Defectuoso'\n\\item 'Defectuoso'\n\\item 'Defectuoso'\n\\item 'Bueno'\n\\item 'Defectuoso'\n\\item 'Bueno'\n\\item 'Bueno'\n\\item 'Defectuoso'\n\\item 'Defectuoso'\n\\item 'Bueno'\n\\item 'Bueno'\n\\item 'Defectuoso'\n\\item 'Defectuoso'\n\\item 'Defectuoso'\n\\item 'Defectuoso'\n\\item 'Bueno'\n\\item 'Defectuoso'\n\\item 'Bueno'\n\\item 'Bueno'\n\\item 'Defectuoso'\n\\item 'Bueno'\n\\item 'Defectuoso'\n\\item 'Bueno'\n\\item 'Bueno'\n\\item 'Bueno'\n\\item 'Defectuoso'\n\\item 'Bueno'\n\\item 'Defectuoso'\n\\item 'Bueno'\n\\item 'Bueno'\n\\item 'Defectuoso'\n\\item 'Bueno'\n\\item 'Defectuoso'\n\\item 'Bueno'\n\\end{enumerate*}\n",
            "text/plain": [
              " [1] \"Defectuoso\" \"Defectuoso\" \"Bueno\"      \"Defectuoso\" \"Bueno\"     \n",
              " [6] \"Bueno\"      \"Defectuoso\" \"Bueno\"      \"Bueno\"      \"Bueno\"     \n",
              "[11] \"Bueno\"      \"Bueno\"      \"Defectuoso\" \"Defectuoso\" \"Bueno\"     \n",
              "[16] \"Defectuoso\" \"Defectuoso\" \"Defectuoso\" \"Defectuoso\" \"Bueno\"     \n",
              "[21] \"Defectuoso\" \"Bueno\"      \"Bueno\"      \"Defectuoso\" \"Defectuoso\"\n",
              "[26] \"Bueno\"      \"Bueno\"      \"Defectuoso\" \"Defectuoso\" \"Defectuoso\"\n",
              "[31] \"Defectuoso\" \"Bueno\"      \"Defectuoso\" \"Bueno\"      \"Bueno\"     \n",
              "[36] \"Defectuoso\" \"Bueno\"      \"Defectuoso\" \"Bueno\"      \"Bueno\"     \n",
              "[41] \"Bueno\"      \"Defectuoso\" \"Bueno\"      \"Defectuoso\" \"Bueno\"     \n",
              "[46] \"Bueno\"      \"Defectuoso\" \"Bueno\"      \"Defectuoso\" \"Bueno\"     "
            ]
          },
          "metadata": {}
        }
      ]
    },
    {
      "cell_type": "markdown",
      "source": [
        "Tabulacion de los valores muestreados"
      ],
      "metadata": {
        "id": "DEbG3lOcsZU9"
      }
    },
    {
      "cell_type": "code",
      "source": [
        "table(Articulos)"
      ],
      "metadata": {
        "colab": {
          "base_uri": "https://localhost:8080/",
          "height": 72
        },
        "id": "OSelgeKTsbB2",
        "outputId": "69b3985e-7299-4d63-d0ca-8e89543bc0f4"
      },
      "execution_count": null,
      "outputs": [
        {
          "output_type": "display_data",
          "data": {
            "text/plain": [
              "Articulos\n",
              "     Bueno Defectuoso \n",
              "        26         24 "
            ]
          },
          "metadata": {}
        }
      ]
    },
    {
      "cell_type": "markdown",
      "source": [
        "Calculamos las frecuencias relativas del experimento, que es equivalente a la probabilidad objetiva"
      ],
      "metadata": {
        "id": "G9e4iLFFs80W"
      }
    },
    {
      "cell_type": "code",
      "source": [
        "n=length(Articulos)\n",
        "n"
      ],
      "metadata": {
        "colab": {
          "base_uri": "https://localhost:8080/",
          "height": 34
        },
        "id": "TE74jZSps7GO",
        "outputId": "4d101be5-3dbe-4343-d73b-c10c1f05c822"
      },
      "execution_count": null,
      "outputs": [
        {
          "output_type": "display_data",
          "data": {
            "text/html": [
              "50"
            ],
            "text/markdown": "50",
            "text/latex": "50",
            "text/plain": [
              "[1] 50"
            ]
          },
          "metadata": {}
        }
      ]
    },
    {
      "cell_type": "code",
      "source": [
        "table(Articulos)/n"
      ],
      "metadata": {
        "colab": {
          "base_uri": "https://localhost:8080/",
          "height": 72
        },
        "id": "a9IPRnq6sYT8",
        "outputId": "f9730fa7-970f-4192-df4d-290d694c8590"
      },
      "execution_count": null,
      "outputs": [
        {
          "output_type": "display_data",
          "data": {
            "text/plain": [
              "Articulos\n",
              "     Bueno Defectuoso \n",
              "      0.52       0.48 "
            ]
          },
          "metadata": {}
        }
      ]
    },
    {
      "cell_type": "markdown",
      "source": [
        "**Ejemplo:**"
      ],
      "metadata": {
        "id": "OO_9L1G5tqFi"
      }
    },
    {
      "cell_type": "code",
      "source": [
        "Omega=c(\"DDD\",\"DDB\",\"DBD\",\"DBB\",\"BDD\",\"BDB\",\"BBD\",\"BBB\")\n",
        "Omega"
      ],
      "metadata": {
        "colab": {
          "base_uri": "https://localhost:8080/",
          "height": 34
        },
        "id": "_M7huA0Ot0Xv",
        "outputId": "1818f22f-6126-4b51-94b2-8a3e84418ae2"
      },
      "execution_count": null,
      "outputs": [
        {
          "output_type": "display_data",
          "data": {
            "text/html": [
              "<style>\n",
              ".list-inline {list-style: none; margin:0; padding: 0}\n",
              ".list-inline>li {display: inline-block}\n",
              ".list-inline>li:not(:last-child)::after {content: \"\\00b7\"; padding: 0 .5ex}\n",
              "</style>\n",
              "<ol class=list-inline><li>'DDD'</li><li>'DDB'</li><li>'DBD'</li><li>'DBB'</li><li>'BDD'</li><li>'BDB'</li><li>'BBD'</li><li>'BBB'</li></ol>\n"
            ],
            "text/markdown": "1. 'DDD'\n2. 'DDB'\n3. 'DBD'\n4. 'DBB'\n5. 'BDD'\n6. 'BDB'\n7. 'BBD'\n8. 'BBB'\n\n\n",
            "text/latex": "\\begin{enumerate*}\n\\item 'DDD'\n\\item 'DDB'\n\\item 'DBD'\n\\item 'DBB'\n\\item 'BDD'\n\\item 'BDB'\n\\item 'BBD'\n\\item 'BBB'\n\\end{enumerate*}\n",
            "text/plain": [
              "[1] \"DDD\" \"DDB\" \"DBD\" \"DBB\" \"BDD\" \"BDB\" \"BBD\" \"BBB\""
            ]
          },
          "metadata": {}
        }
      ]
    },
    {
      "cell_type": "code",
      "source": [
        "muestra=sample(Omega,4)\n",
        "muestra"
      ],
      "metadata": {
        "colab": {
          "base_uri": "https://localhost:8080/",
          "height": 34
        },
        "id": "GVaI1ZT1uh_V",
        "outputId": "382c5e61-8231-4671-cff8-76683e878e15"
      },
      "execution_count": null,
      "outputs": [
        {
          "output_type": "display_data",
          "data": {
            "text/html": [
              "<style>\n",
              ".list-inline {list-style: none; margin:0; padding: 0}\n",
              ".list-inline>li {display: inline-block}\n",
              ".list-inline>li:not(:last-child)::after {content: \"\\00b7\"; padding: 0 .5ex}\n",
              "</style>\n",
              "<ol class=list-inline><li>'BDB'</li><li>'DDD'</li><li>'DBB'</li><li>'DBD'</li></ol>\n"
            ],
            "text/markdown": "1. 'BDB'\n2. 'DDD'\n3. 'DBB'\n4. 'DBD'\n\n\n",
            "text/latex": "\\begin{enumerate*}\n\\item 'BDB'\n\\item 'DDD'\n\\item 'DBB'\n\\item 'DBD'\n\\end{enumerate*}\n",
            "text/plain": [
              "[1] \"BDB\" \"DDD\" \"DBB\" \"DBD\""
            ]
          },
          "metadata": {}
        }
      ]
    },
    {
      "cell_type": "code",
      "source": [
        "muestra=sample(Omega,8)\n",
        "muestra"
      ],
      "metadata": {
        "colab": {
          "base_uri": "https://localhost:8080/",
          "height": 34
        },
        "id": "46UPrJgsu1ur",
        "outputId": "89e0a764-12ac-469b-fc6e-476b9235fc3f"
      },
      "execution_count": null,
      "outputs": [
        {
          "output_type": "display_data",
          "data": {
            "text/html": [
              "<style>\n",
              ".list-inline {list-style: none; margin:0; padding: 0}\n",
              ".list-inline>li {display: inline-block}\n",
              ".list-inline>li:not(:last-child)::after {content: \"\\00b7\"; padding: 0 .5ex}\n",
              "</style>\n",
              "<ol class=list-inline><li>'BBB'</li><li>'BDB'</li><li>'BBD'</li><li>'DDD'</li><li>'DBD'</li><li>'DDB'</li><li>'BDD'</li><li>'DBB'</li></ol>\n"
            ],
            "text/markdown": "1. 'BBB'\n2. 'BDB'\n3. 'BBD'\n4. 'DDD'\n5. 'DBD'\n6. 'DDB'\n7. 'BDD'\n8. 'DBB'\n\n\n",
            "text/latex": "\\begin{enumerate*}\n\\item 'BBB'\n\\item 'BDB'\n\\item 'BBD'\n\\item 'DDD'\n\\item 'DBD'\n\\item 'DDB'\n\\item 'BDD'\n\\item 'DBB'\n\\end{enumerate*}\n",
            "text/plain": [
              "[1] \"BBB\" \"BDB\" \"BBD\" \"DDD\" \"DBD\" \"DDB\" \"BDD\" \"DBB\""
            ]
          },
          "metadata": {}
        }
      ]
    },
    {
      "cell_type": "code",
      "source": [
        "muestra=sample(Omega,90,replace=TRUE)\n",
        "muestra"
      ],
      "metadata": {
        "colab": {
          "base_uri": "https://localhost:8080/",
          "height": 69
        },
        "id": "4bHwnEQau7AZ",
        "outputId": "58cc4650-c1c8-40bf-a0a4-6403983f1f2d"
      },
      "execution_count": null,
      "outputs": [
        {
          "output_type": "display_data",
          "data": {
            "text/html": [
              "<style>\n",
              ".list-inline {list-style: none; margin:0; padding: 0}\n",
              ".list-inline>li {display: inline-block}\n",
              ".list-inline>li:not(:last-child)::after {content: \"\\00b7\"; padding: 0 .5ex}\n",
              "</style>\n",
              "<ol class=list-inline><li>'DBB'</li><li>'DDB'</li><li>'BDB'</li><li>'BDB'</li><li>'BBB'</li><li>'BDD'</li><li>'DDB'</li><li>'BBD'</li><li>'DDB'</li><li>'BBD'</li><li>'DBB'</li><li>'DBD'</li><li>'DDB'</li><li>'DDD'</li><li>'DBB'</li><li>'DDD'</li><li>'BBB'</li><li>'BDD'</li><li>'BBB'</li><li>'DDD'</li><li>'BBB'</li><li>'BBD'</li><li>'DBB'</li><li>'BDB'</li><li>'DDB'</li><li>'DDB'</li><li>'DDB'</li><li>'DDB'</li><li>'DBD'</li><li>'BDB'</li><li>'DDD'</li><li>'BBB'</li><li>'DBB'</li><li>'BDB'</li><li>'BDB'</li><li>'BDD'</li><li>'BBB'</li><li>'BBD'</li><li>'DDB'</li><li>'BBB'</li><li>'DDB'</li><li>'BBB'</li><li>'BBD'</li><li>'BDB'</li><li>'BBD'</li><li>'DDD'</li><li>'DBD'</li><li>'DDB'</li><li>'DBD'</li><li>'BBD'</li><li>'DDD'</li><li>'DDB'</li><li>'DDD'</li><li>'BBB'</li><li>'BDB'</li><li>'BBD'</li><li>'DDD'</li><li>'DBB'</li><li>'BDD'</li><li>'DBB'</li><li>'BDB'</li><li>'BBD'</li><li>'DBD'</li><li>'BDD'</li><li>'BDD'</li><li>'DBB'</li><li>'DBD'</li><li>'DBD'</li><li>'BDD'</li><li>'DDB'</li><li>'DDD'</li><li>'DDD'</li><li>'DBB'</li><li>'DDB'</li><li>'DDD'</li><li>'DDB'</li><li>'BDD'</li><li>'DDD'</li><li>'BDD'</li><li>'BDB'</li><li>'DDD'</li><li>'DDB'</li><li>'BBB'</li><li>'BDD'</li><li>'BDD'</li><li>'DDD'</li><li>'BDD'</li><li>'BDD'</li><li>'DBD'</li><li>'BDB'</li></ol>\n"
            ],
            "text/markdown": "1. 'DBB'\n2. 'DDB'\n3. 'BDB'\n4. 'BDB'\n5. 'BBB'\n6. 'BDD'\n7. 'DDB'\n8. 'BBD'\n9. 'DDB'\n10. 'BBD'\n11. 'DBB'\n12. 'DBD'\n13. 'DDB'\n14. 'DDD'\n15. 'DBB'\n16. 'DDD'\n17. 'BBB'\n18. 'BDD'\n19. 'BBB'\n20. 'DDD'\n21. 'BBB'\n22. 'BBD'\n23. 'DBB'\n24. 'BDB'\n25. 'DDB'\n26. 'DDB'\n27. 'DDB'\n28. 'DDB'\n29. 'DBD'\n30. 'BDB'\n31. 'DDD'\n32. 'BBB'\n33. 'DBB'\n34. 'BDB'\n35. 'BDB'\n36. 'BDD'\n37. 'BBB'\n38. 'BBD'\n39. 'DDB'\n40. 'BBB'\n41. 'DDB'\n42. 'BBB'\n43. 'BBD'\n44. 'BDB'\n45. 'BBD'\n46. 'DDD'\n47. 'DBD'\n48. 'DDB'\n49. 'DBD'\n50. 'BBD'\n51. 'DDD'\n52. 'DDB'\n53. 'DDD'\n54. 'BBB'\n55. 'BDB'\n56. 'BBD'\n57. 'DDD'\n58. 'DBB'\n59. 'BDD'\n60. 'DBB'\n61. 'BDB'\n62. 'BBD'\n63. 'DBD'\n64. 'BDD'\n65. 'BDD'\n66. 'DBB'\n67. 'DBD'\n68. 'DBD'\n69. 'BDD'\n70. 'DDB'\n71. 'DDD'\n72. 'DDD'\n73. 'DBB'\n74. 'DDB'\n75. 'DDD'\n76. 'DDB'\n77. 'BDD'\n78. 'DDD'\n79. 'BDD'\n80. 'BDB'\n81. 'DDD'\n82. 'DDB'\n83. 'BBB'\n84. 'BDD'\n85. 'BDD'\n86. 'DDD'\n87. 'BDD'\n88. 'BDD'\n89. 'DBD'\n90. 'BDB'\n\n\n",
            "text/latex": "\\begin{enumerate*}\n\\item 'DBB'\n\\item 'DDB'\n\\item 'BDB'\n\\item 'BDB'\n\\item 'BBB'\n\\item 'BDD'\n\\item 'DDB'\n\\item 'BBD'\n\\item 'DDB'\n\\item 'BBD'\n\\item 'DBB'\n\\item 'DBD'\n\\item 'DDB'\n\\item 'DDD'\n\\item 'DBB'\n\\item 'DDD'\n\\item 'BBB'\n\\item 'BDD'\n\\item 'BBB'\n\\item 'DDD'\n\\item 'BBB'\n\\item 'BBD'\n\\item 'DBB'\n\\item 'BDB'\n\\item 'DDB'\n\\item 'DDB'\n\\item 'DDB'\n\\item 'DDB'\n\\item 'DBD'\n\\item 'BDB'\n\\item 'DDD'\n\\item 'BBB'\n\\item 'DBB'\n\\item 'BDB'\n\\item 'BDB'\n\\item 'BDD'\n\\item 'BBB'\n\\item 'BBD'\n\\item 'DDB'\n\\item 'BBB'\n\\item 'DDB'\n\\item 'BBB'\n\\item 'BBD'\n\\item 'BDB'\n\\item 'BBD'\n\\item 'DDD'\n\\item 'DBD'\n\\item 'DDB'\n\\item 'DBD'\n\\item 'BBD'\n\\item 'DDD'\n\\item 'DDB'\n\\item 'DDD'\n\\item 'BBB'\n\\item 'BDB'\n\\item 'BBD'\n\\item 'DDD'\n\\item 'DBB'\n\\item 'BDD'\n\\item 'DBB'\n\\item 'BDB'\n\\item 'BBD'\n\\item 'DBD'\n\\item 'BDD'\n\\item 'BDD'\n\\item 'DBB'\n\\item 'DBD'\n\\item 'DBD'\n\\item 'BDD'\n\\item 'DDB'\n\\item 'DDD'\n\\item 'DDD'\n\\item 'DBB'\n\\item 'DDB'\n\\item 'DDD'\n\\item 'DDB'\n\\item 'BDD'\n\\item 'DDD'\n\\item 'BDD'\n\\item 'BDB'\n\\item 'DDD'\n\\item 'DDB'\n\\item 'BBB'\n\\item 'BDD'\n\\item 'BDD'\n\\item 'DDD'\n\\item 'BDD'\n\\item 'BDD'\n\\item 'DBD'\n\\item 'BDB'\n\\end{enumerate*}\n",
            "text/plain": [
              " [1] \"DBB\" \"DDB\" \"BDB\" \"BDB\" \"BBB\" \"BDD\" \"DDB\" \"BBD\" \"DDB\" \"BBD\" \"DBB\" \"DBD\"\n",
              "[13] \"DDB\" \"DDD\" \"DBB\" \"DDD\" \"BBB\" \"BDD\" \"BBB\" \"DDD\" \"BBB\" \"BBD\" \"DBB\" \"BDB\"\n",
              "[25] \"DDB\" \"DDB\" \"DDB\" \"DDB\" \"DBD\" \"BDB\" \"DDD\" \"BBB\" \"DBB\" \"BDB\" \"BDB\" \"BDD\"\n",
              "[37] \"BBB\" \"BBD\" \"DDB\" \"BBB\" \"DDB\" \"BBB\" \"BBD\" \"BDB\" \"BBD\" \"DDD\" \"DBD\" \"DDB\"\n",
              "[49] \"DBD\" \"BBD\" \"DDD\" \"DDB\" \"DDD\" \"BBB\" \"BDB\" \"BBD\" \"DDD\" \"DBB\" \"BDD\" \"DBB\"\n",
              "[61] \"BDB\" \"BBD\" \"DBD\" \"BDD\" \"BDD\" \"DBB\" \"DBD\" \"DBD\" \"BDD\" \"DDB\" \"DDD\" \"DDD\"\n",
              "[73] \"DBB\" \"DDB\" \"DDD\" \"DDB\" \"BDD\" \"DDD\" \"BDD\" \"BDB\" \"DDD\" \"DDB\" \"BBB\" \"BDD\"\n",
              "[85] \"BDD\" \"DDD\" \"BDD\" \"BDD\" \"DBD\" \"BDB\""
            ]
          },
          "metadata": {}
        }
      ]
    },
    {
      "cell_type": "code",
      "source": [
        "n=length(muestra)\n",
        "n"
      ],
      "metadata": {
        "colab": {
          "base_uri": "https://localhost:8080/",
          "height": 34
        },
        "id": "D3lAsGPEvMJf",
        "outputId": "f2658afa-7603-4e1b-d233-54ad7c44c93d"
      },
      "execution_count": null,
      "outputs": [
        {
          "output_type": "display_data",
          "data": {
            "text/html": [
              "90"
            ],
            "text/markdown": "90",
            "text/latex": "90",
            "text/plain": [
              "[1] 90"
            ]
          },
          "metadata": {}
        }
      ]
    },
    {
      "cell_type": "code",
      "source": [
        "table(muestra)"
      ],
      "metadata": {
        "colab": {
          "base_uri": "https://localhost:8080/",
          "height": 72
        },
        "id": "ll6MNXMDvTqL",
        "outputId": "0fcaccca-5f01-4ce6-f354-b877f3220d26"
      },
      "execution_count": null,
      "outputs": [
        {
          "output_type": "display_data",
          "data": {
            "text/plain": [
              "muestra\n",
              "BBB BBD BDB BDD DBB DBD DDB DDD \n",
              " 10   9  11  13   9   8  16  14 "
            ]
          },
          "metadata": {}
        }
      ]
    },
    {
      "cell_type": "code",
      "source": [
        "table(muestra)/n"
      ],
      "metadata": {
        "colab": {
          "base_uri": "https://localhost:8080/",
          "height": 108
        },
        "id": "yY1GY02bvf9p",
        "outputId": "3045fb14-0db6-4a09-9e79-0488d00362b0"
      },
      "execution_count": null,
      "outputs": [
        {
          "output_type": "display_data",
          "data": {
            "text/plain": [
              "muestra\n",
              "       BBB        BBD        BDB        BDD        DBB        DBD        DDB \n",
              "0.11111111 0.10000000 0.12222222 0.14444444 0.10000000 0.08888889 0.17777778 \n",
              "       DDD \n",
              "0.15555556 "
            ]
          },
          "metadata": {}
        }
      ]
    },
    {
      "cell_type": "markdown",
      "source": [
        "## **Factorial y numero combinatorio**\n",
        "\n",
        "\n",
        "El factorial de un número se calcula con el comando  $factorial(n)$  y el numero combinatorio con el comando $choose(n,k)$\n",
        "\n",
        "\n",
        "\n",
        "|$Nombre$|$Simbolo$|$Comando$|\n",
        "|:--|:--|:--|\n",
        "|$Factorial$|$n!$|$factorial(n)$|\n",
        "|$Número \\ combinatorio$|$n \\choose k$|$choose(n,k)$|\n"
      ],
      "metadata": {
        "id": "TZKMgX1bv5Ub"
      }
    },
    {
      "cell_type": "markdown",
      "source": [
        "**Ejemplo:**"
      ],
      "metadata": {
        "id": "01t4UoF6wNzG"
      }
    },
    {
      "cell_type": "markdown",
      "source": [
        "Calcular $5!$"
      ],
      "metadata": {
        "id": "uZIWoD6Bwmre"
      }
    },
    {
      "cell_type": "code",
      "source": [
        "factorial(5)"
      ],
      "metadata": {
        "colab": {
          "base_uri": "https://localhost:8080/",
          "height": 34
        },
        "id": "nuAEbr_ywXvH",
        "outputId": "c85f2c31-c542-401b-8841-de16bcae7bc9"
      },
      "execution_count": null,
      "outputs": [
        {
          "output_type": "display_data",
          "data": {
            "text/html": [
              "120"
            ],
            "text/markdown": "120",
            "text/latex": "120",
            "text/plain": [
              "[1] 120"
            ]
          },
          "metadata": {}
        }
      ]
    },
    {
      "cell_type": "markdown",
      "source": [
        "Calcular $7 \\choose 2$"
      ],
      "metadata": {
        "id": "MvOWwJ10wvHc"
      }
    },
    {
      "cell_type": "code",
      "source": [
        "choose(7,2)"
      ],
      "metadata": {
        "colab": {
          "base_uri": "https://localhost:8080/",
          "height": 34
        },
        "id": "msqM6ai5wemW",
        "outputId": "8eaf1d94-f9bb-466a-8f9f-42644620c8d0"
      },
      "execution_count": null,
      "outputs": [
        {
          "output_type": "display_data",
          "data": {
            "text/html": [
              "21"
            ],
            "text/markdown": "21",
            "text/latex": "21",
            "text/plain": [
              "[1] 21"
            ]
          },
          "metadata": {}
        }
      ]
    }
  ]
}