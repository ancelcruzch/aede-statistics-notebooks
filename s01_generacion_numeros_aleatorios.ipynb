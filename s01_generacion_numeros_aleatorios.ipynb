{
 "cells": [
  {
   "cell_type": "markdown",
   "metadata": {
    "id": "hcbMgKE3fD8J"
   },
   "source": [
    "<img src=\"https://drive.google.com/uc?export=view&id=1QyjJW7NL2WDfnVZ0_MqAfH6Slkal1DJA\" width=\"150\">\n",
    "\n",
    "$\\tiny{Universidad \\ Nacional \\ de \\ San \\ Agustín \\ de \\ Arequipa \\\\\n",
    "Ciencia \\ de \\ la \\ Computación \\ UNSA}$\n",
    "\n",
    "\n",
    "---"
   ]
  },
  {
   "cell_type": "markdown",
   "metadata": {
    "id": "fCx6ESSTgLTB"
   },
   "source": [
    "# <center>  $Capítulo \\ 1$\n",
    "### <center> $Fundamentos \\ de \\ probabilidad$"
   ]
  },
  {
   "cell_type": "markdown",
   "metadata": {
    "id": "hwOWoDKSgbf1"
   },
   "source": [
    "**Sesión de Laboratorio 01:** Generación de números aleatorios\n",
    "\n",
    "**Profesor:** ......................................\n",
    "\n",
    "**Estudiante:** .........................................\n",
    "\n",
    "---\n"
   ]
  },
  {
   "cell_type": "markdown",
   "metadata": {
    "id": "NNWmPlggfShP"
   },
   "source": [
    "# **Generacion de numeros aleatorios**\n",
    "\n",
    "Los números aleatorios son la base esencial de la simulación.\n",
    "\n",
    "Usualmente, toda la aleatoriedad involucrada en el modelo se obtiene a partir de un generador de números\n",
    "aleatorios que produce una sucesión de valores que supuestamente son realizaciones\n",
    "de una secuencia de variables aleatorias independientes e idénticamente distribuidas $U(0; 1)$.\n",
    "\n",
    "Posteriormente estos números aleatorios se transforman convenientemente para simular las diferentes distribuciones de probabilidad que se requieran en el modelo.\n",
    "\n",
    "En general, la validez de los métodos de transformación dependen fuertemente\n",
    "de la hipótesis de que los valores de partida son realizaciones de variables aleatorias $U(0; 1)$, pero esta suposición realmente no se cumple, puesto que los generadores de números aleatorios son simplementes programas determinísticos que intentan reproducir una sucesión de valores que parezca aleatoria.\n",
    "\n",
    "\n",
    "\n",
    "\n"
   ]
  },
  {
   "cell_type": "markdown",
   "metadata": {
    "id": "1QyzLJ14gN8c"
   },
   "source": [
    "---"
   ]
  },
  {
   "cell_type": "markdown",
   "metadata": {
    "id": "adbkJRxDgT00"
   },
   "source": [
    "## **Técnicas para generar numeros aleatorios**\n",
    "\n",
    "**Método de congruencia lineal**\n",
    "\n",
    "Este produce una secuencia de enteros $x_1,x_2,…$ entre $0$ y $m-1$ de acuerdo a la siguiente relación recursiva:\n",
    "\n",
    "$x_{i+1}=(a*x_i+c) mod \\ m     \\ \\ i=0,1,2,…$\n",
    "\n",
    "\\\\\n",
    "\n",
    " $x_0$    es llamado semilla\n",
    "\n",
    "  $a$    es llamado constante multiplicativa\n",
    "\n",
    "  $c$    es el incremento\n",
    "\n",
    "  $m$   modulo\n",
    "\n",
    "\\\\\n",
    "\n",
    "El número aleatorio se encuentra como:\n",
    "\n",
    "$R_i=x_i/m$\n",
    "\n",
    "\n",
    "\n"
   ]
  },
  {
   "cell_type": "markdown",
   "metadata": {
    "id": "RvqK4C2Dj7u8"
   },
   "source": [
    "---"
   ]
  },
  {
   "cell_type": "markdown",
   "metadata": {
    "id": "bTrGis5si-8k"
   },
   "source": [
    "**Ejemplo:** Tomando los valores: $x_0=27,  a=17, c=43,     m=100$"
   ]
  },
  {
   "cell_type": "code",
   "execution_count": 1,
   "metadata": {
    "colab": {
     "base_uri": "https://localhost:8080/",
     "height": 34
    },
    "id": "SMj747QvgQNk",
    "outputId": "3351e797-41f2-4559-fb9b-bc2f4547cd7e"
   },
   "outputs": [
    {
     "data": {
      "text/html": [
       "2"
      ],
      "text/latex": [
       "2"
      ],
      "text/markdown": [
       "2"
      ],
      "text/plain": [
       "[1] 2"
      ]
     },
     "metadata": {},
     "output_type": "display_data"
    }
   ],
   "source": [
    "x0=27\n",
    "a=17\n",
    "c=43\n",
    "m=100\n",
    "x1=(a*x0+c)%%m\n",
    "x1"
   ]
  },
  {
   "cell_type": "code",
   "execution_count": 2,
   "metadata": {
    "colab": {
     "base_uri": "https://localhost:8080/",
     "height": 34
    },
    "id": "qxTFd3SNdBZ9",
    "outputId": "a0417c00-d3e0-4170-a913-fce2a27c6b64"
   },
   "outputs": [
    {
     "data": {
      "text/html": [
       "0.02"
      ],
      "text/latex": [
       "0.02"
      ],
      "text/markdown": [
       "0.02"
      ],
      "text/plain": [
       "[1] 0.02"
      ]
     },
     "metadata": {},
     "output_type": "display_data"
    }
   ],
   "source": [
    "R1=x1/m\n",
    "R1"
   ]
  },
  {
   "cell_type": "code",
   "execution_count": null,
   "metadata": {
    "colab": {
     "base_uri": "https://localhost:8080/",
     "height": 34
    },
    "id": "2RTDaXNABuKE",
    "outputId": "744382f9-c3cd-48b6-c2fa-4c6b2ae6cfa1"
   },
   "outputs": [
    {
     "data": {
      "text/html": [
       "77"
      ],
      "text/latex": [
       "77"
      ],
      "text/markdown": [
       "77"
      ],
      "text/plain": [
       "[1] 77"
      ]
     },
     "metadata": {},
     "output_type": "display_data"
    }
   ],
   "source": [
    "x2=(a*x1+c)%%m\n",
    "x2"
   ]
  },
  {
   "cell_type": "code",
   "execution_count": null,
   "metadata": {
    "colab": {
     "base_uri": "https://localhost:8080/",
     "height": 34
    },
    "id": "gniOnMg0BvFW",
    "outputId": "617c14e8-ba4b-4c98-855c-4345b47bd888"
   },
   "outputs": [
    {
     "data": {
      "text/html": [
       "0.77"
      ],
      "text/latex": [
       "0.77"
      ],
      "text/markdown": [
       "0.77"
      ],
      "text/plain": [
       "[1] 0.77"
      ]
     },
     "metadata": {},
     "output_type": "display_data"
    }
   ],
   "source": [
    "R2=x2/m\n",
    "R2"
   ]
  },
  {
   "cell_type": "code",
   "execution_count": null,
   "metadata": {
    "colab": {
     "base_uri": "https://localhost:8080/",
     "height": 34
    },
    "id": "K63MjTfyCkX7",
    "outputId": "18ce7bd6-ec49-4078-d8d0-0112a9f01c52"
   },
   "outputs": [
    {
     "data": {
      "text/html": [
       "52"
      ],
      "text/latex": [
       "52"
      ],
      "text/markdown": [
       "52"
      ],
      "text/plain": [
       "[1] 52"
      ]
     },
     "metadata": {},
     "output_type": "display_data"
    }
   ],
   "source": [
    "x3=(a*x2+c)%%m\n",
    "x3"
   ]
  },
  {
   "cell_type": "code",
   "execution_count": null,
   "metadata": {
    "colab": {
     "base_uri": "https://localhost:8080/",
     "height": 34
    },
    "id": "jd9xvgtTBvzZ",
    "outputId": "b218a60e-d102-4c57-aaca-d6867a35d852"
   },
   "outputs": [
    {
     "data": {
      "text/html": [
       "0.52"
      ],
      "text/latex": [
       "0.52"
      ],
      "text/markdown": [
       "0.52"
      ],
      "text/plain": [
       "[1] 0.52"
      ]
     },
     "metadata": {},
     "output_type": "display_data"
    }
   ],
   "source": [
    "R3=x3/m\n",
    "R3"
   ]
  },
  {
   "cell_type": "markdown",
   "metadata": {
    "id": "L6-PVv1OgRCa"
   },
   "source": [
    "**Método de congruencial multiplicativo**\n",
    "\n",
    "Para la relación recursiva:\n",
    "\n",
    "$x_{i+1}=(a*x_i+c) mod \\ m  \\  \\  i=0,1,2,…$\n",
    "\n",
    " si $c=0$  el generador se denomina multiplicativo\n",
    "\n",
    "$x_{i+1}=a*x_i  mod \\ m   \\   \\ i=0,1,2,…$\n",
    "\n",
    "\n",
    "\n"
   ]
  },
  {
   "cell_type": "markdown",
   "metadata": {
    "id": "oLAbUobwlioj"
   },
   "source": [
    "---"
   ]
  },
  {
   "cell_type": "markdown",
   "metadata": {
    "id": "jUqbWs2UmCIr"
   },
   "source": [
    "**Ejemplo:**\n",
    "$x_0=2, a=3,m=32$"
   ]
  },
  {
   "cell_type": "code",
   "execution_count": null,
   "metadata": {
    "colab": {
     "base_uri": "https://localhost:8080/",
     "height": 34
    },
    "id": "2FZapY4ogRP-",
    "outputId": "0f4b9bc3-3594-4bfd-bfe6-cbd044af6a69"
   },
   "outputs": [
    {
     "data": {
      "text/html": [
       "6"
      ],
      "text/latex": [
       "6"
      ],
      "text/markdown": [
       "6"
      ],
      "text/plain": [
       "[1] 6"
      ]
     },
     "metadata": {},
     "output_type": "display_data"
    }
   ],
   "source": [
    "x0=2\n",
    "a=3\n",
    "m=32\n",
    "x1=(a*x0)%%m\n",
    "x1"
   ]
  },
  {
   "cell_type": "code",
   "execution_count": null,
   "metadata": {
    "colab": {
     "base_uri": "https://localhost:8080/",
     "height": 34
    },
    "id": "zn54715_D5Tq",
    "outputId": "e161b148-f667-4520-fd02-8acf12e219a8"
   },
   "outputs": [
    {
     "data": {
      "text/html": [
       "0.1875"
      ],
      "text/latex": [
       "0.1875"
      ],
      "text/markdown": [
       "0.1875"
      ],
      "text/plain": [
       "[1] 0.1875"
      ]
     },
     "metadata": {},
     "output_type": "display_data"
    }
   ],
   "source": [
    "R1=x1/m\n",
    "R1"
   ]
  },
  {
   "cell_type": "markdown",
   "metadata": {
    "id": "zIJfAEAelkkB"
   },
   "source": [
    "## **Generador de números aleatorios**\n",
    "\n",
    "\n",
    "* Los números aleatorios son calculados a partir de una semilla(seed) y una fórmula.\n",
    "* Si el método es conocido, entonces la secuencia de números  random puede ser replicada.\n",
    "* En la práctica ninguna función produce datos aleatorios verdaderos las funciones producen números pseudo-aleatorios\n",
    "\n",
    "\n",
    "\n",
    "\n"
   ]
  },
  {
   "cell_type": "markdown",
   "metadata": {
    "id": "O35LTmptfTCk"
   },
   "source": [
    "# **Aplicaciones**"
   ]
  },
  {
   "cell_type": "markdown",
   "metadata": {
    "id": "7R6CYT9SL9hO"
   },
   "source": [
    "# **Muestreo aleatorio simple**"
   ]
  },
  {
   "cell_type": "markdown",
   "metadata": {
    "id": "im4oyg1DMGyk"
   },
   "source": [
    "Generacion de numeros aleatorios usando la instruccion $sample$"
   ]
  },
  {
   "cell_type": "code",
   "execution_count": null,
   "metadata": {
    "colab": {
     "base_uri": "https://localhost:8080/",
     "height": 34
    },
    "id": "HRfe8bJQLusy",
    "outputId": "345013c6-bb88-4343-b94f-f975a70bb46f"
   },
   "outputs": [
    {
     "data": {
      "text/html": [
       "<style>\n",
       ".list-inline {list-style: none; margin:0; padding: 0}\n",
       ".list-inline>li {display: inline-block}\n",
       ".list-inline>li:not(:last-child)::after {content: \"\\00b7\"; padding: 0 .5ex}\n",
       "</style>\n",
       "<ol class=list-inline><li>1</li><li>2</li><li>3</li><li>4</li><li>5</li><li>6</li><li>7</li><li>8</li><li>9</li><li>10</li><li>11</li><li>12</li></ol>\n"
      ],
      "text/latex": [
       "\\begin{enumerate*}\n",
       "\\item 1\n",
       "\\item 2\n",
       "\\item 3\n",
       "\\item 4\n",
       "\\item 5\n",
       "\\item 6\n",
       "\\item 7\n",
       "\\item 8\n",
       "\\item 9\n",
       "\\item 10\n",
       "\\item 11\n",
       "\\item 12\n",
       "\\end{enumerate*}\n"
      ],
      "text/markdown": [
       "1. 1\n",
       "2. 2\n",
       "3. 3\n",
       "4. 4\n",
       "5. 5\n",
       "6. 6\n",
       "7. 7\n",
       "8. 8\n",
       "9. 9\n",
       "10. 10\n",
       "11. 11\n",
       "12. 12\n",
       "\n",
       "\n"
      ],
      "text/plain": [
       " [1]  1  2  3  4  5  6  7  8  9 10 11 12"
      ]
     },
     "metadata": {},
     "output_type": "display_data"
    }
   ],
   "source": [
    "x=1:12\n",
    "x"
   ]
  },
  {
   "cell_type": "code",
   "execution_count": null,
   "metadata": {
    "colab": {
     "base_uri": "https://localhost:8080/",
     "height": 34
    },
    "id": "UkQV1UgUOELr",
    "outputId": "a44dd864-cbf3-45b9-cc1b-c883b87cace5"
   },
   "outputs": [
    {
     "data": {
      "text/html": [
       "<style>\n",
       ".list-inline {list-style: none; margin:0; padding: 0}\n",
       ".list-inline>li {display: inline-block}\n",
       ".list-inline>li:not(:last-child)::after {content: \"\\00b7\"; padding: 0 .5ex}\n",
       "</style>\n",
       "<ol class=list-inline><li>3</li><li>7</li><li>5</li><li>11</li></ol>\n"
      ],
      "text/latex": [
       "\\begin{enumerate*}\n",
       "\\item 3\n",
       "\\item 7\n",
       "\\item 5\n",
       "\\item 11\n",
       "\\end{enumerate*}\n"
      ],
      "text/markdown": [
       "1. 3\n",
       "2. 7\n",
       "3. 5\n",
       "4. 11\n",
       "\n",
       "\n"
      ],
      "text/plain": [
       "[1]  3  7  5 11"
      ]
     },
     "metadata": {},
     "output_type": "display_data"
    }
   ],
   "source": [
    "sample(x,4)"
   ]
  },
  {
   "cell_type": "markdown",
   "metadata": {
    "id": "5v96dm7tPHF0"
   },
   "source": [
    "**Usando la base de cars**"
   ]
  },
  {
   "cell_type": "code",
   "execution_count": null,
   "metadata": {
    "colab": {
     "base_uri": "https://localhost:8080/",
     "height": 1000
    },
    "id": "9sV8hWjUPF3E",
    "outputId": "8adfc958-7ea9-4d52-dfca-167659c7b0bc"
   },
   "outputs": [
    {
     "data": {
      "text/html": [
       "<table class=\"dataframe\">\n",
       "<caption>A data.frame: 50 × 2</caption>\n",
       "<thead>\n",
       "\t<tr><th scope=col>speed</th><th scope=col>dist</th></tr>\n",
       "\t<tr><th scope=col>&lt;dbl&gt;</th><th scope=col>&lt;dbl&gt;</th></tr>\n",
       "</thead>\n",
       "<tbody>\n",
       "\t<tr><td> 4</td><td>  2</td></tr>\n",
       "\t<tr><td> 4</td><td> 10</td></tr>\n",
       "\t<tr><td> 7</td><td>  4</td></tr>\n",
       "\t<tr><td> 7</td><td> 22</td></tr>\n",
       "\t<tr><td> 8</td><td> 16</td></tr>\n",
       "\t<tr><td> 9</td><td> 10</td></tr>\n",
       "\t<tr><td>10</td><td> 18</td></tr>\n",
       "\t<tr><td>10</td><td> 26</td></tr>\n",
       "\t<tr><td>10</td><td> 34</td></tr>\n",
       "\t<tr><td>11</td><td> 17</td></tr>\n",
       "\t<tr><td>11</td><td> 28</td></tr>\n",
       "\t<tr><td>12</td><td> 14</td></tr>\n",
       "\t<tr><td>12</td><td> 20</td></tr>\n",
       "\t<tr><td>12</td><td> 24</td></tr>\n",
       "\t<tr><td>12</td><td> 28</td></tr>\n",
       "\t<tr><td>13</td><td> 26</td></tr>\n",
       "\t<tr><td>13</td><td> 34</td></tr>\n",
       "\t<tr><td>13</td><td> 34</td></tr>\n",
       "\t<tr><td>13</td><td> 46</td></tr>\n",
       "\t<tr><td>14</td><td> 26</td></tr>\n",
       "\t<tr><td>14</td><td> 36</td></tr>\n",
       "\t<tr><td>14</td><td> 60</td></tr>\n",
       "\t<tr><td>14</td><td> 80</td></tr>\n",
       "\t<tr><td>15</td><td> 20</td></tr>\n",
       "\t<tr><td>15</td><td> 26</td></tr>\n",
       "\t<tr><td>15</td><td> 54</td></tr>\n",
       "\t<tr><td>16</td><td> 32</td></tr>\n",
       "\t<tr><td>16</td><td> 40</td></tr>\n",
       "\t<tr><td>17</td><td> 32</td></tr>\n",
       "\t<tr><td>17</td><td> 40</td></tr>\n",
       "\t<tr><td>17</td><td> 50</td></tr>\n",
       "\t<tr><td>18</td><td> 42</td></tr>\n",
       "\t<tr><td>18</td><td> 56</td></tr>\n",
       "\t<tr><td>18</td><td> 76</td></tr>\n",
       "\t<tr><td>18</td><td> 84</td></tr>\n",
       "\t<tr><td>19</td><td> 36</td></tr>\n",
       "\t<tr><td>19</td><td> 46</td></tr>\n",
       "\t<tr><td>19</td><td> 68</td></tr>\n",
       "\t<tr><td>20</td><td> 32</td></tr>\n",
       "\t<tr><td>20</td><td> 48</td></tr>\n",
       "\t<tr><td>20</td><td> 52</td></tr>\n",
       "\t<tr><td>20</td><td> 56</td></tr>\n",
       "\t<tr><td>20</td><td> 64</td></tr>\n",
       "\t<tr><td>22</td><td> 66</td></tr>\n",
       "\t<tr><td>23</td><td> 54</td></tr>\n",
       "\t<tr><td>24</td><td> 70</td></tr>\n",
       "\t<tr><td>24</td><td> 92</td></tr>\n",
       "\t<tr><td>24</td><td> 93</td></tr>\n",
       "\t<tr><td>24</td><td>120</td></tr>\n",
       "\t<tr><td>25</td><td> 85</td></tr>\n",
       "</tbody>\n",
       "</table>\n"
      ],
      "text/latex": [
       "A data.frame: 50 × 2\n",
       "\\begin{tabular}{ll}\n",
       " speed & dist\\\\\n",
       " <dbl> & <dbl>\\\\\n",
       "\\hline\n",
       "\t  4 &   2\\\\\n",
       "\t  4 &  10\\\\\n",
       "\t  7 &   4\\\\\n",
       "\t  7 &  22\\\\\n",
       "\t  8 &  16\\\\\n",
       "\t  9 &  10\\\\\n",
       "\t 10 &  18\\\\\n",
       "\t 10 &  26\\\\\n",
       "\t 10 &  34\\\\\n",
       "\t 11 &  17\\\\\n",
       "\t 11 &  28\\\\\n",
       "\t 12 &  14\\\\\n",
       "\t 12 &  20\\\\\n",
       "\t 12 &  24\\\\\n",
       "\t 12 &  28\\\\\n",
       "\t 13 &  26\\\\\n",
       "\t 13 &  34\\\\\n",
       "\t 13 &  34\\\\\n",
       "\t 13 &  46\\\\\n",
       "\t 14 &  26\\\\\n",
       "\t 14 &  36\\\\\n",
       "\t 14 &  60\\\\\n",
       "\t 14 &  80\\\\\n",
       "\t 15 &  20\\\\\n",
       "\t 15 &  26\\\\\n",
       "\t 15 &  54\\\\\n",
       "\t 16 &  32\\\\\n",
       "\t 16 &  40\\\\\n",
       "\t 17 &  32\\\\\n",
       "\t 17 &  40\\\\\n",
       "\t 17 &  50\\\\\n",
       "\t 18 &  42\\\\\n",
       "\t 18 &  56\\\\\n",
       "\t 18 &  76\\\\\n",
       "\t 18 &  84\\\\\n",
       "\t 19 &  36\\\\\n",
       "\t 19 &  46\\\\\n",
       "\t 19 &  68\\\\\n",
       "\t 20 &  32\\\\\n",
       "\t 20 &  48\\\\\n",
       "\t 20 &  52\\\\\n",
       "\t 20 &  56\\\\\n",
       "\t 20 &  64\\\\\n",
       "\t 22 &  66\\\\\n",
       "\t 23 &  54\\\\\n",
       "\t 24 &  70\\\\\n",
       "\t 24 &  92\\\\\n",
       "\t 24 &  93\\\\\n",
       "\t 24 & 120\\\\\n",
       "\t 25 &  85\\\\\n",
       "\\end{tabular}\n"
      ],
      "text/markdown": [
       "\n",
       "A data.frame: 50 × 2\n",
       "\n",
       "| speed &lt;dbl&gt; | dist &lt;dbl&gt; |\n",
       "|---|---|\n",
       "|  4 |   2 |\n",
       "|  4 |  10 |\n",
       "|  7 |   4 |\n",
       "|  7 |  22 |\n",
       "|  8 |  16 |\n",
       "|  9 |  10 |\n",
       "| 10 |  18 |\n",
       "| 10 |  26 |\n",
       "| 10 |  34 |\n",
       "| 11 |  17 |\n",
       "| 11 |  28 |\n",
       "| 12 |  14 |\n",
       "| 12 |  20 |\n",
       "| 12 |  24 |\n",
       "| 12 |  28 |\n",
       "| 13 |  26 |\n",
       "| 13 |  34 |\n",
       "| 13 |  34 |\n",
       "| 13 |  46 |\n",
       "| 14 |  26 |\n",
       "| 14 |  36 |\n",
       "| 14 |  60 |\n",
       "| 14 |  80 |\n",
       "| 15 |  20 |\n",
       "| 15 |  26 |\n",
       "| 15 |  54 |\n",
       "| 16 |  32 |\n",
       "| 16 |  40 |\n",
       "| 17 |  32 |\n",
       "| 17 |  40 |\n",
       "| 17 |  50 |\n",
       "| 18 |  42 |\n",
       "| 18 |  56 |\n",
       "| 18 |  76 |\n",
       "| 18 |  84 |\n",
       "| 19 |  36 |\n",
       "| 19 |  46 |\n",
       "| 19 |  68 |\n",
       "| 20 |  32 |\n",
       "| 20 |  48 |\n",
       "| 20 |  52 |\n",
       "| 20 |  56 |\n",
       "| 20 |  64 |\n",
       "| 22 |  66 |\n",
       "| 23 |  54 |\n",
       "| 24 |  70 |\n",
       "| 24 |  92 |\n",
       "| 24 |  93 |\n",
       "| 24 | 120 |\n",
       "| 25 |  85 |\n",
       "\n"
      ],
      "text/plain": [
       "   speed dist\n",
       "1   4      2 \n",
       "2   4     10 \n",
       "3   7      4 \n",
       "4   7     22 \n",
       "5   8     16 \n",
       "6   9     10 \n",
       "7  10     18 \n",
       "8  10     26 \n",
       "9  10     34 \n",
       "10 11     17 \n",
       "11 11     28 \n",
       "12 12     14 \n",
       "13 12     20 \n",
       "14 12     24 \n",
       "15 12     28 \n",
       "16 13     26 \n",
       "17 13     34 \n",
       "18 13     34 \n",
       "19 13     46 \n",
       "20 14     26 \n",
       "21 14     36 \n",
       "22 14     60 \n",
       "23 14     80 \n",
       "24 15     20 \n",
       "25 15     26 \n",
       "26 15     54 \n",
       "27 16     32 \n",
       "28 16     40 \n",
       "29 17     32 \n",
       "30 17     40 \n",
       "31 17     50 \n",
       "32 18     42 \n",
       "33 18     56 \n",
       "34 18     76 \n",
       "35 18     84 \n",
       "36 19     36 \n",
       "37 19     46 \n",
       "38 19     68 \n",
       "39 20     32 \n",
       "40 20     48 \n",
       "41 20     52 \n",
       "42 20     56 \n",
       "43 20     64 \n",
       "44 22     66 \n",
       "45 23     54 \n",
       "46 24     70 \n",
       "47 24     92 \n",
       "48 24     93 \n",
       "49 24    120 \n",
       "50 25     85 "
      ]
     },
     "metadata": {},
     "output_type": "display_data"
    }
   ],
   "source": [
    "cars"
   ]
  },
  {
   "cell_type": "markdown",
   "metadata": {
    "id": "pAqurZVFPhmB"
   },
   "source": [
    "Tomamos los datos del dato numero 15 al dato numero 20 la columna 1, **speed**"
   ]
  },
  {
   "cell_type": "code",
   "execution_count": null,
   "metadata": {
    "colab": {
     "base_uri": "https://localhost:8080/",
     "height": 34
    },
    "id": "8vORHpeAPhBp",
    "outputId": "d40320d8-c603-4f9f-d29b-88064eb612b4"
   },
   "outputs": [
    {
     "data": {
      "text/html": [
       "<style>\n",
       ".list-inline {list-style: none; margin:0; padding: 0}\n",
       ".list-inline>li {display: inline-block}\n",
       ".list-inline>li:not(:last-child)::after {content: \"\\00b7\"; padding: 0 .5ex}\n",
       "</style>\n",
       "<ol class=list-inline><li>12</li><li>13</li><li>13</li><li>13</li><li>13</li><li>14</li></ol>\n"
      ],
      "text/latex": [
       "\\begin{enumerate*}\n",
       "\\item 12\n",
       "\\item 13\n",
       "\\item 13\n",
       "\\item 13\n",
       "\\item 13\n",
       "\\item 14\n",
       "\\end{enumerate*}\n"
      ],
      "text/markdown": [
       "1. 12\n",
       "2. 13\n",
       "3. 13\n",
       "4. 13\n",
       "5. 13\n",
       "6. 14\n",
       "\n",
       "\n"
      ],
      "text/plain": [
       "[1] 12 13 13 13 13 14"
      ]
     },
     "metadata": {},
     "output_type": "display_data"
    }
   ],
   "source": [
    "cars[15:20,1]"
   ]
  },
  {
   "cell_type": "markdown",
   "metadata": {
    "id": "882qfm-zNnYA"
   },
   "source": [
    "Tomamos los datos del dato numero 3 al dato numero 10 segunda columna 2,   **dist**"
   ]
  },
  {
   "cell_type": "code",
   "execution_count": null,
   "metadata": {
    "colab": {
     "base_uri": "https://localhost:8080/",
     "height": 34
    },
    "id": "4HnKDdiBQgwu",
    "outputId": "a5980818-5cd1-4759-fb16-e813ca838ddf"
   },
   "outputs": [
    {
     "data": {
      "text/html": [
       "<style>\n",
       ".list-inline {list-style: none; margin:0; padding: 0}\n",
       ".list-inline>li {display: inline-block}\n",
       ".list-inline>li:not(:last-child)::after {content: \"\\00b7\"; padding: 0 .5ex}\n",
       "</style>\n",
       "<ol class=list-inline><li>4</li><li>22</li><li>16</li><li>10</li><li>18</li><li>26</li><li>34</li><li>17</li></ol>\n"
      ],
      "text/latex": [
       "\\begin{enumerate*}\n",
       "\\item 4\n",
       "\\item 22\n",
       "\\item 16\n",
       "\\item 10\n",
       "\\item 18\n",
       "\\item 26\n",
       "\\item 34\n",
       "\\item 17\n",
       "\\end{enumerate*}\n"
      ],
      "text/markdown": [
       "1. 4\n",
       "2. 22\n",
       "3. 16\n",
       "4. 10\n",
       "5. 18\n",
       "6. 26\n",
       "7. 34\n",
       "8. 17\n",
       "\n",
       "\n"
      ],
      "text/plain": [
       "[1]  4 22 16 10 18 26 34 17"
      ]
     },
     "metadata": {},
     "output_type": "display_data"
    }
   ],
   "source": [
    "cars[3:10,2]"
   ]
  },
  {
   "cell_type": "markdown",
   "metadata": {
    "id": "tgLnR5bXNuG_"
   },
   "source": [
    "Tomamos los datos del dato numero 2 al dato numero 7; de la columna 1 a la columna 2, **speed** y **dist**"
   ]
  },
  {
   "cell_type": "code",
   "execution_count": null,
   "metadata": {
    "colab": {
     "base_uri": "https://localhost:8080/",
     "height": 286
    },
    "id": "E5zx2x16RKV1",
    "outputId": "795a6ab1-fbcc-46d7-886d-0bec6900cfb0"
   },
   "outputs": [
    {
     "data": {
      "text/html": [
       "<table class=\"dataframe\">\n",
       "<caption>A data.frame: 6 × 2</caption>\n",
       "<thead>\n",
       "\t<tr><th></th><th scope=col>speed</th><th scope=col>dist</th></tr>\n",
       "\t<tr><th></th><th scope=col>&lt;dbl&gt;</th><th scope=col>&lt;dbl&gt;</th></tr>\n",
       "</thead>\n",
       "<tbody>\n",
       "\t<tr><th scope=row>2</th><td> 4</td><td>10</td></tr>\n",
       "\t<tr><th scope=row>3</th><td> 7</td><td> 4</td></tr>\n",
       "\t<tr><th scope=row>4</th><td> 7</td><td>22</td></tr>\n",
       "\t<tr><th scope=row>5</th><td> 8</td><td>16</td></tr>\n",
       "\t<tr><th scope=row>6</th><td> 9</td><td>10</td></tr>\n",
       "\t<tr><th scope=row>7</th><td>10</td><td>18</td></tr>\n",
       "</tbody>\n",
       "</table>\n"
      ],
      "text/latex": [
       "A data.frame: 6 × 2\n",
       "\\begin{tabular}{r|ll}\n",
       "  & speed & dist\\\\\n",
       "  & <dbl> & <dbl>\\\\\n",
       "\\hline\n",
       "\t2 &  4 & 10\\\\\n",
       "\t3 &  7 &  4\\\\\n",
       "\t4 &  7 & 22\\\\\n",
       "\t5 &  8 & 16\\\\\n",
       "\t6 &  9 & 10\\\\\n",
       "\t7 & 10 & 18\\\\\n",
       "\\end{tabular}\n"
      ],
      "text/markdown": [
       "\n",
       "A data.frame: 6 × 2\n",
       "\n",
       "| <!--/--> | speed &lt;dbl&gt; | dist &lt;dbl&gt; |\n",
       "|---|---|---|\n",
       "| 2 |  4 | 10 |\n",
       "| 3 |  7 |  4 |\n",
       "| 4 |  7 | 22 |\n",
       "| 5 |  8 | 16 |\n",
       "| 6 |  9 | 10 |\n",
       "| 7 | 10 | 18 |\n",
       "\n"
      ],
      "text/plain": [
       "  speed dist\n",
       "2  4    10  \n",
       "3  7     4  \n",
       "4  7    22  \n",
       "5  8    16  \n",
       "6  9    10  \n",
       "7 10    18  "
      ]
     },
     "metadata": {},
     "output_type": "display_data"
    }
   ],
   "source": [
    "cars[2:7,1:2]"
   ]
  },
  {
   "cell_type": "markdown",
   "metadata": {
    "id": "jW5cN0r5Ratz"
   },
   "source": [
    "Tomamos una muestra de tamaño 4 de la base de datos cars"
   ]
  },
  {
   "cell_type": "code",
   "execution_count": null,
   "metadata": {
    "colab": {
     "base_uri": "https://localhost:8080/",
     "height": 34
    },
    "id": "lGNpO6vaR6WZ",
    "outputId": "8bc748d7-f2e4-4e8f-f01c-11aeeb96868b"
   },
   "outputs": [
    {
     "data": {
      "text/html": [
       "<style>\n",
       ".list-inline {list-style: none; margin:0; padding: 0}\n",
       ".list-inline>li {display: inline-block}\n",
       ".list-inline>li:not(:last-child)::after {content: \"\\00b7\"; padding: 0 .5ex}\n",
       "</style>\n",
       "<ol class=list-inline><li>27</li><li>46</li><li>18</li><li>12</li></ol>\n"
      ],
      "text/latex": [
       "\\begin{enumerate*}\n",
       "\\item 27\n",
       "\\item 46\n",
       "\\item 18\n",
       "\\item 12\n",
       "\\end{enumerate*}\n"
      ],
      "text/markdown": [
       "1. 27\n",
       "2. 46\n",
       "3. 18\n",
       "4. 12\n",
       "\n",
       "\n"
      ],
      "text/plain": [
       "[1] 27 46 18 12"
      ]
     },
     "metadata": {},
     "output_type": "display_data"
    }
   ],
   "source": [
    "x=1:50\n",
    "M=sample(x,4)\n",
    "M"
   ]
  },
  {
   "cell_type": "code",
   "execution_count": null,
   "metadata": {
    "colab": {
     "base_uri": "https://localhost:8080/",
     "height": 224
    },
    "id": "0J6bW2gGR-P0",
    "outputId": "77958b5e-738c-4d59-a54a-b80f30b75cbc"
   },
   "outputs": [
    {
     "data": {
      "text/html": [
       "<table class=\"dataframe\">\n",
       "<caption>A data.frame: 4 × 2</caption>\n",
       "<thead>\n",
       "\t<tr><th></th><th scope=col>speed</th><th scope=col>dist</th></tr>\n",
       "\t<tr><th></th><th scope=col>&lt;dbl&gt;</th><th scope=col>&lt;dbl&gt;</th></tr>\n",
       "</thead>\n",
       "<tbody>\n",
       "\t<tr><th scope=row>27</th><td>16</td><td>32</td></tr>\n",
       "\t<tr><th scope=row>46</th><td>24</td><td>70</td></tr>\n",
       "\t<tr><th scope=row>18</th><td>13</td><td>34</td></tr>\n",
       "\t<tr><th scope=row>12</th><td>12</td><td>14</td></tr>\n",
       "</tbody>\n",
       "</table>\n"
      ],
      "text/latex": [
       "A data.frame: 4 × 2\n",
       "\\begin{tabular}{r|ll}\n",
       "  & speed & dist\\\\\n",
       "  & <dbl> & <dbl>\\\\\n",
       "\\hline\n",
       "\t27 & 16 & 32\\\\\n",
       "\t46 & 24 & 70\\\\\n",
       "\t18 & 13 & 34\\\\\n",
       "\t12 & 12 & 14\\\\\n",
       "\\end{tabular}\n"
      ],
      "text/markdown": [
       "\n",
       "A data.frame: 4 × 2\n",
       "\n",
       "| <!--/--> | speed &lt;dbl&gt; | dist &lt;dbl&gt; |\n",
       "|---|---|---|\n",
       "| 27 | 16 | 32 |\n",
       "| 46 | 24 | 70 |\n",
       "| 18 | 13 | 34 |\n",
       "| 12 | 12 | 14 |\n",
       "\n"
      ],
      "text/plain": [
       "   speed dist\n",
       "27 16    32  \n",
       "46 24    70  \n",
       "18 13    34  \n",
       "12 12    14  "
      ]
     },
     "metadata": {},
     "output_type": "display_data"
    }
   ],
   "source": [
    "muestra=cars[M,1:2]\n",
    "muestra"
   ]
  },
  {
   "cell_type": "markdown",
   "metadata": {
    "id": "5TT3wQGhSjqO"
   },
   "source": [
    "Hallamos la media y la desviacion estandar de la muestra"
   ]
  },
  {
   "cell_type": "markdown",
   "metadata": {
    "id": "ueMxMtsIStLj"
   },
   "source": [
    "para la variable $speed$"
   ]
  },
  {
   "cell_type": "code",
   "execution_count": null,
   "metadata": {
    "colab": {
     "base_uri": "https://localhost:8080/",
     "height": 34
    },
    "id": "GOC8cL9iSjUm",
    "outputId": "614025b7-ef8e-4104-a475-f431aab1a82b"
   },
   "outputs": [
    {
     "data": {
      "text/html": [
       "12.25"
      ],
      "text/latex": [
       "12.25"
      ],
      "text/markdown": [
       "12.25"
      ],
      "text/plain": [
       "[1] 12.25"
      ]
     },
     "metadata": {},
     "output_type": "display_data"
    }
   ],
   "source": [
    "Mx=mean(muestra[,1])\n",
    "Mx"
   ]
  },
  {
   "cell_type": "code",
   "execution_count": null,
   "metadata": {
    "colab": {
     "base_uri": "https://localhost:8080/",
     "height": 34
    },
    "id": "5fiRS4R9TRtp",
    "outputId": "6da43d53-f230-4074-981d-15be4bb181aa"
   },
   "outputs": [
    {
     "data": {
      "text/html": [
       "1.25830573921179"
      ],
      "text/latex": [
       "1.25830573921179"
      ],
      "text/markdown": [
       "1.25830573921179"
      ],
      "text/plain": [
       "[1] 1.258306"
      ]
     },
     "metadata": {},
     "output_type": "display_data"
    }
   ],
   "source": [
    "Dx=sd(muestra[,1])\n",
    "Dx"
   ]
  },
  {
   "cell_type": "markdown",
   "metadata": {
    "id": "KVmZREGaUDkd"
   },
   "source": [
    "para la variable $dist$"
   ]
  },
  {
   "cell_type": "code",
   "execution_count": null,
   "metadata": {
    "colab": {
     "base_uri": "https://localhost:8080/",
     "height": 34
    },
    "id": "90DVqDErUCLn",
    "outputId": "2936696f-d549-4fd0-a1ce-23ba4abe3f9a"
   },
   "outputs": [
    {
     "data": {
      "text/html": [
       "25.5"
      ],
      "text/latex": [
       "25.5"
      ],
      "text/markdown": [
       "25.5"
      ],
      "text/plain": [
       "[1] 25.5"
      ]
     },
     "metadata": {},
     "output_type": "display_data"
    }
   ],
   "source": [
    "Mx=mean(muestra[,2])\n",
    "Mx"
   ]
  },
  {
   "cell_type": "code",
   "execution_count": null,
   "metadata": {
    "colab": {
     "base_uri": "https://localhost:8080/",
     "height": 34
    },
    "id": "52Xx0fLnUL3p",
    "outputId": "75034f84-c324-484a-a71f-df64604adeb7"
   },
   "outputs": [
    {
     "data": {
      "text/html": [
       "3.78593889720018"
      ],
      "text/latex": [
       "3.78593889720018"
      ],
      "text/markdown": [
       "3.78593889720018"
      ],
      "text/plain": [
       "[1] 3.785939"
      ]
     },
     "metadata": {},
     "output_type": "display_data"
    }
   ],
   "source": [
    "Dx=sd(muestra[,2])\n",
    "Dx"
   ]
  },
  {
   "cell_type": "markdown",
   "metadata": {
    "id": "SYiBBGh_dJut"
   },
   "source": [
    "La instrucción $set.seed$"
   ]
  },
  {
   "cell_type": "code",
   "execution_count": null,
   "metadata": {
    "colab": {
     "base_uri": "https://localhost:8080/",
     "height": 34
    },
    "id": "ILnWYuQqnhEA",
    "outputId": "0e51283e-8906-4c21-c532-12121d967f93"
   },
   "outputs": [
    {
     "data": {
      "text/html": [
       "<style>\n",
       ".list-inline {list-style: none; margin:0; padding: 0}\n",
       ".list-inline>li {display: inline-block}\n",
       ".list-inline>li:not(:last-child)::after {content: \"\\00b7\"; padding: 0 .5ex}\n",
       "</style>\n",
       "<ol class=list-inline><li>1</li><li>2</li><li>3</li><li>4</li><li>5</li><li>6</li><li>7</li><li>8</li><li>9</li><li>10</li><li>11</li><li>12</li></ol>\n"
      ],
      "text/latex": [
       "\\begin{enumerate*}\n",
       "\\item 1\n",
       "\\item 2\n",
       "\\item 3\n",
       "\\item 4\n",
       "\\item 5\n",
       "\\item 6\n",
       "\\item 7\n",
       "\\item 8\n",
       "\\item 9\n",
       "\\item 10\n",
       "\\item 11\n",
       "\\item 12\n",
       "\\end{enumerate*}\n"
      ],
      "text/markdown": [
       "1. 1\n",
       "2. 2\n",
       "3. 3\n",
       "4. 4\n",
       "5. 5\n",
       "6. 6\n",
       "7. 7\n",
       "8. 8\n",
       "9. 9\n",
       "10. 10\n",
       "11. 11\n",
       "12. 12\n",
       "\n",
       "\n"
      ],
      "text/plain": [
       " [1]  1  2  3  4  5  6  7  8  9 10 11 12"
      ]
     },
     "metadata": {},
     "output_type": "display_data"
    }
   ],
   "source": [
    "x=1:12\n",
    "x"
   ]
  },
  {
   "cell_type": "code",
   "execution_count": null,
   "metadata": {
    "colab": {
     "base_uri": "https://localhost:8080/",
     "height": 34
    },
    "id": "hjxS0tSdnhGh",
    "outputId": "48b59594-9ceb-4bfc-9a35-f9761e7baf14"
   },
   "outputs": [
    {
     "data": {
      "text/html": [
       "<style>\n",
       ".list-inline {list-style: none; margin:0; padding: 0}\n",
       ".list-inline>li {display: inline-block}\n",
       ".list-inline>li:not(:last-child)::after {content: \"\\00b7\"; padding: 0 .5ex}\n",
       "</style>\n",
       "<ol class=list-inline><li>7</li><li>1</li><li>12</li><li>5</li></ol>\n"
      ],
      "text/latex": [
       "\\begin{enumerate*}\n",
       "\\item 7\n",
       "\\item 1\n",
       "\\item 12\n",
       "\\item 5\n",
       "\\end{enumerate*}\n"
      ],
      "text/markdown": [
       "1. 7\n",
       "2. 1\n",
       "3. 12\n",
       "4. 5\n",
       "\n",
       "\n"
      ],
      "text/plain": [
       "[1]  7  1 12  5"
      ]
     },
     "metadata": {},
     "output_type": "display_data"
    }
   ],
   "source": [
    "M=sample(x,4)\n",
    "M"
   ]
  },
  {
   "cell_type": "code",
   "execution_count": null,
   "metadata": {
    "colab": {
     "base_uri": "https://localhost:8080/",
     "height": 34
    },
    "id": "o5QroVbcdkkT",
    "outputId": "56796013-cec4-4173-f4fe-aa0f4a748ab5"
   },
   "outputs": [
    {
     "data": {
      "text/html": [
       "<style>\n",
       ".list-inline {list-style: none; margin:0; padding: 0}\n",
       ".list-inline>li {display: inline-block}\n",
       ".list-inline>li:not(:last-child)::after {content: \"\\00b7\"; padding: 0 .5ex}\n",
       "</style>\n",
       "<ol class=list-inline><li>10</li><li>9</li><li>8</li><li>4</li></ol>\n"
      ],
      "text/latex": [
       "\\begin{enumerate*}\n",
       "\\item 10\n",
       "\\item 9\n",
       "\\item 8\n",
       "\\item 4\n",
       "\\end{enumerate*}\n"
      ],
      "text/markdown": [
       "1. 10\n",
       "2. 9\n",
       "3. 8\n",
       "4. 4\n",
       "\n",
       "\n"
      ],
      "text/plain": [
       "[1] 10  9  8  4"
      ]
     },
     "metadata": {},
     "output_type": "display_data"
    }
   ],
   "source": [
    "set.seed(4153)\n",
    "M=sample(x,4)\n",
    "M"
   ]
  },
  {
   "cell_type": "code",
   "execution_count": null,
   "metadata": {
    "colab": {
     "base_uri": "https://localhost:8080/",
     "height": 34
    },
    "id": "cEF5Aky6eVB6",
    "outputId": "bbddb016-f01a-4d36-c2b4-958e3639f995"
   },
   "outputs": [
    {
     "data": {
      "text/html": [
       "<style>\n",
       ".list-inline {list-style: none; margin:0; padding: 0}\n",
       ".list-inline>li {display: inline-block}\n",
       ".list-inline>li:not(:last-child)::after {content: \"\\00b7\"; padding: 0 .5ex}\n",
       "</style>\n",
       "<ol class=list-inline><li>8</li><li>11</li><li>2</li><li>10</li></ol>\n"
      ],
      "text/latex": [
       "\\begin{enumerate*}\n",
       "\\item 8\n",
       "\\item 11\n",
       "\\item 2\n",
       "\\item 10\n",
       "\\end{enumerate*}\n"
      ],
      "text/markdown": [
       "1. 8\n",
       "2. 11\n",
       "3. 2\n",
       "4. 10\n",
       "\n",
       "\n"
      ],
      "text/plain": [
       "[1]  8 11  2 10"
      ]
     },
     "metadata": {},
     "output_type": "display_data"
    }
   ],
   "source": [
    "set.seed(7158)\n",
    "M=sample(x,4)\n",
    "M"
   ]
  },
  {
   "cell_type": "code",
   "execution_count": null,
   "metadata": {
    "colab": {
     "base_uri": "https://localhost:8080/",
     "height": 34
    },
    "id": "iEfh2ZBPKQEZ",
    "outputId": "ebcad7b9-bb19-44bd-9360-d05a5c5c25a3"
   },
   "outputs": [
    {
     "data": {
      "text/html": [
       "<style>\n",
       ".list-inline {list-style: none; margin:0; padding: 0}\n",
       ".list-inline>li {display: inline-block}\n",
       ".list-inline>li:not(:last-child)::after {content: \"\\00b7\"; padding: 0 .5ex}\n",
       "</style>\n",
       "<ol class=list-inline><li>8</li><li>5</li><li>11</li><li>7</li><li>9</li><li>6</li><li>2</li><li>1</li><li>10</li></ol>\n"
      ],
      "text/latex": [
       "\\begin{enumerate*}\n",
       "\\item 8\n",
       "\\item 5\n",
       "\\item 11\n",
       "\\item 7\n",
       "\\item 9\n",
       "\\item 6\n",
       "\\item 2\n",
       "\\item 1\n",
       "\\item 10\n",
       "\\end{enumerate*}\n"
      ],
      "text/markdown": [
       "1. 8\n",
       "2. 5\n",
       "3. 11\n",
       "4. 7\n",
       "5. 9\n",
       "6. 6\n",
       "7. 2\n",
       "8. 1\n",
       "9. 10\n",
       "\n",
       "\n"
      ],
      "text/plain": [
       "[1]  8  5 11  7  9  6  2  1 10"
      ]
     },
     "metadata": {},
     "output_type": "display_data"
    }
   ],
   "source": [
    "set.seed(347)\n",
    "M=sample(x,9)\n",
    "M"
   ]
  },
  {
   "cell_type": "markdown",
   "metadata": {
    "id": "9ktZSRCtekYM"
   },
   "source": [
    "# **Muestreo aleatorio sistemático**"
   ]
  },
  {
   "cell_type": "markdown",
   "metadata": {
    "id": "e7ySeZD0eoWk"
   },
   "source": [
    "**N:** Tamaño de la población\n",
    "\n",
    "**n:** Tamaño de la muestra\n",
    "\n",
    "**p:** Periodo\n",
    "\n",
    "\n",
    "$$p=\\frac{N}{n}$$\n",
    "\n",
    "**k:** punto de arranque aleatorio\n",
    "\n",
    "$k=numero \\ aleatorio \\ del \\ conjunto \\$ {1,2,3,...,p}\n"
   ]
  },
  {
   "cell_type": "code",
   "execution_count": null,
   "metadata": {
    "colab": {
     "base_uri": "https://localhost:8080/",
     "height": 1682
    },
    "id": "KgOwtZXZeq-i",
    "outputId": "23aab395-b31a-46c4-f28f-7134eeec6669"
   },
   "outputs": [
    {
     "data": {
      "text/html": [
       "<table class=\"dataframe\">\n",
       "<caption>A data.frame: 50 × 2</caption>\n",
       "<thead>\n",
       "\t<tr><th scope=col>speed</th><th scope=col>dist</th></tr>\n",
       "\t<tr><th scope=col>&lt;dbl&gt;</th><th scope=col>&lt;dbl&gt;</th></tr>\n",
       "</thead>\n",
       "<tbody>\n",
       "\t<tr><td> 4</td><td>  2</td></tr>\n",
       "\t<tr><td> 4</td><td> 10</td></tr>\n",
       "\t<tr><td> 7</td><td>  4</td></tr>\n",
       "\t<tr><td> 7</td><td> 22</td></tr>\n",
       "\t<tr><td> 8</td><td> 16</td></tr>\n",
       "\t<tr><td> 9</td><td> 10</td></tr>\n",
       "\t<tr><td>10</td><td> 18</td></tr>\n",
       "\t<tr><td>10</td><td> 26</td></tr>\n",
       "\t<tr><td>10</td><td> 34</td></tr>\n",
       "\t<tr><td>11</td><td> 17</td></tr>\n",
       "\t<tr><td>11</td><td> 28</td></tr>\n",
       "\t<tr><td>12</td><td> 14</td></tr>\n",
       "\t<tr><td>12</td><td> 20</td></tr>\n",
       "\t<tr><td>12</td><td> 24</td></tr>\n",
       "\t<tr><td>12</td><td> 28</td></tr>\n",
       "\t<tr><td>13</td><td> 26</td></tr>\n",
       "\t<tr><td>13</td><td> 34</td></tr>\n",
       "\t<tr><td>13</td><td> 34</td></tr>\n",
       "\t<tr><td>13</td><td> 46</td></tr>\n",
       "\t<tr><td>14</td><td> 26</td></tr>\n",
       "\t<tr><td>14</td><td> 36</td></tr>\n",
       "\t<tr><td>14</td><td> 60</td></tr>\n",
       "\t<tr><td>14</td><td> 80</td></tr>\n",
       "\t<tr><td>15</td><td> 20</td></tr>\n",
       "\t<tr><td>15</td><td> 26</td></tr>\n",
       "\t<tr><td>15</td><td> 54</td></tr>\n",
       "\t<tr><td>16</td><td> 32</td></tr>\n",
       "\t<tr><td>16</td><td> 40</td></tr>\n",
       "\t<tr><td>17</td><td> 32</td></tr>\n",
       "\t<tr><td>17</td><td> 40</td></tr>\n",
       "\t<tr><td>17</td><td> 50</td></tr>\n",
       "\t<tr><td>18</td><td> 42</td></tr>\n",
       "\t<tr><td>18</td><td> 56</td></tr>\n",
       "\t<tr><td>18</td><td> 76</td></tr>\n",
       "\t<tr><td>18</td><td> 84</td></tr>\n",
       "\t<tr><td>19</td><td> 36</td></tr>\n",
       "\t<tr><td>19</td><td> 46</td></tr>\n",
       "\t<tr><td>19</td><td> 68</td></tr>\n",
       "\t<tr><td>20</td><td> 32</td></tr>\n",
       "\t<tr><td>20</td><td> 48</td></tr>\n",
       "\t<tr><td>20</td><td> 52</td></tr>\n",
       "\t<tr><td>20</td><td> 56</td></tr>\n",
       "\t<tr><td>20</td><td> 64</td></tr>\n",
       "\t<tr><td>22</td><td> 66</td></tr>\n",
       "\t<tr><td>23</td><td> 54</td></tr>\n",
       "\t<tr><td>24</td><td> 70</td></tr>\n",
       "\t<tr><td>24</td><td> 92</td></tr>\n",
       "\t<tr><td>24</td><td> 93</td></tr>\n",
       "\t<tr><td>24</td><td>120</td></tr>\n",
       "\t<tr><td>25</td><td> 85</td></tr>\n",
       "</tbody>\n",
       "</table>\n"
      ],
      "text/latex": [
       "A data.frame: 50 × 2\n",
       "\\begin{tabular}{ll}\n",
       " speed & dist\\\\\n",
       " <dbl> & <dbl>\\\\\n",
       "\\hline\n",
       "\t  4 &   2\\\\\n",
       "\t  4 &  10\\\\\n",
       "\t  7 &   4\\\\\n",
       "\t  7 &  22\\\\\n",
       "\t  8 &  16\\\\\n",
       "\t  9 &  10\\\\\n",
       "\t 10 &  18\\\\\n",
       "\t 10 &  26\\\\\n",
       "\t 10 &  34\\\\\n",
       "\t 11 &  17\\\\\n",
       "\t 11 &  28\\\\\n",
       "\t 12 &  14\\\\\n",
       "\t 12 &  20\\\\\n",
       "\t 12 &  24\\\\\n",
       "\t 12 &  28\\\\\n",
       "\t 13 &  26\\\\\n",
       "\t 13 &  34\\\\\n",
       "\t 13 &  34\\\\\n",
       "\t 13 &  46\\\\\n",
       "\t 14 &  26\\\\\n",
       "\t 14 &  36\\\\\n",
       "\t 14 &  60\\\\\n",
       "\t 14 &  80\\\\\n",
       "\t 15 &  20\\\\\n",
       "\t 15 &  26\\\\\n",
       "\t 15 &  54\\\\\n",
       "\t 16 &  32\\\\\n",
       "\t 16 &  40\\\\\n",
       "\t 17 &  32\\\\\n",
       "\t 17 &  40\\\\\n",
       "\t 17 &  50\\\\\n",
       "\t 18 &  42\\\\\n",
       "\t 18 &  56\\\\\n",
       "\t 18 &  76\\\\\n",
       "\t 18 &  84\\\\\n",
       "\t 19 &  36\\\\\n",
       "\t 19 &  46\\\\\n",
       "\t 19 &  68\\\\\n",
       "\t 20 &  32\\\\\n",
       "\t 20 &  48\\\\\n",
       "\t 20 &  52\\\\\n",
       "\t 20 &  56\\\\\n",
       "\t 20 &  64\\\\\n",
       "\t 22 &  66\\\\\n",
       "\t 23 &  54\\\\\n",
       "\t 24 &  70\\\\\n",
       "\t 24 &  92\\\\\n",
       "\t 24 &  93\\\\\n",
       "\t 24 & 120\\\\\n",
       "\t 25 &  85\\\\\n",
       "\\end{tabular}\n"
      ],
      "text/markdown": [
       "\n",
       "A data.frame: 50 × 2\n",
       "\n",
       "| speed &lt;dbl&gt; | dist &lt;dbl&gt; |\n",
       "|---|---|\n",
       "|  4 |   2 |\n",
       "|  4 |  10 |\n",
       "|  7 |   4 |\n",
       "|  7 |  22 |\n",
       "|  8 |  16 |\n",
       "|  9 |  10 |\n",
       "| 10 |  18 |\n",
       "| 10 |  26 |\n",
       "| 10 |  34 |\n",
       "| 11 |  17 |\n",
       "| 11 |  28 |\n",
       "| 12 |  14 |\n",
       "| 12 |  20 |\n",
       "| 12 |  24 |\n",
       "| 12 |  28 |\n",
       "| 13 |  26 |\n",
       "| 13 |  34 |\n",
       "| 13 |  34 |\n",
       "| 13 |  46 |\n",
       "| 14 |  26 |\n",
       "| 14 |  36 |\n",
       "| 14 |  60 |\n",
       "| 14 |  80 |\n",
       "| 15 |  20 |\n",
       "| 15 |  26 |\n",
       "| 15 |  54 |\n",
       "| 16 |  32 |\n",
       "| 16 |  40 |\n",
       "| 17 |  32 |\n",
       "| 17 |  40 |\n",
       "| 17 |  50 |\n",
       "| 18 |  42 |\n",
       "| 18 |  56 |\n",
       "| 18 |  76 |\n",
       "| 18 |  84 |\n",
       "| 19 |  36 |\n",
       "| 19 |  46 |\n",
       "| 19 |  68 |\n",
       "| 20 |  32 |\n",
       "| 20 |  48 |\n",
       "| 20 |  52 |\n",
       "| 20 |  56 |\n",
       "| 20 |  64 |\n",
       "| 22 |  66 |\n",
       "| 23 |  54 |\n",
       "| 24 |  70 |\n",
       "| 24 |  92 |\n",
       "| 24 |  93 |\n",
       "| 24 | 120 |\n",
       "| 25 |  85 |\n",
       "\n"
      ],
      "text/plain": [
       "   speed dist\n",
       "1   4      2 \n",
       "2   4     10 \n",
       "3   7      4 \n",
       "4   7     22 \n",
       "5   8     16 \n",
       "6   9     10 \n",
       "7  10     18 \n",
       "8  10     26 \n",
       "9  10     34 \n",
       "10 11     17 \n",
       "11 11     28 \n",
       "12 12     14 \n",
       "13 12     20 \n",
       "14 12     24 \n",
       "15 12     28 \n",
       "16 13     26 \n",
       "17 13     34 \n",
       "18 13     34 \n",
       "19 13     46 \n",
       "20 14     26 \n",
       "21 14     36 \n",
       "22 14     60 \n",
       "23 14     80 \n",
       "24 15     20 \n",
       "25 15     26 \n",
       "26 15     54 \n",
       "27 16     32 \n",
       "28 16     40 \n",
       "29 17     32 \n",
       "30 17     40 \n",
       "31 17     50 \n",
       "32 18     42 \n",
       "33 18     56 \n",
       "34 18     76 \n",
       "35 18     84 \n",
       "36 19     36 \n",
       "37 19     46 \n",
       "38 19     68 \n",
       "39 20     32 \n",
       "40 20     48 \n",
       "41 20     52 \n",
       "42 20     56 \n",
       "43 20     64 \n",
       "44 22     66 \n",
       "45 23     54 \n",
       "46 24     70 \n",
       "47 24     92 \n",
       "48 24     93 \n",
       "49 24    120 \n",
       "50 25     85 "
      ]
     },
     "metadata": {},
     "output_type": "display_data"
    }
   ],
   "source": [
    "cars"
   ]
  },
  {
   "cell_type": "code",
   "execution_count": null,
   "metadata": {
    "colab": {
     "base_uri": "https://localhost:8080/",
     "height": 34
    },
    "id": "wyTnA9Jbeu_p",
    "outputId": "8c5b1a61-d768-473e-b653-3302dd6ada64"
   },
   "outputs": [
    {
     "data": {
      "text/html": [
       "<style>\n",
       ".list-inline {list-style: none; margin:0; padding: 0}\n",
       ".list-inline>li {display: inline-block}\n",
       ".list-inline>li:not(:last-child)::after {content: \"\\00b7\"; padding: 0 .5ex}\n",
       "</style>\n",
       "<ol class=list-inline><li>50</li><li>2</li></ol>\n"
      ],
      "text/latex": [
       "\\begin{enumerate*}\n",
       "\\item 50\n",
       "\\item 2\n",
       "\\end{enumerate*}\n"
      ],
      "text/markdown": [
       "1. 50\n",
       "2. 2\n",
       "\n",
       "\n"
      ],
      "text/plain": [
       "[1] 50  2"
      ]
     },
     "metadata": {},
     "output_type": "display_data"
    }
   ],
   "source": [
    "dim(cars)"
   ]
  },
  {
   "cell_type": "code",
   "execution_count": null,
   "metadata": {
    "colab": {
     "base_uri": "https://localhost:8080/",
     "height": 34
    },
    "id": "4_2IVEYafEuP",
    "outputId": "78db3049-b774-4a9b-f524-644fa8fdf0eb"
   },
   "outputs": [
    {
     "data": {
      "text/html": [
       "6.25"
      ],
      "text/latex": [
       "6.25"
      ],
      "text/markdown": [
       "6.25"
      ],
      "text/plain": [
       "[1] 6.25"
      ]
     },
     "metadata": {},
     "output_type": "display_data"
    }
   ],
   "source": [
    "N=50\n",
    "n=8\n",
    "p=N/n\n",
    "p"
   ]
  },
  {
   "cell_type": "code",
   "execution_count": null,
   "metadata": {
    "colab": {
     "base_uri": "https://localhost:8080/",
     "height": 34
    },
    "id": "ZbQSSXnmfO54",
    "outputId": "51e00148-d78d-48f3-a31f-fc9758b0b372"
   },
   "outputs": [
    {
     "data": {
      "text/html": [
       "6"
      ],
      "text/latex": [
       "6"
      ],
      "text/markdown": [
       "6"
      ],
      "text/plain": [
       "[1] 6"
      ]
     },
     "metadata": {},
     "output_type": "display_data"
    }
   ],
   "source": [
    "p1=round(p)\n",
    "p1"
   ]
  },
  {
   "cell_type": "code",
   "execution_count": null,
   "metadata": {
    "colab": {
     "base_uri": "https://localhost:8080/",
     "height": 34
    },
    "id": "BQ_m_10wfT6S",
    "outputId": "0d1c1848-37d1-41b9-8e90-2e156ff255f1"
   },
   "outputs": [
    {
     "data": {
      "text/html": [
       "3"
      ],
      "text/latex": [
       "3"
      ],
      "text/markdown": [
       "3"
      ],
      "text/plain": [
       "[1] 3"
      ]
     },
     "metadata": {},
     "output_type": "display_data"
    }
   ],
   "source": [
    "y=1:p1\n",
    "set.seed(4273)\n",
    "k=sample(y,1)\n",
    "k"
   ]
  },
  {
   "cell_type": "code",
   "execution_count": null,
   "metadata": {
    "colab": {
     "base_uri": "https://localhost:8080/",
     "height": 34
    },
    "id": "GTN3r7azfhYi",
    "outputId": "ceec1c9d-7bcb-422b-8131-ef1ba222778b"
   },
   "outputs": [
    {
     "data": {
      "text/html": [
       "<style>\n",
       ".list-inline {list-style: none; margin:0; padding: 0}\n",
       ".list-inline>li {display: inline-block}\n",
       ".list-inline>li:not(:last-child)::after {content: \"\\00b7\"; padding: 0 .5ex}\n",
       "</style>\n",
       "<ol class=list-inline><li>3</li><li>9</li><li>15</li><li>21</li><li>27</li><li>33</li><li>39</li><li>45</li></ol>\n"
      ],
      "text/latex": [
       "\\begin{enumerate*}\n",
       "\\item 3\n",
       "\\item 9\n",
       "\\item 15\n",
       "\\item 21\n",
       "\\item 27\n",
       "\\item 33\n",
       "\\item 39\n",
       "\\item 45\n",
       "\\end{enumerate*}\n"
      ],
      "text/markdown": [
       "1. 3\n",
       "2. 9\n",
       "3. 15\n",
       "4. 21\n",
       "5. 27\n",
       "6. 33\n",
       "7. 39\n",
       "8. 45\n",
       "\n",
       "\n"
      ],
      "text/plain": [
       "[1]  3  9 15 21 27 33 39 45"
      ]
     },
     "metadata": {},
     "output_type": "display_data"
    }
   ],
   "source": [
    "Muestra2=seq(k,N,p1)\n",
    "Muestra2"
   ]
  },
  {
   "cell_type": "code",
   "execution_count": null,
   "metadata": {
    "colab": {
     "base_uri": "https://localhost:8080/",
     "height": 349
    },
    "id": "iBmKjZFVgxqD",
    "outputId": "5830cac6-6c6e-4e0f-d241-b911e5964a54"
   },
   "outputs": [
    {
     "data": {
      "text/html": [
       "<table class=\"dataframe\">\n",
       "<caption>A data.frame: 8 × 2</caption>\n",
       "<thead>\n",
       "\t<tr><th></th><th scope=col>speed</th><th scope=col>dist</th></tr>\n",
       "\t<tr><th></th><th scope=col>&lt;dbl&gt;</th><th scope=col>&lt;dbl&gt;</th></tr>\n",
       "</thead>\n",
       "<tbody>\n",
       "\t<tr><th scope=row>3</th><td> 7</td><td> 4</td></tr>\n",
       "\t<tr><th scope=row>9</th><td>10</td><td>34</td></tr>\n",
       "\t<tr><th scope=row>15</th><td>12</td><td>28</td></tr>\n",
       "\t<tr><th scope=row>21</th><td>14</td><td>36</td></tr>\n",
       "\t<tr><th scope=row>27</th><td>16</td><td>32</td></tr>\n",
       "\t<tr><th scope=row>33</th><td>18</td><td>56</td></tr>\n",
       "\t<tr><th scope=row>39</th><td>20</td><td>32</td></tr>\n",
       "\t<tr><th scope=row>45</th><td>23</td><td>54</td></tr>\n",
       "</tbody>\n",
       "</table>\n"
      ],
      "text/latex": [
       "A data.frame: 8 × 2\n",
       "\\begin{tabular}{r|ll}\n",
       "  & speed & dist\\\\\n",
       "  & <dbl> & <dbl>\\\\\n",
       "\\hline\n",
       "\t3 &  7 &  4\\\\\n",
       "\t9 & 10 & 34\\\\\n",
       "\t15 & 12 & 28\\\\\n",
       "\t21 & 14 & 36\\\\\n",
       "\t27 & 16 & 32\\\\\n",
       "\t33 & 18 & 56\\\\\n",
       "\t39 & 20 & 32\\\\\n",
       "\t45 & 23 & 54\\\\\n",
       "\\end{tabular}\n"
      ],
      "text/markdown": [
       "\n",
       "A data.frame: 8 × 2\n",
       "\n",
       "| <!--/--> | speed &lt;dbl&gt; | dist &lt;dbl&gt; |\n",
       "|---|---|---|\n",
       "| 3 |  7 |  4 |\n",
       "| 9 | 10 | 34 |\n",
       "| 15 | 12 | 28 |\n",
       "| 21 | 14 | 36 |\n",
       "| 27 | 16 | 32 |\n",
       "| 33 | 18 | 56 |\n",
       "| 39 | 20 | 32 |\n",
       "| 45 | 23 | 54 |\n",
       "\n"
      ],
      "text/plain": [
       "   speed dist\n",
       "3   7     4  \n",
       "9  10    34  \n",
       "15 12    28  \n",
       "21 14    36  \n",
       "27 16    32  \n",
       "33 18    56  \n",
       "39 20    32  \n",
       "45 23    54  "
      ]
     },
     "metadata": {},
     "output_type": "display_data"
    }
   ],
   "source": [
    "cars[Muestra2,]"
   ]
  },
  {
   "cell_type": "markdown",
   "metadata": {
    "id": "QQZdYW0BhKmg"
   },
   "source": [
    "Hallamos la media y la desviacion estandar de la muestra\n",
    "\n",
    "para la variable speed"
   ]
  },
  {
   "cell_type": "code",
   "execution_count": null,
   "metadata": {
    "colab": {
     "base_uri": "https://localhost:8080/",
     "height": 349
    },
    "id": "UVI9IhfUhZ5T",
    "outputId": "6bc2ce9b-d090-4680-a92c-e931cb00eb08"
   },
   "outputs": [
    {
     "data": {
      "text/html": [
       "<table class=\"dataframe\">\n",
       "<caption>A data.frame: 8 × 2</caption>\n",
       "<thead>\n",
       "\t<tr><th></th><th scope=col>speed</th><th scope=col>dist</th></tr>\n",
       "\t<tr><th></th><th scope=col>&lt;dbl&gt;</th><th scope=col>&lt;dbl&gt;</th></tr>\n",
       "</thead>\n",
       "<tbody>\n",
       "\t<tr><th scope=row>3</th><td> 7</td><td> 4</td></tr>\n",
       "\t<tr><th scope=row>9</th><td>10</td><td>34</td></tr>\n",
       "\t<tr><th scope=row>15</th><td>12</td><td>28</td></tr>\n",
       "\t<tr><th scope=row>21</th><td>14</td><td>36</td></tr>\n",
       "\t<tr><th scope=row>27</th><td>16</td><td>32</td></tr>\n",
       "\t<tr><th scope=row>33</th><td>18</td><td>56</td></tr>\n",
       "\t<tr><th scope=row>39</th><td>20</td><td>32</td></tr>\n",
       "\t<tr><th scope=row>45</th><td>23</td><td>54</td></tr>\n",
       "</tbody>\n",
       "</table>\n"
      ],
      "text/latex": [
       "A data.frame: 8 × 2\n",
       "\\begin{tabular}{r|ll}\n",
       "  & speed & dist\\\\\n",
       "  & <dbl> & <dbl>\\\\\n",
       "\\hline\n",
       "\t3 &  7 &  4\\\\\n",
       "\t9 & 10 & 34\\\\\n",
       "\t15 & 12 & 28\\\\\n",
       "\t21 & 14 & 36\\\\\n",
       "\t27 & 16 & 32\\\\\n",
       "\t33 & 18 & 56\\\\\n",
       "\t39 & 20 & 32\\\\\n",
       "\t45 & 23 & 54\\\\\n",
       "\\end{tabular}\n"
      ],
      "text/markdown": [
       "\n",
       "A data.frame: 8 × 2\n",
       "\n",
       "| <!--/--> | speed &lt;dbl&gt; | dist &lt;dbl&gt; |\n",
       "|---|---|---|\n",
       "| 3 |  7 |  4 |\n",
       "| 9 | 10 | 34 |\n",
       "| 15 | 12 | 28 |\n",
       "| 21 | 14 | 36 |\n",
       "| 27 | 16 | 32 |\n",
       "| 33 | 18 | 56 |\n",
       "| 39 | 20 | 32 |\n",
       "| 45 | 23 | 54 |\n",
       "\n"
      ],
      "text/plain": [
       "   speed dist\n",
       "3   7     4  \n",
       "9  10    34  \n",
       "15 12    28  \n",
       "21 14    36  \n",
       "27 16    32  \n",
       "33 18    56  \n",
       "39 20    32  \n",
       "45 23    54  "
      ]
     },
     "metadata": {},
     "output_type": "display_data"
    }
   ],
   "source": [
    "MS=cars[Muestra2,]\n",
    "MS"
   ]
  },
  {
   "cell_type": "code",
   "execution_count": null,
   "metadata": {
    "colab": {
     "base_uri": "https://localhost:8080/",
     "height": 52
    },
    "id": "xYxbkHpHjLlj",
    "outputId": "514297de-a412-446b-a6cc-5b907756807b"
   },
   "outputs": [
    {
     "data": {
      "text/html": [
       "15"
      ],
      "text/latex": [
       "15"
      ],
      "text/markdown": [
       "15"
      ],
      "text/plain": [
       "[1] 15"
      ]
     },
     "metadata": {},
     "output_type": "display_data"
    },
    {
     "data": {
      "text/html": [
       "5.31843156256751"
      ],
      "text/latex": [
       "5.31843156256751"
      ],
      "text/markdown": [
       "5.31843156256751"
      ],
      "text/plain": [
       "[1] 5.318432"
      ]
     },
     "metadata": {},
     "output_type": "display_data"
    }
   ],
   "source": [
    "Media=mean(MS[,1])\n",
    "DesvStandar=sd(MS[,1])\n",
    "Media\n",
    "DesvStandar"
   ]
  },
  {
   "cell_type": "markdown",
   "metadata": {
    "id": "PMPJcBgXhZRL"
   },
   "source": [
    "para la variable dist"
   ]
  },
  {
   "cell_type": "code",
   "execution_count": null,
   "metadata": {
    "colab": {
     "base_uri": "https://localhost:8080/",
     "height": 52
    },
    "id": "LagTII4Hhdpg",
    "outputId": "c776d197-7fbc-490e-ccc4-235ebf7bc842"
   },
   "outputs": [
    {
     "data": {
      "text/html": [
       "34.5"
      ],
      "text/latex": [
       "34.5"
      ],
      "text/markdown": [
       "34.5"
      ],
      "text/plain": [
       "[1] 34.5"
      ]
     },
     "metadata": {},
     "output_type": "display_data"
    },
    {
     "data": {
      "text/html": [
       "16.1687529336239"
      ],
      "text/latex": [
       "16.1687529336239"
      ],
      "text/markdown": [
       "16.1687529336239"
      ],
      "text/plain": [
       "[1] 16.16875"
      ]
     },
     "metadata": {},
     "output_type": "display_data"
    }
   ],
   "source": [
    "Media=mean(MS[,2])\n",
    "DesvStandar=sd(MS[,2])\n",
    "Media\n",
    "DesvStandar"
   ]
  },
  {
   "cell_type": "markdown",
   "metadata": {
    "id": "st3Tax3Oj7iT"
   },
   "source": [
    "# **Muestreo aleatorio estratificado**"
   ]
  },
  {
   "cell_type": "markdown",
   "metadata": {
    "id": "m0zXFX20oH69"
   },
   "source": [
    "$$n_i=n \\left( \\frac{N_i}{N} \\right)$$"
   ]
  },
  {
   "cell_type": "markdown",
   "metadata": {
    "id": "E_wu7k-MoaNv"
   },
   "source": [
    "$n$ = Tamaño de la muestra\n",
    "\n",
    "$N$=Tamaño de la poblacion\n",
    "\n",
    "$N_i$=Tamaño de cada estratato\n",
    "\n",
    "$n_i$=Tamaño en la muestra de cada estrato\n",
    "\n"
   ]
  },
  {
   "cell_type": "markdown",
   "metadata": {
    "id": "EG-kJPqHozbi"
   },
   "source": [
    "**Ejemplo:**\n",
    "\n",
    "Formaremos una poblacion de 400 objetos (homogeneos) en la cual esten definidos tres grupo(estratos) conformados somo sigue\n",
    "\n",
    "Estrato 1 : 100 objetos\n",
    "\n",
    "Estrato 2 : 200 objetos\n",
    "\n",
    "Estrato 3 : 100 objetos"
   ]
  },
  {
   "cell_type": "code",
   "execution_count": null,
   "metadata": {
    "colab": {
     "base_uri": "https://localhost:8080/",
     "height": 104
    },
    "id": "dHtSqSXTpRxQ",
    "outputId": "da354f13-82dd-49b1-cd3c-834d988ef266"
   },
   "outputs": [
    {
     "data": {
      "text/html": [
       "<style>\n",
       ".list-inline {list-style: none; margin:0; padding: 0}\n",
       ".list-inline>li {display: inline-block}\n",
       ".list-inline>li:not(:last-child)::after {content: \"\\00b7\"; padding: 0 .5ex}\n",
       "</style>\n",
       "<ol class=list-inline><li>1</li><li>1</li><li>1</li><li>1</li><li>1</li><li>1</li><li>1</li><li>1</li><li>1</li><li>1</li><li>1</li><li>1</li><li>1</li><li>1</li><li>1</li><li>1</li><li>1</li><li>1</li><li>1</li><li>1</li><li>1</li><li>1</li><li>1</li><li>1</li><li>1</li><li>1</li><li>1</li><li>1</li><li>1</li><li>1</li><li>1</li><li>1</li><li>1</li><li>1</li><li>1</li><li>1</li><li>1</li><li>1</li><li>1</li><li>1</li><li>1</li><li>1</li><li>1</li><li>1</li><li>1</li><li>1</li><li>1</li><li>1</li><li>1</li><li>1</li><li>1</li><li>1</li><li>1</li><li>1</li><li>1</li><li>1</li><li>1</li><li>1</li><li>1</li><li>1</li><li>1</li><li>1</li><li>1</li><li>1</li><li>1</li><li>1</li><li>1</li><li>1</li><li>1</li><li>1</li><li>1</li><li>1</li><li>1</li><li>1</li><li>1</li><li>1</li><li>1</li><li>1</li><li>1</li><li>1</li><li>1</li><li>1</li><li>1</li><li>1</li><li>1</li><li>1</li><li>1</li><li>1</li><li>1</li><li>1</li><li>1</li><li>1</li><li>1</li><li>1</li><li>1</li><li>1</li><li>1</li><li>1</li><li>1</li><li>1</li><li>2</li><li>2</li><li>2</li><li>2</li><li>2</li><li>2</li><li>2</li><li>2</li><li>2</li><li>2</li><li>2</li><li>2</li><li>2</li><li>2</li><li>2</li><li>2</li><li>2</li><li>2</li><li>2</li><li>2</li><li>2</li><li>2</li><li>2</li><li>2</li><li>2</li><li>2</li><li>2</li><li>2</li><li>2</li><li>2</li><li>2</li><li>2</li><li>2</li><li>2</li><li>2</li><li>2</li><li>2</li><li>2</li><li>2</li><li>2</li><li>2</li><li>2</li><li>2</li><li>2</li><li>2</li><li>2</li><li>2</li><li>2</li><li>2</li><li>2</li><li>2</li><li>2</li><li>2</li><li>2</li><li>2</li><li>2</li><li>2</li><li>2</li><li>2</li><li>2</li><li>2</li><li>2</li><li>2</li><li>2</li><li>2</li><li>2</li><li>2</li><li>2</li><li>2</li><li>2</li><li>2</li><li>2</li><li>2</li><li>2</li><li>2</li><li>2</li><li>2</li><li>2</li><li>2</li><li>2</li><li>2</li><li>2</li><li>2</li><li>2</li><li>2</li><li>2</li><li>2</li><li>2</li><li>2</li><li>2</li><li>2</li><li>2</li><li>2</li><li>2</li><li>2</li><li>2</li><li>2</li><li>2</li><li>2</li><li>2</li><li>2</li><li>2</li><li>2</li><li>2</li><li>2</li><li>2</li><li>2</li><li>2</li><li>2</li><li>2</li><li>2</li><li>2</li><li>2</li><li>2</li><li>2</li><li>2</li><li>2</li><li>2</li><li>2</li><li>2</li><li>2</li><li>2</li><li>2</li><li>2</li><li>2</li><li>2</li><li>2</li><li>2</li><li>2</li><li>2</li><li>2</li><li>2</li><li>2</li><li>2</li><li>2</li><li>2</li><li>2</li><li>2</li><li>2</li><li>2</li><li>2</li><li>2</li><li>2</li><li>2</li><li>2</li><li>2</li><li>2</li><li>2</li><li>2</li><li>2</li><li>2</li><li>2</li><li>2</li><li>2</li><li>2</li><li>2</li><li>2</li><li>2</li><li>2</li><li>2</li><li>2</li><li>2</li><li>2</li><li>2</li><li>2</li><li>2</li><li>2</li><li>2</li><li>2</li><li>2</li><li>2</li><li>2</li><li>2</li><li>2</li><li>2</li><li>2</li><li>2</li><li>2</li><li>2</li><li>2</li><li>2</li><li>2</li><li>2</li><li>2</li><li>2</li><li>2</li><li>2</li><li>2</li><li>2</li><li>2</li><li>2</li><li>2</li><li>2</li><li>2</li><li>2</li><li>2</li><li>2</li><li>2</li><li>2</li><li>2</li><li>3</li><li>3</li><li>3</li><li>3</li><li>3</li><li>3</li><li>3</li><li>3</li><li>3</li><li>3</li><li>3</li><li>3</li><li>3</li><li>3</li><li>3</li><li>3</li><li>3</li><li>3</li><li>3</li><li>3</li><li>3</li><li>3</li><li>3</li><li>3</li><li>3</li><li>3</li><li>3</li><li>3</li><li>3</li><li>3</li><li>3</li><li>3</li><li>3</li><li>3</li><li>3</li><li>3</li><li>3</li><li>3</li><li>3</li><li>3</li><li>3</li><li>3</li><li>3</li><li>3</li><li>3</li><li>3</li><li>3</li><li>3</li><li>3</li><li>3</li><li>3</li><li>3</li><li>3</li><li>3</li><li>3</li><li>3</li><li>3</li><li>3</li><li>3</li><li>3</li><li>3</li><li>3</li><li>3</li><li>3</li><li>3</li><li>3</li><li>3</li><li>3</li><li>3</li><li>3</li><li>3</li><li>3</li><li>3</li><li>3</li><li>3</li><li>3</li><li>3</li><li>3</li><li>3</li><li>3</li><li>3</li><li>3</li><li>3</li><li>3</li><li>3</li><li>3</li><li>3</li><li>3</li><li>3</li><li>3</li><li>3</li><li>3</li><li>3</li><li>3</li><li>3</li><li>3</li><li>3</li><li>3</li><li>3</li><li>3</li></ol>\n"
      ],
      "text/latex": [
       "\\begin{enumerate*}\n",
       "\\item 1\n",
       "\\item 1\n",
       "\\item 1\n",
       "\\item 1\n",
       "\\item 1\n",
       "\\item 1\n",
       "\\item 1\n",
       "\\item 1\n",
       "\\item 1\n",
       "\\item 1\n",
       "\\item 1\n",
       "\\item 1\n",
       "\\item 1\n",
       "\\item 1\n",
       "\\item 1\n",
       "\\item 1\n",
       "\\item 1\n",
       "\\item 1\n",
       "\\item 1\n",
       "\\item 1\n",
       "\\item 1\n",
       "\\item 1\n",
       "\\item 1\n",
       "\\item 1\n",
       "\\item 1\n",
       "\\item 1\n",
       "\\item 1\n",
       "\\item 1\n",
       "\\item 1\n",
       "\\item 1\n",
       "\\item 1\n",
       "\\item 1\n",
       "\\item 1\n",
       "\\item 1\n",
       "\\item 1\n",
       "\\item 1\n",
       "\\item 1\n",
       "\\item 1\n",
       "\\item 1\n",
       "\\item 1\n",
       "\\item 1\n",
       "\\item 1\n",
       "\\item 1\n",
       "\\item 1\n",
       "\\item 1\n",
       "\\item 1\n",
       "\\item 1\n",
       "\\item 1\n",
       "\\item 1\n",
       "\\item 1\n",
       "\\item 1\n",
       "\\item 1\n",
       "\\item 1\n",
       "\\item 1\n",
       "\\item 1\n",
       "\\item 1\n",
       "\\item 1\n",
       "\\item 1\n",
       "\\item 1\n",
       "\\item 1\n",
       "\\item 1\n",
       "\\item 1\n",
       "\\item 1\n",
       "\\item 1\n",
       "\\item 1\n",
       "\\item 1\n",
       "\\item 1\n",
       "\\item 1\n",
       "\\item 1\n",
       "\\item 1\n",
       "\\item 1\n",
       "\\item 1\n",
       "\\item 1\n",
       "\\item 1\n",
       "\\item 1\n",
       "\\item 1\n",
       "\\item 1\n",
       "\\item 1\n",
       "\\item 1\n",
       "\\item 1\n",
       "\\item 1\n",
       "\\item 1\n",
       "\\item 1\n",
       "\\item 1\n",
       "\\item 1\n",
       "\\item 1\n",
       "\\item 1\n",
       "\\item 1\n",
       "\\item 1\n",
       "\\item 1\n",
       "\\item 1\n",
       "\\item 1\n",
       "\\item 1\n",
       "\\item 1\n",
       "\\item 1\n",
       "\\item 1\n",
       "\\item 1\n",
       "\\item 1\n",
       "\\item 1\n",
       "\\item 1\n",
       "\\item 2\n",
       "\\item 2\n",
       "\\item 2\n",
       "\\item 2\n",
       "\\item 2\n",
       "\\item 2\n",
       "\\item 2\n",
       "\\item 2\n",
       "\\item 2\n",
       "\\item 2\n",
       "\\item 2\n",
       "\\item 2\n",
       "\\item 2\n",
       "\\item 2\n",
       "\\item 2\n",
       "\\item 2\n",
       "\\item 2\n",
       "\\item 2\n",
       "\\item 2\n",
       "\\item 2\n",
       "\\item 2\n",
       "\\item 2\n",
       "\\item 2\n",
       "\\item 2\n",
       "\\item 2\n",
       "\\item 2\n",
       "\\item 2\n",
       "\\item 2\n",
       "\\item 2\n",
       "\\item 2\n",
       "\\item 2\n",
       "\\item 2\n",
       "\\item 2\n",
       "\\item 2\n",
       "\\item 2\n",
       "\\item 2\n",
       "\\item 2\n",
       "\\item 2\n",
       "\\item 2\n",
       "\\item 2\n",
       "\\item 2\n",
       "\\item 2\n",
       "\\item 2\n",
       "\\item 2\n",
       "\\item 2\n",
       "\\item 2\n",
       "\\item 2\n",
       "\\item 2\n",
       "\\item 2\n",
       "\\item 2\n",
       "\\item 2\n",
       "\\item 2\n",
       "\\item 2\n",
       "\\item 2\n",
       "\\item 2\n",
       "\\item 2\n",
       "\\item 2\n",
       "\\item 2\n",
       "\\item 2\n",
       "\\item 2\n",
       "\\item 2\n",
       "\\item 2\n",
       "\\item 2\n",
       "\\item 2\n",
       "\\item 2\n",
       "\\item 2\n",
       "\\item 2\n",
       "\\item 2\n",
       "\\item 2\n",
       "\\item 2\n",
       "\\item 2\n",
       "\\item 2\n",
       "\\item 2\n",
       "\\item 2\n",
       "\\item 2\n",
       "\\item 2\n",
       "\\item 2\n",
       "\\item 2\n",
       "\\item 2\n",
       "\\item 2\n",
       "\\item 2\n",
       "\\item 2\n",
       "\\item 2\n",
       "\\item 2\n",
       "\\item 2\n",
       "\\item 2\n",
       "\\item 2\n",
       "\\item 2\n",
       "\\item 2\n",
       "\\item 2\n",
       "\\item 2\n",
       "\\item 2\n",
       "\\item 2\n",
       "\\item 2\n",
       "\\item 2\n",
       "\\item 2\n",
       "\\item 2\n",
       "\\item 2\n",
       "\\item 2\n",
       "\\item 2\n",
       "\\item 2\n",
       "\\item 2\n",
       "\\item 2\n",
       "\\item 2\n",
       "\\item 2\n",
       "\\item 2\n",
       "\\item 2\n",
       "\\item 2\n",
       "\\item 2\n",
       "\\item 2\n",
       "\\item 2\n",
       "\\item 2\n",
       "\\item 2\n",
       "\\item 2\n",
       "\\item 2\n",
       "\\item 2\n",
       "\\item 2\n",
       "\\item 2\n",
       "\\item 2\n",
       "\\item 2\n",
       "\\item 2\n",
       "\\item 2\n",
       "\\item 2\n",
       "\\item 2\n",
       "\\item 2\n",
       "\\item 2\n",
       "\\item 2\n",
       "\\item 2\n",
       "\\item 2\n",
       "\\item 2\n",
       "\\item 2\n",
       "\\item 2\n",
       "\\item 2\n",
       "\\item 2\n",
       "\\item 2\n",
       "\\item 2\n",
       "\\item 2\n",
       "\\item 2\n",
       "\\item 2\n",
       "\\item 2\n",
       "\\item 2\n",
       "\\item 2\n",
       "\\item 2\n",
       "\\item 2\n",
       "\\item 2\n",
       "\\item 2\n",
       "\\item 2\n",
       "\\item 2\n",
       "\\item 2\n",
       "\\item 2\n",
       "\\item 2\n",
       "\\item 2\n",
       "\\item 2\n",
       "\\item 2\n",
       "\\item 2\n",
       "\\item 2\n",
       "\\item 2\n",
       "\\item 2\n",
       "\\item 2\n",
       "\\item 2\n",
       "\\item 2\n",
       "\\item 2\n",
       "\\item 2\n",
       "\\item 2\n",
       "\\item 2\n",
       "\\item 2\n",
       "\\item 2\n",
       "\\item 2\n",
       "\\item 2\n",
       "\\item 2\n",
       "\\item 2\n",
       "\\item 2\n",
       "\\item 2\n",
       "\\item 2\n",
       "\\item 2\n",
       "\\item 2\n",
       "\\item 2\n",
       "\\item 2\n",
       "\\item 2\n",
       "\\item 2\n",
       "\\item 2\n",
       "\\item 2\n",
       "\\item 2\n",
       "\\item 2\n",
       "\\item 2\n",
       "\\item 2\n",
       "\\item 2\n",
       "\\item 2\n",
       "\\item 2\n",
       "\\item 2\n",
       "\\item 2\n",
       "\\item 2\n",
       "\\item 2\n",
       "\\item 2\n",
       "\\item 2\n",
       "\\item 2\n",
       "\\item 2\n",
       "\\item 2\n",
       "\\item 2\n",
       "\\item 2\n",
       "\\item 3\n",
       "\\item 3\n",
       "\\item 3\n",
       "\\item 3\n",
       "\\item 3\n",
       "\\item 3\n",
       "\\item 3\n",
       "\\item 3\n",
       "\\item 3\n",
       "\\item 3\n",
       "\\item 3\n",
       "\\item 3\n",
       "\\item 3\n",
       "\\item 3\n",
       "\\item 3\n",
       "\\item 3\n",
       "\\item 3\n",
       "\\item 3\n",
       "\\item 3\n",
       "\\item 3\n",
       "\\item 3\n",
       "\\item 3\n",
       "\\item 3\n",
       "\\item 3\n",
       "\\item 3\n",
       "\\item 3\n",
       "\\item 3\n",
       "\\item 3\n",
       "\\item 3\n",
       "\\item 3\n",
       "\\item 3\n",
       "\\item 3\n",
       "\\item 3\n",
       "\\item 3\n",
       "\\item 3\n",
       "\\item 3\n",
       "\\item 3\n",
       "\\item 3\n",
       "\\item 3\n",
       "\\item 3\n",
       "\\item 3\n",
       "\\item 3\n",
       "\\item 3\n",
       "\\item 3\n",
       "\\item 3\n",
       "\\item 3\n",
       "\\item 3\n",
       "\\item 3\n",
       "\\item 3\n",
       "\\item 3\n",
       "\\item 3\n",
       "\\item 3\n",
       "\\item 3\n",
       "\\item 3\n",
       "\\item 3\n",
       "\\item 3\n",
       "\\item 3\n",
       "\\item 3\n",
       "\\item 3\n",
       "\\item 3\n",
       "\\item 3\n",
       "\\item 3\n",
       "\\item 3\n",
       "\\item 3\n",
       "\\item 3\n",
       "\\item 3\n",
       "\\item 3\n",
       "\\item 3\n",
       "\\item 3\n",
       "\\item 3\n",
       "\\item 3\n",
       "\\item 3\n",
       "\\item 3\n",
       "\\item 3\n",
       "\\item 3\n",
       "\\item 3\n",
       "\\item 3\n",
       "\\item 3\n",
       "\\item 3\n",
       "\\item 3\n",
       "\\item 3\n",
       "\\item 3\n",
       "\\item 3\n",
       "\\item 3\n",
       "\\item 3\n",
       "\\item 3\n",
       "\\item 3\n",
       "\\item 3\n",
       "\\item 3\n",
       "\\item 3\n",
       "\\item 3\n",
       "\\item 3\n",
       "\\item 3\n",
       "\\item 3\n",
       "\\item 3\n",
       "\\item 3\n",
       "\\item 3\n",
       "\\item 3\n",
       "\\item 3\n",
       "\\item 3\n",
       "\\end{enumerate*}\n"
      ],
      "text/markdown": [
       "1. 1\n",
       "2. 1\n",
       "3. 1\n",
       "4. 1\n",
       "5. 1\n",
       "6. 1\n",
       "7. 1\n",
       "8. 1\n",
       "9. 1\n",
       "10. 1\n",
       "11. 1\n",
       "12. 1\n",
       "13. 1\n",
       "14. 1\n",
       "15. 1\n",
       "16. 1\n",
       "17. 1\n",
       "18. 1\n",
       "19. 1\n",
       "20. 1\n",
       "21. 1\n",
       "22. 1\n",
       "23. 1\n",
       "24. 1\n",
       "25. 1\n",
       "26. 1\n",
       "27. 1\n",
       "28. 1\n",
       "29. 1\n",
       "30. 1\n",
       "31. 1\n",
       "32. 1\n",
       "33. 1\n",
       "34. 1\n",
       "35. 1\n",
       "36. 1\n",
       "37. 1\n",
       "38. 1\n",
       "39. 1\n",
       "40. 1\n",
       "41. 1\n",
       "42. 1\n",
       "43. 1\n",
       "44. 1\n",
       "45. 1\n",
       "46. 1\n",
       "47. 1\n",
       "48. 1\n",
       "49. 1\n",
       "50. 1\n",
       "51. 1\n",
       "52. 1\n",
       "53. 1\n",
       "54. 1\n",
       "55. 1\n",
       "56. 1\n",
       "57. 1\n",
       "58. 1\n",
       "59. 1\n",
       "60. 1\n",
       "61. 1\n",
       "62. 1\n",
       "63. 1\n",
       "64. 1\n",
       "65. 1\n",
       "66. 1\n",
       "67. 1\n",
       "68. 1\n",
       "69. 1\n",
       "70. 1\n",
       "71. 1\n",
       "72. 1\n",
       "73. 1\n",
       "74. 1\n",
       "75. 1\n",
       "76. 1\n",
       "77. 1\n",
       "78. 1\n",
       "79. 1\n",
       "80. 1\n",
       "81. 1\n",
       "82. 1\n",
       "83. 1\n",
       "84. 1\n",
       "85. 1\n",
       "86. 1\n",
       "87. 1\n",
       "88. 1\n",
       "89. 1\n",
       "90. 1\n",
       "91. 1\n",
       "92. 1\n",
       "93. 1\n",
       "94. 1\n",
       "95. 1\n",
       "96. 1\n",
       "97. 1\n",
       "98. 1\n",
       "99. 1\n",
       "100. 1\n",
       "101. 2\n",
       "102. 2\n",
       "103. 2\n",
       "104. 2\n",
       "105. 2\n",
       "106. 2\n",
       "107. 2\n",
       "108. 2\n",
       "109. 2\n",
       "110. 2\n",
       "111. 2\n",
       "112. 2\n",
       "113. 2\n",
       "114. 2\n",
       "115. 2\n",
       "116. 2\n",
       "117. 2\n",
       "118. 2\n",
       "119. 2\n",
       "120. 2\n",
       "121. 2\n",
       "122. 2\n",
       "123. 2\n",
       "124. 2\n",
       "125. 2\n",
       "126. 2\n",
       "127. 2\n",
       "128. 2\n",
       "129. 2\n",
       "130. 2\n",
       "131. 2\n",
       "132. 2\n",
       "133. 2\n",
       "134. 2\n",
       "135. 2\n",
       "136. 2\n",
       "137. 2\n",
       "138. 2\n",
       "139. 2\n",
       "140. 2\n",
       "141. 2\n",
       "142. 2\n",
       "143. 2\n",
       "144. 2\n",
       "145. 2\n",
       "146. 2\n",
       "147. 2\n",
       "148. 2\n",
       "149. 2\n",
       "150. 2\n",
       "151. 2\n",
       "152. 2\n",
       "153. 2\n",
       "154. 2\n",
       "155. 2\n",
       "156. 2\n",
       "157. 2\n",
       "158. 2\n",
       "159. 2\n",
       "160. 2\n",
       "161. 2\n",
       "162. 2\n",
       "163. 2\n",
       "164. 2\n",
       "165. 2\n",
       "166. 2\n",
       "167. 2\n",
       "168. 2\n",
       "169. 2\n",
       "170. 2\n",
       "171. 2\n",
       "172. 2\n",
       "173. 2\n",
       "174. 2\n",
       "175. 2\n",
       "176. 2\n",
       "177. 2\n",
       "178. 2\n",
       "179. 2\n",
       "180. 2\n",
       "181. 2\n",
       "182. 2\n",
       "183. 2\n",
       "184. 2\n",
       "185. 2\n",
       "186. 2\n",
       "187. 2\n",
       "188. 2\n",
       "189. 2\n",
       "190. 2\n",
       "191. 2\n",
       "192. 2\n",
       "193. 2\n",
       "194. 2\n",
       "195. 2\n",
       "196. 2\n",
       "197. 2\n",
       "198. 2\n",
       "199. 2\n",
       "200. 2\n",
       "201. 2\n",
       "202. 2\n",
       "203. 2\n",
       "204. 2\n",
       "205. 2\n",
       "206. 2\n",
       "207. 2\n",
       "208. 2\n",
       "209. 2\n",
       "210. 2\n",
       "211. 2\n",
       "212. 2\n",
       "213. 2\n",
       "214. 2\n",
       "215. 2\n",
       "216. 2\n",
       "217. 2\n",
       "218. 2\n",
       "219. 2\n",
       "220. 2\n",
       "221. 2\n",
       "222. 2\n",
       "223. 2\n",
       "224. 2\n",
       "225. 2\n",
       "226. 2\n",
       "227. 2\n",
       "228. 2\n",
       "229. 2\n",
       "230. 2\n",
       "231. 2\n",
       "232. 2\n",
       "233. 2\n",
       "234. 2\n",
       "235. 2\n",
       "236. 2\n",
       "237. 2\n",
       "238. 2\n",
       "239. 2\n",
       "240. 2\n",
       "241. 2\n",
       "242. 2\n",
       "243. 2\n",
       "244. 2\n",
       "245. 2\n",
       "246. 2\n",
       "247. 2\n",
       "248. 2\n",
       "249. 2\n",
       "250. 2\n",
       "251. 2\n",
       "252. 2\n",
       "253. 2\n",
       "254. 2\n",
       "255. 2\n",
       "256. 2\n",
       "257. 2\n",
       "258. 2\n",
       "259. 2\n",
       "260. 2\n",
       "261. 2\n",
       "262. 2\n",
       "263. 2\n",
       "264. 2\n",
       "265. 2\n",
       "266. 2\n",
       "267. 2\n",
       "268. 2\n",
       "269. 2\n",
       "270. 2\n",
       "271. 2\n",
       "272. 2\n",
       "273. 2\n",
       "274. 2\n",
       "275. 2\n",
       "276. 2\n",
       "277. 2\n",
       "278. 2\n",
       "279. 2\n",
       "280. 2\n",
       "281. 2\n",
       "282. 2\n",
       "283. 2\n",
       "284. 2\n",
       "285. 2\n",
       "286. 2\n",
       "287. 2\n",
       "288. 2\n",
       "289. 2\n",
       "290. 2\n",
       "291. 2\n",
       "292. 2\n",
       "293. 2\n",
       "294. 2\n",
       "295. 2\n",
       "296. 2\n",
       "297. 2\n",
       "298. 2\n",
       "299. 2\n",
       "300. 2\n",
       "301. 3\n",
       "302. 3\n",
       "303. 3\n",
       "304. 3\n",
       "305. 3\n",
       "306. 3\n",
       "307. 3\n",
       "308. 3\n",
       "309. 3\n",
       "310. 3\n",
       "311. 3\n",
       "312. 3\n",
       "313. 3\n",
       "314. 3\n",
       "315. 3\n",
       "316. 3\n",
       "317. 3\n",
       "318. 3\n",
       "319. 3\n",
       "320. 3\n",
       "321. 3\n",
       "322. 3\n",
       "323. 3\n",
       "324. 3\n",
       "325. 3\n",
       "326. 3\n",
       "327. 3\n",
       "328. 3\n",
       "329. 3\n",
       "330. 3\n",
       "331. 3\n",
       "332. 3\n",
       "333. 3\n",
       "334. 3\n",
       "335. 3\n",
       "336. 3\n",
       "337. 3\n",
       "338. 3\n",
       "339. 3\n",
       "340. 3\n",
       "341. 3\n",
       "342. 3\n",
       "343. 3\n",
       "344. 3\n",
       "345. 3\n",
       "346. 3\n",
       "347. 3\n",
       "348. 3\n",
       "349. 3\n",
       "350. 3\n",
       "351. 3\n",
       "352. 3\n",
       "353. 3\n",
       "354. 3\n",
       "355. 3\n",
       "356. 3\n",
       "357. 3\n",
       "358. 3\n",
       "359. 3\n",
       "360. 3\n",
       "361. 3\n",
       "362. 3\n",
       "363. 3\n",
       "364. 3\n",
       "365. 3\n",
       "366. 3\n",
       "367. 3\n",
       "368. 3\n",
       "369. 3\n",
       "370. 3\n",
       "371. 3\n",
       "372. 3\n",
       "373. 3\n",
       "374. 3\n",
       "375. 3\n",
       "376. 3\n",
       "377. 3\n",
       "378. 3\n",
       "379. 3\n",
       "380. 3\n",
       "381. 3\n",
       "382. 3\n",
       "383. 3\n",
       "384. 3\n",
       "385. 3\n",
       "386. 3\n",
       "387. 3\n",
       "388. 3\n",
       "389. 3\n",
       "390. 3\n",
       "391. 3\n",
       "392. 3\n",
       "393. 3\n",
       "394. 3\n",
       "395. 3\n",
       "396. 3\n",
       "397. 3\n",
       "398. 3\n",
       "399. 3\n",
       "400. 3\n",
       "\n",
       "\n"
      ],
      "text/plain": [
       "  [1] 1 1 1 1 1 1 1 1 1 1 1 1 1 1 1 1 1 1 1 1 1 1 1 1 1 1 1 1 1 1 1 1 1 1 1 1 1\n",
       " [38] 1 1 1 1 1 1 1 1 1 1 1 1 1 1 1 1 1 1 1 1 1 1 1 1 1 1 1 1 1 1 1 1 1 1 1 1 1\n",
       " [75] 1 1 1 1 1 1 1 1 1 1 1 1 1 1 1 1 1 1 1 1 1 1 1 1 1 1 2 2 2 2 2 2 2 2 2 2 2\n",
       "[112] 2 2 2 2 2 2 2 2 2 2 2 2 2 2 2 2 2 2 2 2 2 2 2 2 2 2 2 2 2 2 2 2 2 2 2 2 2\n",
       "[149] 2 2 2 2 2 2 2 2 2 2 2 2 2 2 2 2 2 2 2 2 2 2 2 2 2 2 2 2 2 2 2 2 2 2 2 2 2\n",
       "[186] 2 2 2 2 2 2 2 2 2 2 2 2 2 2 2 2 2 2 2 2 2 2 2 2 2 2 2 2 2 2 2 2 2 2 2 2 2\n",
       "[223] 2 2 2 2 2 2 2 2 2 2 2 2 2 2 2 2 2 2 2 2 2 2 2 2 2 2 2 2 2 2 2 2 2 2 2 2 2\n",
       "[260] 2 2 2 2 2 2 2 2 2 2 2 2 2 2 2 2 2 2 2 2 2 2 2 2 2 2 2 2 2 2 2 2 2 2 2 2 2\n",
       "[297] 2 2 2 2 3 3 3 3 3 3 3 3 3 3 3 3 3 3 3 3 3 3 3 3 3 3 3 3 3 3 3 3 3 3 3 3 3\n",
       "[334] 3 3 3 3 3 3 3 3 3 3 3 3 3 3 3 3 3 3 3 3 3 3 3 3 3 3 3 3 3 3 3 3 3 3 3 3 3\n",
       "[371] 3 3 3 3 3 3 3 3 3 3 3 3 3 3 3 3 3 3 3 3 3 3 3 3 3 3 3 3 3 3"
      ]
     },
     "metadata": {},
     "output_type": "display_data"
    }
   ],
   "source": [
    "VarEstratoDepartamento=c(rep(1,100),rep(2,200),rep(3,100))\n",
    "VarEstratoDepartamento"
   ]
  },
  {
   "cell_type": "code",
   "execution_count": null,
   "metadata": {
    "id": "V3ZbX8MIp2uy"
   },
   "outputs": [],
   "source": [
    "sueldos=c(rnorm(100,1200,55),rnorm(200,3500,175),rnorm(100,2500,120))"
   ]
  },
  {
   "cell_type": "code",
   "execution_count": null,
   "metadata": {
    "colab": {
     "base_uri": "https://localhost:8080/",
     "height": 1000
    },
    "id": "vub_fT0PqaAk",
    "outputId": "9ac643f5-d503-4045-e427-04b7f9148ae6"
   },
   "outputs": [
    {
     "data": {
      "text/html": [
       "<table class=\"dataframe\">\n",
       "<caption>A data.frame: 400 × 2</caption>\n",
       "<thead>\n",
       "\t<tr><th scope=col>VarEstratoDepartamento</th><th scope=col>sueldos</th></tr>\n",
       "\t<tr><th scope=col>&lt;dbl&gt;</th><th scope=col>&lt;dbl&gt;</th></tr>\n",
       "</thead>\n",
       "<tbody>\n",
       "\t<tr><td>1</td><td>1268.415</td></tr>\n",
       "\t<tr><td>1</td><td>1246.095</td></tr>\n",
       "\t<tr><td>1</td><td>1144.536</td></tr>\n",
       "\t<tr><td>1</td><td>1299.729</td></tr>\n",
       "\t<tr><td>1</td><td>1194.753</td></tr>\n",
       "\t<tr><td>1</td><td>1138.618</td></tr>\n",
       "\t<tr><td>1</td><td>1256.042</td></tr>\n",
       "\t<tr><td>1</td><td>1157.014</td></tr>\n",
       "\t<tr><td>1</td><td>1211.752</td></tr>\n",
       "\t<tr><td>1</td><td>1159.622</td></tr>\n",
       "\t<tr><td>1</td><td>1133.810</td></tr>\n",
       "\t<tr><td>1</td><td>1178.845</td></tr>\n",
       "\t<tr><td>1</td><td>1278.920</td></tr>\n",
       "\t<tr><td>1</td><td>1097.492</td></tr>\n",
       "\t<tr><td>1</td><td>1193.253</td></tr>\n",
       "\t<tr><td>1</td><td>1309.108</td></tr>\n",
       "\t<tr><td>1</td><td>1351.115</td></tr>\n",
       "\t<tr><td>1</td><td>1215.490</td></tr>\n",
       "\t<tr><td>1</td><td>1179.689</td></tr>\n",
       "\t<tr><td>1</td><td>1186.346</td></tr>\n",
       "\t<tr><td>1</td><td>1183.250</td></tr>\n",
       "\t<tr><td>1</td><td>1148.442</td></tr>\n",
       "\t<tr><td>1</td><td>1234.128</td></tr>\n",
       "\t<tr><td>1</td><td>1211.622</td></tr>\n",
       "\t<tr><td>1</td><td>1194.050</td></tr>\n",
       "\t<tr><td>1</td><td>1212.846</td></tr>\n",
       "\t<tr><td>1</td><td>1181.285</td></tr>\n",
       "\t<tr><td>1</td><td>1240.236</td></tr>\n",
       "\t<tr><td>1</td><td>1189.053</td></tr>\n",
       "\t<tr><td>1</td><td>1099.083</td></tr>\n",
       "\t<tr><td>⋮</td><td>⋮</td></tr>\n",
       "\t<tr><td>3</td><td>2565.016</td></tr>\n",
       "\t<tr><td>3</td><td>2645.188</td></tr>\n",
       "\t<tr><td>3</td><td>2593.972</td></tr>\n",
       "\t<tr><td>3</td><td>2687.051</td></tr>\n",
       "\t<tr><td>3</td><td>2449.529</td></tr>\n",
       "\t<tr><td>3</td><td>2477.639</td></tr>\n",
       "\t<tr><td>3</td><td>2572.980</td></tr>\n",
       "\t<tr><td>3</td><td>2659.700</td></tr>\n",
       "\t<tr><td>3</td><td>2615.453</td></tr>\n",
       "\t<tr><td>3</td><td>2549.249</td></tr>\n",
       "\t<tr><td>3</td><td>2409.325</td></tr>\n",
       "\t<tr><td>3</td><td>2535.235</td></tr>\n",
       "\t<tr><td>3</td><td>2441.938</td></tr>\n",
       "\t<tr><td>3</td><td>2416.241</td></tr>\n",
       "\t<tr><td>3</td><td>2609.072</td></tr>\n",
       "\t<tr><td>3</td><td>2511.173</td></tr>\n",
       "\t<tr><td>3</td><td>2547.588</td></tr>\n",
       "\t<tr><td>3</td><td>2443.926</td></tr>\n",
       "\t<tr><td>3</td><td>2531.966</td></tr>\n",
       "\t<tr><td>3</td><td>2435.749</td></tr>\n",
       "\t<tr><td>3</td><td>2423.754</td></tr>\n",
       "\t<tr><td>3</td><td>2414.341</td></tr>\n",
       "\t<tr><td>3</td><td>2595.304</td></tr>\n",
       "\t<tr><td>3</td><td>2453.569</td></tr>\n",
       "\t<tr><td>3</td><td>2619.090</td></tr>\n",
       "\t<tr><td>3</td><td>2693.002</td></tr>\n",
       "\t<tr><td>3</td><td>2579.131</td></tr>\n",
       "\t<tr><td>3</td><td>2518.706</td></tr>\n",
       "\t<tr><td>3</td><td>2299.786</td></tr>\n",
       "\t<tr><td>3</td><td>2444.119</td></tr>\n",
       "</tbody>\n",
       "</table>\n"
      ],
      "text/latex": [
       "A data.frame: 400 × 2\n",
       "\\begin{tabular}{ll}\n",
       " VarEstratoDepartamento & sueldos\\\\\n",
       " <dbl> & <dbl>\\\\\n",
       "\\hline\n",
       "\t 1 & 1268.415\\\\\n",
       "\t 1 & 1246.095\\\\\n",
       "\t 1 & 1144.536\\\\\n",
       "\t 1 & 1299.729\\\\\n",
       "\t 1 & 1194.753\\\\\n",
       "\t 1 & 1138.618\\\\\n",
       "\t 1 & 1256.042\\\\\n",
       "\t 1 & 1157.014\\\\\n",
       "\t 1 & 1211.752\\\\\n",
       "\t 1 & 1159.622\\\\\n",
       "\t 1 & 1133.810\\\\\n",
       "\t 1 & 1178.845\\\\\n",
       "\t 1 & 1278.920\\\\\n",
       "\t 1 & 1097.492\\\\\n",
       "\t 1 & 1193.253\\\\\n",
       "\t 1 & 1309.108\\\\\n",
       "\t 1 & 1351.115\\\\\n",
       "\t 1 & 1215.490\\\\\n",
       "\t 1 & 1179.689\\\\\n",
       "\t 1 & 1186.346\\\\\n",
       "\t 1 & 1183.250\\\\\n",
       "\t 1 & 1148.442\\\\\n",
       "\t 1 & 1234.128\\\\\n",
       "\t 1 & 1211.622\\\\\n",
       "\t 1 & 1194.050\\\\\n",
       "\t 1 & 1212.846\\\\\n",
       "\t 1 & 1181.285\\\\\n",
       "\t 1 & 1240.236\\\\\n",
       "\t 1 & 1189.053\\\\\n",
       "\t 1 & 1099.083\\\\\n",
       "\t ⋮ & ⋮\\\\\n",
       "\t 3 & 2565.016\\\\\n",
       "\t 3 & 2645.188\\\\\n",
       "\t 3 & 2593.972\\\\\n",
       "\t 3 & 2687.051\\\\\n",
       "\t 3 & 2449.529\\\\\n",
       "\t 3 & 2477.639\\\\\n",
       "\t 3 & 2572.980\\\\\n",
       "\t 3 & 2659.700\\\\\n",
       "\t 3 & 2615.453\\\\\n",
       "\t 3 & 2549.249\\\\\n",
       "\t 3 & 2409.325\\\\\n",
       "\t 3 & 2535.235\\\\\n",
       "\t 3 & 2441.938\\\\\n",
       "\t 3 & 2416.241\\\\\n",
       "\t 3 & 2609.072\\\\\n",
       "\t 3 & 2511.173\\\\\n",
       "\t 3 & 2547.588\\\\\n",
       "\t 3 & 2443.926\\\\\n",
       "\t 3 & 2531.966\\\\\n",
       "\t 3 & 2435.749\\\\\n",
       "\t 3 & 2423.754\\\\\n",
       "\t 3 & 2414.341\\\\\n",
       "\t 3 & 2595.304\\\\\n",
       "\t 3 & 2453.569\\\\\n",
       "\t 3 & 2619.090\\\\\n",
       "\t 3 & 2693.002\\\\\n",
       "\t 3 & 2579.131\\\\\n",
       "\t 3 & 2518.706\\\\\n",
       "\t 3 & 2299.786\\\\\n",
       "\t 3 & 2444.119\\\\\n",
       "\\end{tabular}\n"
      ],
      "text/markdown": [
       "\n",
       "A data.frame: 400 × 2\n",
       "\n",
       "| VarEstratoDepartamento &lt;dbl&gt; | sueldos &lt;dbl&gt; |\n",
       "|---|---|\n",
       "| 1 | 1268.415 |\n",
       "| 1 | 1246.095 |\n",
       "| 1 | 1144.536 |\n",
       "| 1 | 1299.729 |\n",
       "| 1 | 1194.753 |\n",
       "| 1 | 1138.618 |\n",
       "| 1 | 1256.042 |\n",
       "| 1 | 1157.014 |\n",
       "| 1 | 1211.752 |\n",
       "| 1 | 1159.622 |\n",
       "| 1 | 1133.810 |\n",
       "| 1 | 1178.845 |\n",
       "| 1 | 1278.920 |\n",
       "| 1 | 1097.492 |\n",
       "| 1 | 1193.253 |\n",
       "| 1 | 1309.108 |\n",
       "| 1 | 1351.115 |\n",
       "| 1 | 1215.490 |\n",
       "| 1 | 1179.689 |\n",
       "| 1 | 1186.346 |\n",
       "| 1 | 1183.250 |\n",
       "| 1 | 1148.442 |\n",
       "| 1 | 1234.128 |\n",
       "| 1 | 1211.622 |\n",
       "| 1 | 1194.050 |\n",
       "| 1 | 1212.846 |\n",
       "| 1 | 1181.285 |\n",
       "| 1 | 1240.236 |\n",
       "| 1 | 1189.053 |\n",
       "| 1 | 1099.083 |\n",
       "| ⋮ | ⋮ |\n",
       "| 3 | 2565.016 |\n",
       "| 3 | 2645.188 |\n",
       "| 3 | 2593.972 |\n",
       "| 3 | 2687.051 |\n",
       "| 3 | 2449.529 |\n",
       "| 3 | 2477.639 |\n",
       "| 3 | 2572.980 |\n",
       "| 3 | 2659.700 |\n",
       "| 3 | 2615.453 |\n",
       "| 3 | 2549.249 |\n",
       "| 3 | 2409.325 |\n",
       "| 3 | 2535.235 |\n",
       "| 3 | 2441.938 |\n",
       "| 3 | 2416.241 |\n",
       "| 3 | 2609.072 |\n",
       "| 3 | 2511.173 |\n",
       "| 3 | 2547.588 |\n",
       "| 3 | 2443.926 |\n",
       "| 3 | 2531.966 |\n",
       "| 3 | 2435.749 |\n",
       "| 3 | 2423.754 |\n",
       "| 3 | 2414.341 |\n",
       "| 3 | 2595.304 |\n",
       "| 3 | 2453.569 |\n",
       "| 3 | 2619.090 |\n",
       "| 3 | 2693.002 |\n",
       "| 3 | 2579.131 |\n",
       "| 3 | 2518.706 |\n",
       "| 3 | 2299.786 |\n",
       "| 3 | 2444.119 |\n",
       "\n"
      ],
      "text/plain": [
       "    VarEstratoDepartamento sueldos \n",
       "1   1                      1268.415\n",
       "2   1                      1246.095\n",
       "3   1                      1144.536\n",
       "4   1                      1299.729\n",
       "5   1                      1194.753\n",
       "6   1                      1138.618\n",
       "7   1                      1256.042\n",
       "8   1                      1157.014\n",
       "9   1                      1211.752\n",
       "10  1                      1159.622\n",
       "11  1                      1133.810\n",
       "12  1                      1178.845\n",
       "13  1                      1278.920\n",
       "14  1                      1097.492\n",
       "15  1                      1193.253\n",
       "16  1                      1309.108\n",
       "17  1                      1351.115\n",
       "18  1                      1215.490\n",
       "19  1                      1179.689\n",
       "20  1                      1186.346\n",
       "21  1                      1183.250\n",
       "22  1                      1148.442\n",
       "23  1                      1234.128\n",
       "24  1                      1211.622\n",
       "25  1                      1194.050\n",
       "26  1                      1212.846\n",
       "27  1                      1181.285\n",
       "28  1                      1240.236\n",
       "29  1                      1189.053\n",
       "30  1                      1099.083\n",
       "⋮   ⋮                      ⋮       \n",
       "371 3                      2565.016\n",
       "372 3                      2645.188\n",
       "373 3                      2593.972\n",
       "374 3                      2687.051\n",
       "375 3                      2449.529\n",
       "376 3                      2477.639\n",
       "377 3                      2572.980\n",
       "378 3                      2659.700\n",
       "379 3                      2615.453\n",
       "380 3                      2549.249\n",
       "381 3                      2409.325\n",
       "382 3                      2535.235\n",
       "383 3                      2441.938\n",
       "384 3                      2416.241\n",
       "385 3                      2609.072\n",
       "386 3                      2511.173\n",
       "387 3                      2547.588\n",
       "388 3                      2443.926\n",
       "389 3                      2531.966\n",
       "390 3                      2435.749\n",
       "391 3                      2423.754\n",
       "392 3                      2414.341\n",
       "393 3                      2595.304\n",
       "394 3                      2453.569\n",
       "395 3                      2619.090\n",
       "396 3                      2693.002\n",
       "397 3                      2579.131\n",
       "398 3                      2518.706\n",
       "399 3                      2299.786\n",
       "400 3                      2444.119"
      ]
     },
     "metadata": {},
     "output_type": "display_data"
    }
   ],
   "source": [
    "datos=cbind.data.frame(VarEstratoDepartamento,sueldos)\n",
    "datos"
   ]
  },
  {
   "cell_type": "code",
   "execution_count": null,
   "metadata": {
    "colab": {
     "base_uri": "https://localhost:8080/"
    },
    "id": "CYnhnU7vrpxx",
    "outputId": "48d82017-4192-4eba-c8e3-68f468e05510"
   },
   "outputs": [
    {
     "name": "stderr",
     "output_type": "stream",
     "text": [
      "Installing package into ‘/usr/local/lib/R/site-library’\n",
      "(as ‘lib’ is unspecified)\n",
      "\n",
      "also installing the dependencies ‘minqa’, ‘numDeriv’, ‘mitools’\n",
      "\n",
      "\n"
     ]
    }
   ],
   "source": [
    "install.packages(\"survey\")"
   ]
  },
  {
   "cell_type": "code",
   "execution_count": null,
   "metadata": {
    "colab": {
     "base_uri": "https://localhost:8080/"
    },
    "id": "JUyxMINmr1Do",
    "outputId": "caee8419-13f3-4b56-dd75-16cc0d6bc20e"
   },
   "outputs": [
    {
     "name": "stderr",
     "output_type": "stream",
     "text": [
      "Loading required package: grid\n",
      "\n",
      "Loading required package: Matrix\n",
      "\n",
      "Loading required package: survival\n",
      "\n",
      "\n",
      "Attaching package: ‘survey’\n",
      "\n",
      "\n",
      "The following object is masked from ‘package:graphics’:\n",
      "\n",
      "    dotchart\n",
      "\n",
      "\n"
     ]
    }
   ],
   "source": [
    "library(survey)"
   ]
  },
  {
   "cell_type": "code",
   "execution_count": null,
   "metadata": {
    "colab": {
     "base_uri": "https://localhost:8080/"
    },
    "id": "0iVIMSmfr_UU",
    "outputId": "f089a775-bc6b-477a-e207-c366a2490437"
   },
   "outputs": [
    {
     "name": "stderr",
     "output_type": "stream",
     "text": [
      "Installing package into ‘/usr/local/lib/R/site-library’\n",
      "(as ‘lib’ is unspecified)\n",
      "\n",
      "also installing the dependency ‘lpSolve’\n",
      "\n",
      "\n"
     ]
    }
   ],
   "source": [
    "install.packages(\"sampling\")"
   ]
  },
  {
   "cell_type": "code",
   "execution_count": null,
   "metadata": {
    "colab": {
     "base_uri": "https://localhost:8080/"
    },
    "id": "QWixBoU9sJCh",
    "outputId": "0008d616-108d-4eec-cef2-8482fa337b8d"
   },
   "outputs": [
    {
     "name": "stderr",
     "output_type": "stream",
     "text": [
      "\n",
      "Attaching package: ‘sampling’\n",
      "\n",
      "\n",
      "The following objects are masked from ‘package:survival’:\n",
      "\n",
      "    cluster, strata\n",
      "\n",
      "\n"
     ]
    }
   ],
   "source": [
    "library(sampling)"
   ]
  },
  {
   "cell_type": "markdown",
   "metadata": {
    "id": "pw1oB65FshZB"
   },
   "source": [
    "$n=36$\n",
    "\n",
    "$N=400$\n",
    "\n",
    "$N_1=100$\n",
    "\n",
    "$N_2=200$\n",
    "\n",
    "$N_3=100$\n",
    "\n",
    "\n",
    "\n",
    "\n",
    "\n",
    "$n_1=n \\left( \\frac{N_1}{N} \\right)=36 \\left( \\frac{100}{400} \\right)=9$\n",
    "\n",
    "$n_2=n \\left( \\frac{N_2}{N} \\right)=36 \\left( \\frac{200}{400} \\right)=18$\n",
    "\n",
    "$n_3=n \\left( \\frac{N_3}{N} \\right)=36 \\left( \\frac{100}{400} \\right)=9$"
   ]
  },
  {
   "cell_type": "code",
   "execution_count": null,
   "metadata": {
    "colab": {
     "base_uri": "https://localhost:8080/",
     "height": 1000
    },
    "id": "7Qw4a3QUr_bK",
    "outputId": "d3667eef-be7b-4759-8ec5-e428bf3785fa"
   },
   "outputs": [
    {
     "data": {
      "text/html": [
       "<table class=\"dataframe\">\n",
       "<caption>A data.frame: 36 × 4</caption>\n",
       "<thead>\n",
       "\t<tr><th></th><th scope=col>VarEstratoDepartamento</th><th scope=col>ID_unit</th><th scope=col>Prob</th><th scope=col>Stratum</th></tr>\n",
       "\t<tr><th></th><th scope=col>&lt;dbl&gt;</th><th scope=col>&lt;int&gt;</th><th scope=col>&lt;dbl&gt;</th><th scope=col>&lt;int&gt;</th></tr>\n",
       "</thead>\n",
       "<tbody>\n",
       "\t<tr><th scope=row>2</th><td>1</td><td>  2</td><td>0.09</td><td>1</td></tr>\n",
       "\t<tr><th scope=row>30</th><td>1</td><td> 30</td><td>0.09</td><td>1</td></tr>\n",
       "\t<tr><th scope=row>38</th><td>1</td><td> 38</td><td>0.09</td><td>1</td></tr>\n",
       "\t<tr><th scope=row>54</th><td>1</td><td> 54</td><td>0.09</td><td>1</td></tr>\n",
       "\t<tr><th scope=row>62</th><td>1</td><td> 62</td><td>0.09</td><td>1</td></tr>\n",
       "\t<tr><th scope=row>69</th><td>1</td><td> 69</td><td>0.09</td><td>1</td></tr>\n",
       "\t<tr><th scope=row>78</th><td>1</td><td> 78</td><td>0.09</td><td>1</td></tr>\n",
       "\t<tr><th scope=row>90</th><td>1</td><td> 90</td><td>0.09</td><td>1</td></tr>\n",
       "\t<tr><th scope=row>95</th><td>1</td><td> 95</td><td>0.09</td><td>1</td></tr>\n",
       "\t<tr><th scope=row>104</th><td>2</td><td>104</td><td>0.09</td><td>2</td></tr>\n",
       "\t<tr><th scope=row>112</th><td>2</td><td>112</td><td>0.09</td><td>2</td></tr>\n",
       "\t<tr><th scope=row>124</th><td>2</td><td>124</td><td>0.09</td><td>2</td></tr>\n",
       "\t<tr><th scope=row>129</th><td>2</td><td>129</td><td>0.09</td><td>2</td></tr>\n",
       "\t<tr><th scope=row>145</th><td>2</td><td>145</td><td>0.09</td><td>2</td></tr>\n",
       "\t<tr><th scope=row>148</th><td>2</td><td>148</td><td>0.09</td><td>2</td></tr>\n",
       "\t<tr><th scope=row>151</th><td>2</td><td>151</td><td>0.09</td><td>2</td></tr>\n",
       "\t<tr><th scope=row>155</th><td>2</td><td>155</td><td>0.09</td><td>2</td></tr>\n",
       "\t<tr><th scope=row>185</th><td>2</td><td>185</td><td>0.09</td><td>2</td></tr>\n",
       "\t<tr><th scope=row>193</th><td>2</td><td>193</td><td>0.09</td><td>2</td></tr>\n",
       "\t<tr><th scope=row>201</th><td>2</td><td>201</td><td>0.09</td><td>2</td></tr>\n",
       "\t<tr><th scope=row>207</th><td>2</td><td>207</td><td>0.09</td><td>2</td></tr>\n",
       "\t<tr><th scope=row>209</th><td>2</td><td>209</td><td>0.09</td><td>2</td></tr>\n",
       "\t<tr><th scope=row>226</th><td>2</td><td>226</td><td>0.09</td><td>2</td></tr>\n",
       "\t<tr><th scope=row>239</th><td>2</td><td>239</td><td>0.09</td><td>2</td></tr>\n",
       "\t<tr><th scope=row>264</th><td>2</td><td>264</td><td>0.09</td><td>2</td></tr>\n",
       "\t<tr><th scope=row>266</th><td>2</td><td>266</td><td>0.09</td><td>2</td></tr>\n",
       "\t<tr><th scope=row>273</th><td>2</td><td>273</td><td>0.09</td><td>2</td></tr>\n",
       "\t<tr><th scope=row>303</th><td>3</td><td>303</td><td>0.09</td><td>3</td></tr>\n",
       "\t<tr><th scope=row>336</th><td>3</td><td>336</td><td>0.09</td><td>3</td></tr>\n",
       "\t<tr><th scope=row>359</th><td>3</td><td>359</td><td>0.09</td><td>3</td></tr>\n",
       "\t<tr><th scope=row>362</th><td>3</td><td>362</td><td>0.09</td><td>3</td></tr>\n",
       "\t<tr><th scope=row>364</th><td>3</td><td>364</td><td>0.09</td><td>3</td></tr>\n",
       "\t<tr><th scope=row>372</th><td>3</td><td>372</td><td>0.09</td><td>3</td></tr>\n",
       "\t<tr><th scope=row>378</th><td>3</td><td>378</td><td>0.09</td><td>3</td></tr>\n",
       "\t<tr><th scope=row>381</th><td>3</td><td>381</td><td>0.09</td><td>3</td></tr>\n",
       "\t<tr><th scope=row>391</th><td>3</td><td>391</td><td>0.09</td><td>3</td></tr>\n",
       "</tbody>\n",
       "</table>\n"
      ],
      "text/latex": [
       "A data.frame: 36 × 4\n",
       "\\begin{tabular}{r|llll}\n",
       "  & VarEstratoDepartamento & ID\\_unit & Prob & Stratum\\\\\n",
       "  & <dbl> & <int> & <dbl> & <int>\\\\\n",
       "\\hline\n",
       "\t2 & 1 &   2 & 0.09 & 1\\\\\n",
       "\t30 & 1 &  30 & 0.09 & 1\\\\\n",
       "\t38 & 1 &  38 & 0.09 & 1\\\\\n",
       "\t54 & 1 &  54 & 0.09 & 1\\\\\n",
       "\t62 & 1 &  62 & 0.09 & 1\\\\\n",
       "\t69 & 1 &  69 & 0.09 & 1\\\\\n",
       "\t78 & 1 &  78 & 0.09 & 1\\\\\n",
       "\t90 & 1 &  90 & 0.09 & 1\\\\\n",
       "\t95 & 1 &  95 & 0.09 & 1\\\\\n",
       "\t104 & 2 & 104 & 0.09 & 2\\\\\n",
       "\t112 & 2 & 112 & 0.09 & 2\\\\\n",
       "\t124 & 2 & 124 & 0.09 & 2\\\\\n",
       "\t129 & 2 & 129 & 0.09 & 2\\\\\n",
       "\t145 & 2 & 145 & 0.09 & 2\\\\\n",
       "\t148 & 2 & 148 & 0.09 & 2\\\\\n",
       "\t151 & 2 & 151 & 0.09 & 2\\\\\n",
       "\t155 & 2 & 155 & 0.09 & 2\\\\\n",
       "\t185 & 2 & 185 & 0.09 & 2\\\\\n",
       "\t193 & 2 & 193 & 0.09 & 2\\\\\n",
       "\t201 & 2 & 201 & 0.09 & 2\\\\\n",
       "\t207 & 2 & 207 & 0.09 & 2\\\\\n",
       "\t209 & 2 & 209 & 0.09 & 2\\\\\n",
       "\t226 & 2 & 226 & 0.09 & 2\\\\\n",
       "\t239 & 2 & 239 & 0.09 & 2\\\\\n",
       "\t264 & 2 & 264 & 0.09 & 2\\\\\n",
       "\t266 & 2 & 266 & 0.09 & 2\\\\\n",
       "\t273 & 2 & 273 & 0.09 & 2\\\\\n",
       "\t303 & 3 & 303 & 0.09 & 3\\\\\n",
       "\t336 & 3 & 336 & 0.09 & 3\\\\\n",
       "\t359 & 3 & 359 & 0.09 & 3\\\\\n",
       "\t362 & 3 & 362 & 0.09 & 3\\\\\n",
       "\t364 & 3 & 364 & 0.09 & 3\\\\\n",
       "\t372 & 3 & 372 & 0.09 & 3\\\\\n",
       "\t378 & 3 & 378 & 0.09 & 3\\\\\n",
       "\t381 & 3 & 381 & 0.09 & 3\\\\\n",
       "\t391 & 3 & 391 & 0.09 & 3\\\\\n",
       "\\end{tabular}\n"
      ],
      "text/markdown": [
       "\n",
       "A data.frame: 36 × 4\n",
       "\n",
       "| <!--/--> | VarEstratoDepartamento &lt;dbl&gt; | ID_unit &lt;int&gt; | Prob &lt;dbl&gt; | Stratum &lt;int&gt; |\n",
       "|---|---|---|---|---|\n",
       "| 2 | 1 |   2 | 0.09 | 1 |\n",
       "| 30 | 1 |  30 | 0.09 | 1 |\n",
       "| 38 | 1 |  38 | 0.09 | 1 |\n",
       "| 54 | 1 |  54 | 0.09 | 1 |\n",
       "| 62 | 1 |  62 | 0.09 | 1 |\n",
       "| 69 | 1 |  69 | 0.09 | 1 |\n",
       "| 78 | 1 |  78 | 0.09 | 1 |\n",
       "| 90 | 1 |  90 | 0.09 | 1 |\n",
       "| 95 | 1 |  95 | 0.09 | 1 |\n",
       "| 104 | 2 | 104 | 0.09 | 2 |\n",
       "| 112 | 2 | 112 | 0.09 | 2 |\n",
       "| 124 | 2 | 124 | 0.09 | 2 |\n",
       "| 129 | 2 | 129 | 0.09 | 2 |\n",
       "| 145 | 2 | 145 | 0.09 | 2 |\n",
       "| 148 | 2 | 148 | 0.09 | 2 |\n",
       "| 151 | 2 | 151 | 0.09 | 2 |\n",
       "| 155 | 2 | 155 | 0.09 | 2 |\n",
       "| 185 | 2 | 185 | 0.09 | 2 |\n",
       "| 193 | 2 | 193 | 0.09 | 2 |\n",
       "| 201 | 2 | 201 | 0.09 | 2 |\n",
       "| 207 | 2 | 207 | 0.09 | 2 |\n",
       "| 209 | 2 | 209 | 0.09 | 2 |\n",
       "| 226 | 2 | 226 | 0.09 | 2 |\n",
       "| 239 | 2 | 239 | 0.09 | 2 |\n",
       "| 264 | 2 | 264 | 0.09 | 2 |\n",
       "| 266 | 2 | 266 | 0.09 | 2 |\n",
       "| 273 | 2 | 273 | 0.09 | 2 |\n",
       "| 303 | 3 | 303 | 0.09 | 3 |\n",
       "| 336 | 3 | 336 | 0.09 | 3 |\n",
       "| 359 | 3 | 359 | 0.09 | 3 |\n",
       "| 362 | 3 | 362 | 0.09 | 3 |\n",
       "| 364 | 3 | 364 | 0.09 | 3 |\n",
       "| 372 | 3 | 372 | 0.09 | 3 |\n",
       "| 378 | 3 | 378 | 0.09 | 3 |\n",
       "| 381 | 3 | 381 | 0.09 | 3 |\n",
       "| 391 | 3 | 391 | 0.09 | 3 |\n",
       "\n"
      ],
      "text/plain": [
       "    VarEstratoDepartamento ID_unit Prob Stratum\n",
       "2   1                        2     0.09 1      \n",
       "30  1                       30     0.09 1      \n",
       "38  1                       38     0.09 1      \n",
       "54  1                       54     0.09 1      \n",
       "62  1                       62     0.09 1      \n",
       "69  1                       69     0.09 1      \n",
       "78  1                       78     0.09 1      \n",
       "90  1                       90     0.09 1      \n",
       "95  1                       95     0.09 1      \n",
       "104 2                      104     0.09 2      \n",
       "112 2                      112     0.09 2      \n",
       "124 2                      124     0.09 2      \n",
       "129 2                      129     0.09 2      \n",
       "145 2                      145     0.09 2      \n",
       "148 2                      148     0.09 2      \n",
       "151 2                      151     0.09 2      \n",
       "155 2                      155     0.09 2      \n",
       "185 2                      185     0.09 2      \n",
       "193 2                      193     0.09 2      \n",
       "201 2                      201     0.09 2      \n",
       "207 2                      207     0.09 2      \n",
       "209 2                      209     0.09 2      \n",
       "226 2                      226     0.09 2      \n",
       "239 2                      239     0.09 2      \n",
       "264 2                      264     0.09 2      \n",
       "266 2                      266     0.09 2      \n",
       "273 2                      273     0.09 2      \n",
       "303 3                      303     0.09 3      \n",
       "336 3                      336     0.09 3      \n",
       "359 3                      359     0.09 3      \n",
       "362 3                      362     0.09 3      \n",
       "364 3                      364     0.09 3      \n",
       "372 3                      372     0.09 3      \n",
       "378 3                      378     0.09 3      \n",
       "381 3                      381     0.09 3      \n",
       "391 3                      391     0.09 3      "
      ]
     },
     "metadata": {},
     "output_type": "display_data"
    }
   ],
   "source": [
    "muestra=strata(datos,c(\"VarEstratoDepartamento\"),size=c(9,18,9),method=\"srswor\")\n",
    "muestra"
   ]
  },
  {
   "cell_type": "markdown",
   "metadata": {
    "id": "KtQ3uy75Gc4B"
   },
   "source": [
    "\n",
    "##**Actividad a desarrollar :**\n",
    "\n",
    "Para la base de datos **PROTEINAS2**, en la cual se describe las proteínas consumidas por algunos países.\n",
    "Use el muestro aleatorio simple, para Pescado y Cereales halle una muestra de tamaño 5, y determine:\n",
    "\n",
    ">a) El consumo promedio, su desviación estándar y coeficiente de variación para la muestra. Realice su diagrama de caja\n",
    "\n",
    ">b) El consumo promedio, su desviación estándar y coeficiente de variación de la población correspondiente a Pescado y Cereales. Realice su diagrama de caja\n",
    "\n",
    ">c) Analice y compare los valores obtenidos en los ítems (a) y (b)\n"
   ]
  },
  {
   "cell_type": "markdown",
   "metadata": {
    "id": "YPLxsLf0Odf0"
   },
   "source": [
    "Usando la base de datos **PROTEINAS2**"
   ]
  },
  {
   "cell_type": "code",
   "execution_count": null,
   "metadata": {
    "id": "HiZ45VumFw5X"
   },
   "outputs": [],
   "source": [
    "library(readxl)"
   ]
  },
  {
   "cell_type": "code",
   "execution_count": null,
   "metadata": {
    "colab": {
     "base_uri": "https://localhost:8080/",
     "height": 882
    },
    "id": "pKpKjhkVO2cU",
    "outputId": "80be4999-13b0-4d80-8393-6da68d611180"
   },
   "outputs": [
    {
     "data": {
      "text/html": [
       "<table class=\"dataframe\">\n",
       "<caption>A tibble: 25 × 10</caption>\n",
       "<thead>\n",
       "\t<tr><th scope=col>PAISES</th><th scope=col>Carne Roja</th><th scope=col>Carne Blanca</th><th scope=col>Huevos</th><th scope=col>Leche</th><th scope=col>Pescado</th><th scope=col>Cereales</th><th scope=col>Féculas</th><th scope=col>Frutos Secos</th><th scope=col>Frutos-Vegetales</th></tr>\n",
       "\t<tr><th scope=col>&lt;chr&gt;</th><th scope=col>&lt;dbl&gt;</th><th scope=col>&lt;dbl&gt;</th><th scope=col>&lt;dbl&gt;</th><th scope=col>&lt;dbl&gt;</th><th scope=col>&lt;dbl&gt;</th><th scope=col>&lt;dbl&gt;</th><th scope=col>&lt;dbl&gt;</th><th scope=col>&lt;dbl&gt;</th><th scope=col>&lt;dbl&gt;</th></tr>\n",
       "</thead>\n",
       "<tbody>\n",
       "\t<tr><td>Albania            </td><td>10.1</td><td> 1.4</td><td>0.5</td><td> 8.9</td><td> 0.2</td><td>42.3</td><td>0.6</td><td>5.5</td><td>1.7</td></tr>\n",
       "\t<tr><td>Austria            </td><td> 8.9</td><td>14.0</td><td>4.3</td><td>19.9</td><td> 2.1</td><td>28.0</td><td>3.6</td><td>1.3</td><td>4.3</td></tr>\n",
       "\t<tr><td>Bélgica            </td><td>13.5</td><td> 9.3</td><td>4.1</td><td>17.5</td><td> 4.5</td><td>26.6</td><td>5.7</td><td>2.1</td><td>4.0</td></tr>\n",
       "\t<tr><td>Bulgaria           </td><td> 7.8</td><td> 6.0</td><td>1.6</td><td> 8.3</td><td> 1.2</td><td>56.7</td><td>1.1</td><td>3.7</td><td>4.2</td></tr>\n",
       "\t<tr><td>Checoslovaquia     </td><td> 9.7</td><td>11.4</td><td>2.8</td><td>12.5</td><td> 2.0</td><td>34.3</td><td>5.0</td><td>1.1</td><td>4.0</td></tr>\n",
       "\t<tr><td>Dinamarca          </td><td>10.6</td><td>10.8</td><td>3.7</td><td>25.0</td><td> 9.9</td><td>21.9</td><td>4.8</td><td>0.7</td><td>2.4</td></tr>\n",
       "\t<tr><td>Alemania Oriental  </td><td> 8.4</td><td>11.6</td><td>3.7</td><td>11.1</td><td> 5.4</td><td>24.6</td><td>6.5</td><td>0.8</td><td>3.6</td></tr>\n",
       "\t<tr><td>Finlandia          </td><td> 9.5</td><td> 4.9</td><td>2.7</td><td>33.7</td><td> 5.8</td><td>26.3</td><td>5.1</td><td>1.0</td><td>1.4</td></tr>\n",
       "\t<tr><td>Francia            </td><td>18.0</td><td> 9.9</td><td>3.3</td><td>19.5</td><td> 5.7</td><td>28.1</td><td>4.8</td><td>2.4</td><td>6.5</td></tr>\n",
       "\t<tr><td>Grecia             </td><td>10.2</td><td> 3.0</td><td>2.8</td><td>17.6</td><td> 5.9</td><td>41.7</td><td>2.2</td><td>7.8</td><td>6.5</td></tr>\n",
       "\t<tr><td>Hungría            </td><td> 5.3</td><td>12.4</td><td>2.9</td><td> 9.7</td><td> 0.3</td><td>40.1</td><td>4.0</td><td>5.4</td><td>4.2</td></tr>\n",
       "\t<tr><td>Irlanda            </td><td>13.9</td><td>10.0</td><td>4.7</td><td>25.8</td><td> 2.2</td><td>24.0</td><td>6.2</td><td>1.6</td><td>2.9</td></tr>\n",
       "\t<tr><td>Italia             </td><td> 9.0</td><td> 5.1</td><td>2.9</td><td>13.7</td><td> 3.4</td><td>36.8</td><td>2.1</td><td>4.3</td><td>6.7</td></tr>\n",
       "\t<tr><td>Holanda            </td><td> 9.5</td><td>13.6</td><td>3.6</td><td>23.4</td><td> 2.5</td><td>22.4</td><td>4.2</td><td>1.8</td><td>3.7</td></tr>\n",
       "\t<tr><td>Noruega            </td><td> 9.4</td><td> 4.7</td><td>2.7</td><td>23.3</td><td> 9.7</td><td>23.0</td><td>4.6</td><td>1.6</td><td>2.7</td></tr>\n",
       "\t<tr><td>Polonia            </td><td> 6.9</td><td>10.2</td><td>2.7</td><td>19.3</td><td> 3.0</td><td>36.1</td><td>5.9</td><td>2.0</td><td>6.6</td></tr>\n",
       "\t<tr><td>Portugal           </td><td> 6.2</td><td> 3.7</td><td>1.1</td><td> 4.9</td><td>14.2</td><td>27.0</td><td>5.9</td><td>4.7</td><td>7.9</td></tr>\n",
       "\t<tr><td>Rumania            </td><td> 6.2</td><td> 6.3</td><td>1.5</td><td>11.1</td><td> 1.0</td><td>49.6</td><td>3.1</td><td>5.3</td><td>2.8</td></tr>\n",
       "\t<tr><td>España             </td><td> 7.1</td><td> 3.4</td><td>3.1</td><td> 8.6</td><td> 7.0</td><td>29.2</td><td>5.7</td><td>5.9</td><td>7.2</td></tr>\n",
       "\t<tr><td>Suecia             </td><td> 9.9</td><td> 7.8</td><td>3.5</td><td>24.7</td><td> 7.5</td><td>19.5</td><td>3.7</td><td>1.4</td><td>2.0</td></tr>\n",
       "\t<tr><td>Suiza              </td><td>13.1</td><td>10.1</td><td>3.1</td><td>23.8</td><td> 2.3</td><td>25.6</td><td>2.8</td><td>2.4</td><td>4.9</td></tr>\n",
       "\t<tr><td>Reino Unido        </td><td>17.4</td><td> 5.7</td><td>4.7</td><td>20.6</td><td> 4.3</td><td>24.3</td><td>4.7</td><td>3.4</td><td>3.3</td></tr>\n",
       "\t<tr><td>Unión Soviética    </td><td> 9.3</td><td> 4.6</td><td>2.1</td><td>16.6</td><td> 3.0</td><td>43.6</td><td>6.4</td><td>3.4</td><td>2.9</td></tr>\n",
       "\t<tr><td>Alemania Occidental</td><td>11.4</td><td>12.5</td><td>4.1</td><td>18.8</td><td> 3.4</td><td>18.6</td><td>5.2</td><td>1.5</td><td>3.8</td></tr>\n",
       "\t<tr><td>Yugoslavia         </td><td> 4.4</td><td> 5.0</td><td>1.2</td><td> 9.5</td><td> 0.6</td><td>55.9</td><td>3.0</td><td>5.7</td><td>3.2</td></tr>\n",
       "</tbody>\n",
       "</table>\n"
      ],
      "text/latex": [
       "A tibble: 25 × 10\n",
       "\\begin{tabular}{llllllllll}\n",
       " PAISES & Carne Roja & Carne Blanca & Huevos & Leche & Pescado & Cereales & Féculas & Frutos Secos & Frutos-Vegetales\\\\\n",
       " <chr> & <dbl> & <dbl> & <dbl> & <dbl> & <dbl> & <dbl> & <dbl> & <dbl> & <dbl>\\\\\n",
       "\\hline\n",
       "\t Albania             & 10.1 &  1.4 & 0.5 &  8.9 &  0.2 & 42.3 & 0.6 & 5.5 & 1.7\\\\\n",
       "\t Austria             &  8.9 & 14.0 & 4.3 & 19.9 &  2.1 & 28.0 & 3.6 & 1.3 & 4.3\\\\\n",
       "\t Bélgica             & 13.5 &  9.3 & 4.1 & 17.5 &  4.5 & 26.6 & 5.7 & 2.1 & 4.0\\\\\n",
       "\t Bulgaria            &  7.8 &  6.0 & 1.6 &  8.3 &  1.2 & 56.7 & 1.1 & 3.7 & 4.2\\\\\n",
       "\t Checoslovaquia      &  9.7 & 11.4 & 2.8 & 12.5 &  2.0 & 34.3 & 5.0 & 1.1 & 4.0\\\\\n",
       "\t Dinamarca           & 10.6 & 10.8 & 3.7 & 25.0 &  9.9 & 21.9 & 4.8 & 0.7 & 2.4\\\\\n",
       "\t Alemania Oriental   &  8.4 & 11.6 & 3.7 & 11.1 &  5.4 & 24.6 & 6.5 & 0.8 & 3.6\\\\\n",
       "\t Finlandia           &  9.5 &  4.9 & 2.7 & 33.7 &  5.8 & 26.3 & 5.1 & 1.0 & 1.4\\\\\n",
       "\t Francia             & 18.0 &  9.9 & 3.3 & 19.5 &  5.7 & 28.1 & 4.8 & 2.4 & 6.5\\\\\n",
       "\t Grecia              & 10.2 &  3.0 & 2.8 & 17.6 &  5.9 & 41.7 & 2.2 & 7.8 & 6.5\\\\\n",
       "\t Hungría             &  5.3 & 12.4 & 2.9 &  9.7 &  0.3 & 40.1 & 4.0 & 5.4 & 4.2\\\\\n",
       "\t Irlanda             & 13.9 & 10.0 & 4.7 & 25.8 &  2.2 & 24.0 & 6.2 & 1.6 & 2.9\\\\\n",
       "\t Italia              &  9.0 &  5.1 & 2.9 & 13.7 &  3.4 & 36.8 & 2.1 & 4.3 & 6.7\\\\\n",
       "\t Holanda             &  9.5 & 13.6 & 3.6 & 23.4 &  2.5 & 22.4 & 4.2 & 1.8 & 3.7\\\\\n",
       "\t Noruega             &  9.4 &  4.7 & 2.7 & 23.3 &  9.7 & 23.0 & 4.6 & 1.6 & 2.7\\\\\n",
       "\t Polonia             &  6.9 & 10.2 & 2.7 & 19.3 &  3.0 & 36.1 & 5.9 & 2.0 & 6.6\\\\\n",
       "\t Portugal            &  6.2 &  3.7 & 1.1 &  4.9 & 14.2 & 27.0 & 5.9 & 4.7 & 7.9\\\\\n",
       "\t Rumania             &  6.2 &  6.3 & 1.5 & 11.1 &  1.0 & 49.6 & 3.1 & 5.3 & 2.8\\\\\n",
       "\t España              &  7.1 &  3.4 & 3.1 &  8.6 &  7.0 & 29.2 & 5.7 & 5.9 & 7.2\\\\\n",
       "\t Suecia              &  9.9 &  7.8 & 3.5 & 24.7 &  7.5 & 19.5 & 3.7 & 1.4 & 2.0\\\\\n",
       "\t Suiza               & 13.1 & 10.1 & 3.1 & 23.8 &  2.3 & 25.6 & 2.8 & 2.4 & 4.9\\\\\n",
       "\t Reino Unido         & 17.4 &  5.7 & 4.7 & 20.6 &  4.3 & 24.3 & 4.7 & 3.4 & 3.3\\\\\n",
       "\t Unión Soviética     &  9.3 &  4.6 & 2.1 & 16.6 &  3.0 & 43.6 & 6.4 & 3.4 & 2.9\\\\\n",
       "\t Alemania Occidental & 11.4 & 12.5 & 4.1 & 18.8 &  3.4 & 18.6 & 5.2 & 1.5 & 3.8\\\\\n",
       "\t Yugoslavia          &  4.4 &  5.0 & 1.2 &  9.5 &  0.6 & 55.9 & 3.0 & 5.7 & 3.2\\\\\n",
       "\\end{tabular}\n"
      ],
      "text/markdown": [
       "\n",
       "A tibble: 25 × 10\n",
       "\n",
       "| PAISES &lt;chr&gt; | Carne Roja &lt;dbl&gt; | Carne Blanca &lt;dbl&gt; | Huevos &lt;dbl&gt; | Leche &lt;dbl&gt; | Pescado &lt;dbl&gt; | Cereales &lt;dbl&gt; | Féculas &lt;dbl&gt; | Frutos Secos &lt;dbl&gt; | Frutos-Vegetales &lt;dbl&gt; |\n",
       "|---|---|---|---|---|---|---|---|---|---|\n",
       "| Albania             | 10.1 |  1.4 | 0.5 |  8.9 |  0.2 | 42.3 | 0.6 | 5.5 | 1.7 |\n",
       "| Austria             |  8.9 | 14.0 | 4.3 | 19.9 |  2.1 | 28.0 | 3.6 | 1.3 | 4.3 |\n",
       "| Bélgica             | 13.5 |  9.3 | 4.1 | 17.5 |  4.5 | 26.6 | 5.7 | 2.1 | 4.0 |\n",
       "| Bulgaria            |  7.8 |  6.0 | 1.6 |  8.3 |  1.2 | 56.7 | 1.1 | 3.7 | 4.2 |\n",
       "| Checoslovaquia      |  9.7 | 11.4 | 2.8 | 12.5 |  2.0 | 34.3 | 5.0 | 1.1 | 4.0 |\n",
       "| Dinamarca           | 10.6 | 10.8 | 3.7 | 25.0 |  9.9 | 21.9 | 4.8 | 0.7 | 2.4 |\n",
       "| Alemania Oriental   |  8.4 | 11.6 | 3.7 | 11.1 |  5.4 | 24.6 | 6.5 | 0.8 | 3.6 |\n",
       "| Finlandia           |  9.5 |  4.9 | 2.7 | 33.7 |  5.8 | 26.3 | 5.1 | 1.0 | 1.4 |\n",
       "| Francia             | 18.0 |  9.9 | 3.3 | 19.5 |  5.7 | 28.1 | 4.8 | 2.4 | 6.5 |\n",
       "| Grecia              | 10.2 |  3.0 | 2.8 | 17.6 |  5.9 | 41.7 | 2.2 | 7.8 | 6.5 |\n",
       "| Hungría             |  5.3 | 12.4 | 2.9 |  9.7 |  0.3 | 40.1 | 4.0 | 5.4 | 4.2 |\n",
       "| Irlanda             | 13.9 | 10.0 | 4.7 | 25.8 |  2.2 | 24.0 | 6.2 | 1.6 | 2.9 |\n",
       "| Italia              |  9.0 |  5.1 | 2.9 | 13.7 |  3.4 | 36.8 | 2.1 | 4.3 | 6.7 |\n",
       "| Holanda             |  9.5 | 13.6 | 3.6 | 23.4 |  2.5 | 22.4 | 4.2 | 1.8 | 3.7 |\n",
       "| Noruega             |  9.4 |  4.7 | 2.7 | 23.3 |  9.7 | 23.0 | 4.6 | 1.6 | 2.7 |\n",
       "| Polonia             |  6.9 | 10.2 | 2.7 | 19.3 |  3.0 | 36.1 | 5.9 | 2.0 | 6.6 |\n",
       "| Portugal            |  6.2 |  3.7 | 1.1 |  4.9 | 14.2 | 27.0 | 5.9 | 4.7 | 7.9 |\n",
       "| Rumania             |  6.2 |  6.3 | 1.5 | 11.1 |  1.0 | 49.6 | 3.1 | 5.3 | 2.8 |\n",
       "| España              |  7.1 |  3.4 | 3.1 |  8.6 |  7.0 | 29.2 | 5.7 | 5.9 | 7.2 |\n",
       "| Suecia              |  9.9 |  7.8 | 3.5 | 24.7 |  7.5 | 19.5 | 3.7 | 1.4 | 2.0 |\n",
       "| Suiza               | 13.1 | 10.1 | 3.1 | 23.8 |  2.3 | 25.6 | 2.8 | 2.4 | 4.9 |\n",
       "| Reino Unido         | 17.4 |  5.7 | 4.7 | 20.6 |  4.3 | 24.3 | 4.7 | 3.4 | 3.3 |\n",
       "| Unión Soviética     |  9.3 |  4.6 | 2.1 | 16.6 |  3.0 | 43.6 | 6.4 | 3.4 | 2.9 |\n",
       "| Alemania Occidental | 11.4 | 12.5 | 4.1 | 18.8 |  3.4 | 18.6 | 5.2 | 1.5 | 3.8 |\n",
       "| Yugoslavia          |  4.4 |  5.0 | 1.2 |  9.5 |  0.6 | 55.9 | 3.0 | 5.7 | 3.2 |\n",
       "\n"
      ],
      "text/plain": [
       "   PAISES              Carne Roja Carne Blanca Huevos Leche Pescado Cereales\n",
       "1  Albania             10.1        1.4         0.5     8.9   0.2    42.3    \n",
       "2  Austria              8.9       14.0         4.3    19.9   2.1    28.0    \n",
       "3  Bélgica             13.5        9.3         4.1    17.5   4.5    26.6    \n",
       "4  Bulgaria             7.8        6.0         1.6     8.3   1.2    56.7    \n",
       "5  Checoslovaquia       9.7       11.4         2.8    12.5   2.0    34.3    \n",
       "6  Dinamarca           10.6       10.8         3.7    25.0   9.9    21.9    \n",
       "7  Alemania Oriental    8.4       11.6         3.7    11.1   5.4    24.6    \n",
       "8  Finlandia            9.5        4.9         2.7    33.7   5.8    26.3    \n",
       "9  Francia             18.0        9.9         3.3    19.5   5.7    28.1    \n",
       "10 Grecia              10.2        3.0         2.8    17.6   5.9    41.7    \n",
       "11 Hungría              5.3       12.4         2.9     9.7   0.3    40.1    \n",
       "12 Irlanda             13.9       10.0         4.7    25.8   2.2    24.0    \n",
       "13 Italia               9.0        5.1         2.9    13.7   3.4    36.8    \n",
       "14 Holanda              9.5       13.6         3.6    23.4   2.5    22.4    \n",
       "15 Noruega              9.4        4.7         2.7    23.3   9.7    23.0    \n",
       "16 Polonia              6.9       10.2         2.7    19.3   3.0    36.1    \n",
       "17 Portugal             6.2        3.7         1.1     4.9  14.2    27.0    \n",
       "18 Rumania              6.2        6.3         1.5    11.1   1.0    49.6    \n",
       "19 España               7.1        3.4         3.1     8.6   7.0    29.2    \n",
       "20 Suecia               9.9        7.8         3.5    24.7   7.5    19.5    \n",
       "21 Suiza               13.1       10.1         3.1    23.8   2.3    25.6    \n",
       "22 Reino Unido         17.4        5.7         4.7    20.6   4.3    24.3    \n",
       "23 Unión Soviética      9.3        4.6         2.1    16.6   3.0    43.6    \n",
       "24 Alemania Occidental 11.4       12.5         4.1    18.8   3.4    18.6    \n",
       "25 Yugoslavia           4.4        5.0         1.2     9.5   0.6    55.9    \n",
       "   Féculas Frutos Secos Frutos-Vegetales\n",
       "1  0.6     5.5          1.7             \n",
       "2  3.6     1.3          4.3             \n",
       "3  5.7     2.1          4.0             \n",
       "4  1.1     3.7          4.2             \n",
       "5  5.0     1.1          4.0             \n",
       "6  4.8     0.7          2.4             \n",
       "7  6.5     0.8          3.6             \n",
       "8  5.1     1.0          1.4             \n",
       "9  4.8     2.4          6.5             \n",
       "10 2.2     7.8          6.5             \n",
       "11 4.0     5.4          4.2             \n",
       "12 6.2     1.6          2.9             \n",
       "13 2.1     4.3          6.7             \n",
       "14 4.2     1.8          3.7             \n",
       "15 4.6     1.6          2.7             \n",
       "16 5.9     2.0          6.6             \n",
       "17 5.9     4.7          7.9             \n",
       "18 3.1     5.3          2.8             \n",
       "19 5.7     5.9          7.2             \n",
       "20 3.7     1.4          2.0             \n",
       "21 2.8     2.4          4.9             \n",
       "22 4.7     3.4          3.3             \n",
       "23 6.4     3.4          2.9             \n",
       "24 5.2     1.5          3.8             \n",
       "25 3.0     5.7          3.2             "
      ]
     },
     "metadata": {},
     "output_type": "display_data"
    }
   ],
   "source": [
    "DATOS1=read_xlsx(\"PROTEINAS2.xlsx\")\n",
    "DATOS1"
   ]
  },
  {
   "cell_type": "code",
   "execution_count": null,
   "metadata": {
    "id": "o45AQwrDRaJo"
   },
   "outputs": [],
   "source": []
  },
  {
   "cell_type": "code",
   "execution_count": null,
   "metadata": {
    "colab": {
     "base_uri": "https://localhost:8080/",
     "height": 34
    },
    "id": "vWLMO44HRbin",
    "outputId": "28e185e8-6259-4504-b3f2-e3ef77f100e6"
   },
   "outputs": [
    {
     "data": {
      "text/html": [
       "<style>\n",
       ".list-inline {list-style: none; margin:0; padding: 0}\n",
       ".list-inline>li {display: inline-block}\n",
       ".list-inline>li:not(:last-child)::after {content: \"\\00b7\"; padding: 0 .5ex}\n",
       "</style>\n",
       "<ol class=list-inline><li>42.3</li><li>28</li><li>26.6</li><li>56.7</li><li>34.3</li><li>21.9</li><li>24.6</li><li>26.3</li><li>28.1</li><li>41.7</li><li>40.1</li><li>24</li><li>36.8</li><li>22.4</li><li>23</li><li>36.1</li><li>27</li><li>49.6</li><li>29.2</li><li>19.5</li><li>25.6</li><li>24.3</li><li>43.6</li><li>18.6</li><li>55.9</li></ol>\n"
      ],
      "text/latex": [
       "\\begin{enumerate*}\n",
       "\\item 42.3\n",
       "\\item 28\n",
       "\\item 26.6\n",
       "\\item 56.7\n",
       "\\item 34.3\n",
       "\\item 21.9\n",
       "\\item 24.6\n",
       "\\item 26.3\n",
       "\\item 28.1\n",
       "\\item 41.7\n",
       "\\item 40.1\n",
       "\\item 24\n",
       "\\item 36.8\n",
       "\\item 22.4\n",
       "\\item 23\n",
       "\\item 36.1\n",
       "\\item 27\n",
       "\\item 49.6\n",
       "\\item 29.2\n",
       "\\item 19.5\n",
       "\\item 25.6\n",
       "\\item 24.3\n",
       "\\item 43.6\n",
       "\\item 18.6\n",
       "\\item 55.9\n",
       "\\end{enumerate*}\n"
      ],
      "text/markdown": [
       "1. 42.3\n",
       "2. 28\n",
       "3. 26.6\n",
       "4. 56.7\n",
       "5. 34.3\n",
       "6. 21.9\n",
       "7. 24.6\n",
       "8. 26.3\n",
       "9. 28.1\n",
       "10. 41.7\n",
       "11. 40.1\n",
       "12. 24\n",
       "13. 36.8\n",
       "14. 22.4\n",
       "15. 23\n",
       "16. 36.1\n",
       "17. 27\n",
       "18. 49.6\n",
       "19. 29.2\n",
       "20. 19.5\n",
       "21. 25.6\n",
       "22. 24.3\n",
       "23. 43.6\n",
       "24. 18.6\n",
       "25. 55.9\n",
       "\n",
       "\n"
      ],
      "text/plain": [
       " [1] 42.3 28.0 26.6 56.7 34.3 21.9 24.6 26.3 28.1 41.7 40.1 24.0 36.8 22.4 23.0\n",
       "[16] 36.1 27.0 49.6 29.2 19.5 25.6 24.3 43.6 18.6 55.9"
      ]
     },
     "metadata": {},
     "output_type": "display_data"
    }
   ],
   "source": [
    "x1=DATOS1$Cereales\n",
    "x1"
   ]
  },
  {
   "cell_type": "code",
   "execution_count": null,
   "metadata": {
    "colab": {
     "base_uri": "https://localhost:8080/",
     "height": 34
    },
    "id": "zPVKZDNeSLrD",
    "outputId": "f7c71bfa-adce-4555-c5a8-5f4bce0a5eab"
   },
   "outputs": [
    {
     "data": {
      "text/html": [
       "<style>\n",
       ".list-inline {list-style: none; margin:0; padding: 0}\n",
       ".list-inline>li {display: inline-block}\n",
       ".list-inline>li:not(:last-child)::after {content: \"\\00b7\"; padding: 0 .5ex}\n",
       "</style>\n",
       "<ol class=list-inline><li>42.3</li><li>28</li><li>26.6</li><li>56.7</li><li>34.3</li><li>21.9</li><li>24.6</li><li>26.3</li><li>28.1</li><li>41.7</li><li>40.1</li><li>24</li><li>36.8</li><li>22.4</li><li>23</li><li>36.1</li><li>27</li><li>49.6</li><li>29.2</li><li>19.5</li><li>25.6</li><li>24.3</li><li>43.6</li><li>18.6</li><li>55.9</li></ol>\n"
      ],
      "text/latex": [
       "\\begin{enumerate*}\n",
       "\\item 42.3\n",
       "\\item 28\n",
       "\\item 26.6\n",
       "\\item 56.7\n",
       "\\item 34.3\n",
       "\\item 21.9\n",
       "\\item 24.6\n",
       "\\item 26.3\n",
       "\\item 28.1\n",
       "\\item 41.7\n",
       "\\item 40.1\n",
       "\\item 24\n",
       "\\item 36.8\n",
       "\\item 22.4\n",
       "\\item 23\n",
       "\\item 36.1\n",
       "\\item 27\n",
       "\\item 49.6\n",
       "\\item 29.2\n",
       "\\item 19.5\n",
       "\\item 25.6\n",
       "\\item 24.3\n",
       "\\item 43.6\n",
       "\\item 18.6\n",
       "\\item 55.9\n",
       "\\end{enumerate*}\n"
      ],
      "text/markdown": [
       "1. 42.3\n",
       "2. 28\n",
       "3. 26.6\n",
       "4. 56.7\n",
       "5. 34.3\n",
       "6. 21.9\n",
       "7. 24.6\n",
       "8. 26.3\n",
       "9. 28.1\n",
       "10. 41.7\n",
       "11. 40.1\n",
       "12. 24\n",
       "13. 36.8\n",
       "14. 22.4\n",
       "15. 23\n",
       "16. 36.1\n",
       "17. 27\n",
       "18. 49.6\n",
       "19. 29.2\n",
       "20. 19.5\n",
       "21. 25.6\n",
       "22. 24.3\n",
       "23. 43.6\n",
       "24. 18.6\n",
       "25. 55.9\n",
       "\n",
       "\n"
      ],
      "text/plain": [
       " [1] 42.3 28.0 26.6 56.7 34.3 21.9 24.6 26.3 28.1 41.7 40.1 24.0 36.8 22.4 23.0\n",
       "[16] 36.1 27.0 49.6 29.2 19.5 25.6 24.3 43.6 18.6 55.9"
      ]
     },
     "metadata": {},
     "output_type": "display_data"
    }
   ],
   "source": [
    "#DATOS1=data.frame(DATOS1)\n",
    "x2=DATOS1[,7]\n",
    "x2"
   ]
  },
  {
   "cell_type": "code",
   "execution_count": null,
   "metadata": {
    "colab": {
     "base_uri": "https://localhost:8080/",
     "height": 34
    },
    "id": "cCllFGjmW_Sz",
    "outputId": "bda74dfe-6596-4743-e693-66e4edab7d8b"
   },
   "outputs": [
    {
     "data": {
      "text/html": [
       "32.248"
      ],
      "text/latex": [
       "32.248"
      ],
      "text/markdown": [
       "32.248"
      ],
      "text/plain": [
       "[1] 32.248"
      ]
     },
     "metadata": {},
     "output_type": "display_data"
    }
   ],
   "source": [
    "mean(x1)"
   ]
  },
  {
   "cell_type": "code",
   "execution_count": null,
   "metadata": {
    "colab": {
     "base_uri": "https://localhost:8080/",
     "height": 34
    },
    "id": "Rly90xOGXk2o",
    "outputId": "8c79f264-26f7-47ad-dc6c-ddbc29bee051"
   },
   "outputs": [
    {
     "data": {
      "text/html": [
       "32.248"
      ],
      "text/latex": [
       "32.248"
      ],
      "text/markdown": [
       "32.248"
      ],
      "text/plain": [
       "[1] 32.248"
      ]
     },
     "metadata": {},
     "output_type": "display_data"
    }
   ],
   "source": [
    "mean(x2)"
   ]
  },
  {
   "cell_type": "code",
   "execution_count": null,
   "metadata": {
    "id": "O9WReoDRXlAI"
   },
   "outputs": [],
   "source": []
  },
  {
   "cell_type": "code",
   "execution_count": null,
   "metadata": {
    "colab": {
     "base_uri": "https://localhost:8080/",
     "height": 882
    },
    "id": "8HjtaL1lRbn9",
    "outputId": "5992f18c-4f01-410e-cf20-6030bc2e0579"
   },
   "outputs": [
    {
     "data": {
      "text/html": [
       "<table class=\"dataframe\">\n",
       "<caption>A data.frame: 25 × 2</caption>\n",
       "<thead>\n",
       "\t<tr><th scope=col>Carne.Roja</th><th scope=col>Leche</th></tr>\n",
       "\t<tr><th scope=col>&lt;dbl&gt;</th><th scope=col>&lt;dbl&gt;</th></tr>\n",
       "</thead>\n",
       "<tbody>\n",
       "\t<tr><td>10.1</td><td> 8.9</td></tr>\n",
       "\t<tr><td> 8.9</td><td>19.9</td></tr>\n",
       "\t<tr><td>13.5</td><td>17.5</td></tr>\n",
       "\t<tr><td> 7.8</td><td> 8.3</td></tr>\n",
       "\t<tr><td> 9.7</td><td>12.5</td></tr>\n",
       "\t<tr><td>10.6</td><td>25.0</td></tr>\n",
       "\t<tr><td> 8.4</td><td>11.1</td></tr>\n",
       "\t<tr><td> 9.5</td><td>33.7</td></tr>\n",
       "\t<tr><td>18.0</td><td>19.5</td></tr>\n",
       "\t<tr><td>10.2</td><td>17.6</td></tr>\n",
       "\t<tr><td> 5.3</td><td> 9.7</td></tr>\n",
       "\t<tr><td>13.9</td><td>25.8</td></tr>\n",
       "\t<tr><td> 9.0</td><td>13.7</td></tr>\n",
       "\t<tr><td> 9.5</td><td>23.4</td></tr>\n",
       "\t<tr><td> 9.4</td><td>23.3</td></tr>\n",
       "\t<tr><td> 6.9</td><td>19.3</td></tr>\n",
       "\t<tr><td> 6.2</td><td> 4.9</td></tr>\n",
       "\t<tr><td> 6.2</td><td>11.1</td></tr>\n",
       "\t<tr><td> 7.1</td><td> 8.6</td></tr>\n",
       "\t<tr><td> 9.9</td><td>24.7</td></tr>\n",
       "\t<tr><td>13.1</td><td>23.8</td></tr>\n",
       "\t<tr><td>17.4</td><td>20.6</td></tr>\n",
       "\t<tr><td> 9.3</td><td>16.6</td></tr>\n",
       "\t<tr><td>11.4</td><td>18.8</td></tr>\n",
       "\t<tr><td> 4.4</td><td> 9.5</td></tr>\n",
       "</tbody>\n",
       "</table>\n"
      ],
      "text/latex": [
       "A data.frame: 25 × 2\n",
       "\\begin{tabular}{ll}\n",
       " Carne.Roja & Leche\\\\\n",
       " <dbl> & <dbl>\\\\\n",
       "\\hline\n",
       "\t 10.1 &  8.9\\\\\n",
       "\t  8.9 & 19.9\\\\\n",
       "\t 13.5 & 17.5\\\\\n",
       "\t  7.8 &  8.3\\\\\n",
       "\t  9.7 & 12.5\\\\\n",
       "\t 10.6 & 25.0\\\\\n",
       "\t  8.4 & 11.1\\\\\n",
       "\t  9.5 & 33.7\\\\\n",
       "\t 18.0 & 19.5\\\\\n",
       "\t 10.2 & 17.6\\\\\n",
       "\t  5.3 &  9.7\\\\\n",
       "\t 13.9 & 25.8\\\\\n",
       "\t  9.0 & 13.7\\\\\n",
       "\t  9.5 & 23.4\\\\\n",
       "\t  9.4 & 23.3\\\\\n",
       "\t  6.9 & 19.3\\\\\n",
       "\t  6.2 &  4.9\\\\\n",
       "\t  6.2 & 11.1\\\\\n",
       "\t  7.1 &  8.6\\\\\n",
       "\t  9.9 & 24.7\\\\\n",
       "\t 13.1 & 23.8\\\\\n",
       "\t 17.4 & 20.6\\\\\n",
       "\t  9.3 & 16.6\\\\\n",
       "\t 11.4 & 18.8\\\\\n",
       "\t  4.4 &  9.5\\\\\n",
       "\\end{tabular}\n"
      ],
      "text/markdown": [
       "\n",
       "A data.frame: 25 × 2\n",
       "\n",
       "| Carne.Roja &lt;dbl&gt; | Leche &lt;dbl&gt; |\n",
       "|---|---|\n",
       "| 10.1 |  8.9 |\n",
       "|  8.9 | 19.9 |\n",
       "| 13.5 | 17.5 |\n",
       "|  7.8 |  8.3 |\n",
       "|  9.7 | 12.5 |\n",
       "| 10.6 | 25.0 |\n",
       "|  8.4 | 11.1 |\n",
       "|  9.5 | 33.7 |\n",
       "| 18.0 | 19.5 |\n",
       "| 10.2 | 17.6 |\n",
       "|  5.3 |  9.7 |\n",
       "| 13.9 | 25.8 |\n",
       "|  9.0 | 13.7 |\n",
       "|  9.5 | 23.4 |\n",
       "|  9.4 | 23.3 |\n",
       "|  6.9 | 19.3 |\n",
       "|  6.2 |  4.9 |\n",
       "|  6.2 | 11.1 |\n",
       "|  7.1 |  8.6 |\n",
       "|  9.9 | 24.7 |\n",
       "| 13.1 | 23.8 |\n",
       "| 17.4 | 20.6 |\n",
       "|  9.3 | 16.6 |\n",
       "| 11.4 | 18.8 |\n",
       "|  4.4 |  9.5 |\n",
       "\n"
      ],
      "text/plain": [
       "   Carne.Roja Leche\n",
       "1  10.1        8.9 \n",
       "2   8.9       19.9 \n",
       "3  13.5       17.5 \n",
       "4   7.8        8.3 \n",
       "5   9.7       12.5 \n",
       "6  10.6       25.0 \n",
       "7   8.4       11.1 \n",
       "8   9.5       33.7 \n",
       "9  18.0       19.5 \n",
       "10 10.2       17.6 \n",
       "11  5.3        9.7 \n",
       "12 13.9       25.8 \n",
       "13  9.0       13.7 \n",
       "14  9.5       23.4 \n",
       "15  9.4       23.3 \n",
       "16  6.9       19.3 \n",
       "17  6.2        4.9 \n",
       "18  6.2       11.1 \n",
       "19  7.1        8.6 \n",
       "20  9.9       24.7 \n",
       "21 13.1       23.8 \n",
       "22 17.4       20.6 \n",
       "23  9.3       16.6 \n",
       "24 11.4       18.8 \n",
       "25  4.4        9.5 "
      ]
     },
     "metadata": {},
     "output_type": "display_data"
    }
   ],
   "source": [
    "M=DATOS1[,c(2,5)]\n",
    "M"
   ]
  },
  {
   "cell_type": "markdown",
   "metadata": {
    "id": "oLNEVAkiiVcm"
   },
   "source": [
    "---"
   ]
  },
  {
   "cell_type": "markdown",
   "metadata": {
    "id": "ArdvOgaTFxOv"
   },
   "source": [
    "##**Actividad propuesta:**\n",
    "\n",
    "Segun la base de datos **Electricity1955** mediante el muestro aleatorio simple, para *labor* y *Fuel* halle una muestra de tamaño 7, y determine:\n",
    "\n",
    ">a) Su desviación estándar y coeficiente de variación, para la muestra. Realice su diagrama de caja\n",
    "\n",
    ">b) Su desviación estándar y coeficiente de variación para la población, correspondiente a *labor* y *Fuel*  , Realice su diagrama de caja\n",
    "\n",
    ">c) Analice y compare los valores obtenidos en los ítems (a) y (b)\n",
    "\n"
   ]
  },
  {
   "cell_type": "code",
   "execution_count": null,
   "metadata": {
    "colab": {
     "base_uri": "https://localhost:8080/",
     "height": 1000
    },
    "id": "cIeGF7WdFxsY",
    "outputId": "d1a9acee-91f8-424d-c6d2-8e12b60873c4"
   },
   "outputs": [
    {
     "data": {
      "text/html": [
       "<table class=\"dataframe\">\n",
       "<caption>A data.frame: 159 × 9</caption>\n",
       "<thead>\n",
       "\t<tr><th scope=col>rownames</th><th scope=col>cost</th><th scope=col>output</th><th scope=col>labor</th><th scope=col>laborshare</th><th scope=col>capital</th><th scope=col>capitalshare</th><th scope=col>fuel</th><th scope=col>fuelshare</th></tr>\n",
       "\t<tr><th scope=col>&lt;int&gt;</th><th scope=col>&lt;dbl&gt;</th><th scope=col>&lt;int&gt;</th><th scope=col>&lt;dbl&gt;</th><th scope=col>&lt;dbl&gt;</th><th scope=col>&lt;dbl&gt;</th><th scope=col>&lt;dbl&gt;</th><th scope=col>&lt;dbl&gt;</th><th scope=col>&lt;dbl&gt;</th></tr>\n",
       "</thead>\n",
       "<tbody>\n",
       "\t<tr><td> 1</td><td>0.082</td><td>  2</td><td>2.09</td><td>0.3164</td><td>183</td><td>0.4521</td><td>17.9</td><td>0.2315</td></tr>\n",
       "\t<tr><td> 2</td><td>0.661</td><td>  3</td><td>2.05</td><td>0.2073</td><td>174</td><td>0.6676</td><td>35.1</td><td>0.1251</td></tr>\n",
       "\t<tr><td> 3</td><td>0.990</td><td>  4</td><td>2.05</td><td>0.2349</td><td>171</td><td>0.5799</td><td>35.1</td><td>0.1852</td></tr>\n",
       "\t<tr><td> 4</td><td>0.315</td><td>  4</td><td>1.83</td><td>0.1152</td><td>166</td><td>0.7857</td><td>32.2</td><td>0.0990</td></tr>\n",
       "\t<tr><td> 5</td><td>0.197</td><td>  5</td><td>2.12</td><td>0.2300</td><td>233</td><td>0.3841</td><td>28.6</td><td>0.3859</td></tr>\n",
       "\t<tr><td> 6</td><td>0.098</td><td>  9</td><td>2.12</td><td>0.1881</td><td>195</td><td>0.2926</td><td>28.6</td><td>0.5193</td></tr>\n",
       "\t<tr><td> 7</td><td>0.949</td><td> 11</td><td>1.98</td><td>0.1584</td><td>206</td><td>0.6093</td><td>35.5</td><td>0.2323</td></tr>\n",
       "\t<tr><td> 8</td><td>0.675</td><td> 13</td><td>2.05</td><td>0.1880</td><td>150</td><td>0.4952</td><td>35.1</td><td>0.3169</td></tr>\n",
       "\t<tr><td> 9</td><td>0.525</td><td> 13</td><td>2.19</td><td>0.1852</td><td>155</td><td>0.3651</td><td>29.1</td><td>0.4496</td></tr>\n",
       "\t<tr><td>10</td><td>0.501</td><td> 22</td><td>1.72</td><td>0.1845</td><td>188</td><td>0.2491</td><td>15.0</td><td>0.5664</td></tr>\n",
       "\t<tr><td>11</td><td>1.194</td><td> 25</td><td>2.09</td><td>0.1994</td><td>170</td><td>0.5478</td><td>17.9</td><td>0.2528</td></tr>\n",
       "\t<tr><td>12</td><td>0.670</td><td> 25</td><td>1.68</td><td>0.1102</td><td>167</td><td>0.6118</td><td>39.7</td><td>0.2780</td></tr>\n",
       "\t<tr><td>13</td><td>0.349</td><td> 35</td><td>1.81</td><td>0.1386</td><td>213</td><td>0.3817</td><td>22.6</td><td>0.4797</td></tr>\n",
       "\t<tr><td>14</td><td>0.423</td><td> 39</td><td>2.30</td><td>0.1702</td><td>164</td><td>0.4137</td><td>23.6</td><td>0.4161</td></tr>\n",
       "\t<tr><td>15</td><td>0.501</td><td> 43</td><td>1.75</td><td>0.1143</td><td>170</td><td>0.3481</td><td>42.8</td><td>0.5376</td></tr>\n",
       "\t<tr><td>16</td><td>0.550</td><td> 63</td><td>1.76</td><td>0.0887</td><td>161</td><td>0.5184</td><td>10.3</td><td>0.3929</td></tr>\n",
       "\t<tr><td>17</td><td>0.795</td><td> 68</td><td>1.98</td><td>0.1116</td><td>210</td><td>0.3054</td><td>35.5</td><td>0.5830</td></tr>\n",
       "\t<tr><td>18</td><td>0.664</td><td> 81</td><td>2.29</td><td>0.1665</td><td>158</td><td>0.3859</td><td>28.5</td><td>0.4476</td></tr>\n",
       "\t<tr><td>19</td><td>0.705</td><td> 84</td><td>2.19</td><td>0.1484</td><td>156</td><td>0.3630</td><td>29.1</td><td>0.4883</td></tr>\n",
       "\t<tr><td>20</td><td>0.903</td><td> 73</td><td>1.75</td><td>0.0821</td><td>176</td><td>0.2910</td><td>42.8</td><td>0.6269</td></tr>\n",
       "\t<tr><td>21</td><td>1.504</td><td> 99</td><td>2.20</td><td>0.0906</td><td>170</td><td>0.3947</td><td>36.2</td><td>0.5146</td></tr>\n",
       "\t<tr><td>22</td><td>1.615</td><td>101</td><td>1.66</td><td>0.1080</td><td>192</td><td>0.3675</td><td>33.4</td><td>0.5245</td></tr>\n",
       "\t<tr><td>23</td><td>1.127</td><td>119</td><td>1.92</td><td>0.1980</td><td>164</td><td>0.4164</td><td>22.5</td><td>0.3856</td></tr>\n",
       "\t<tr><td>24</td><td>0.718</td><td>120</td><td>1.77</td><td>0.1648</td><td>175</td><td>0.2664</td><td>21.3</td><td>0.5688</td></tr>\n",
       "\t<tr><td>25</td><td>2.414</td><td>122</td><td>2.09</td><td>0.2402</td><td>180</td><td>0.4949</td><td>17.9</td><td>0.2649</td></tr>\n",
       "\t<tr><td>26</td><td>1.130</td><td>130</td><td>1.82</td><td>0.1171</td><td>176</td><td>0.2779</td><td>38.9</td><td>0.6049</td></tr>\n",
       "\t<tr><td>27</td><td>0.992</td><td>138</td><td>1.80</td><td>0.1304</td><td>202</td><td>0.4011</td><td>20.2</td><td>0.4686</td></tr>\n",
       "\t<tr><td>28</td><td>1.554</td><td>149</td><td>1.92</td><td>0.0553</td><td>227</td><td>0.4320</td><td>22.5</td><td>0.5127</td></tr>\n",
       "\t<tr><td>29</td><td>1.225</td><td>196</td><td>1.92</td><td>0.0722</td><td>186</td><td>0.4550</td><td>29.1</td><td>0.4728</td></tr>\n",
       "\t<tr><td>30</td><td>1.565</td><td>197</td><td>2.19</td><td>0.0692</td><td>183</td><td>0.4151</td><td>29.1</td><td>0.5157</td></tr>\n",
       "\t<tr><td>⋮</td><td>⋮</td><td>⋮</td><td>⋮</td><td>⋮</td><td>⋮</td><td>⋮</td><td>⋮</td><td>⋮</td></tr>\n",
       "\t<tr><td>130</td><td> 17.467</td><td> 5681</td><td>1.76</td><td>0.0802</td><td>157.00</td><td>0.5323</td><td>10.30</td><td>0.3875</td></tr>\n",
       "\t<tr><td>131</td><td> 22.828</td><td> 5819</td><td>1.79</td><td>0.0854</td><td>196.00</td><td>0.3921</td><td>18.50</td><td>0.5226</td></tr>\n",
       "\t<tr><td>132</td><td> 33.154</td><td> 6000</td><td>2.11</td><td>0.1043</td><td>183.00</td><td>0.4186</td><td>24.40</td><td>0.4771</td></tr>\n",
       "\t<tr><td>133</td><td> 32.228</td><td> 6119</td><td>1.54</td><td>0.0797</td><td>189.00</td><td>0.3503</td><td>26.20</td><td>0.5700</td></tr>\n",
       "\t<tr><td>134</td><td> 34.168</td><td> 6136</td><td>1.92</td><td>0.0653</td><td>160.00</td><td>0.6791</td><td>22.50</td><td>0.2556</td></tr>\n",
       "\t<tr><td>135</td><td> 40.594</td><td> 7193</td><td>2.12</td><td>0.0729</td><td>162.00</td><td>0.3550</td><td>28.60</td><td>0.5721</td></tr>\n",
       "\t<tr><td>136</td><td> 33.354</td><td> 7886</td><td>1.61</td><td>0.0587</td><td>178.00</td><td>0.5835</td><td>17.80</td><td>0.3578</td></tr>\n",
       "\t<tr><td>137</td><td> 64.542</td><td> 8419</td><td>2.32</td><td>0.1108</td><td>199.00</td><td>0.3910</td><td>31.90</td><td>0.4982</td></tr>\n",
       "\t<tr><td>138</td><td> 41.238</td><td> 8642</td><td>2.24</td><td>0.0517</td><td>182.00</td><td>0.3259</td><td>26.50</td><td>0.6224</td></tr>\n",
       "\t<tr><td>139</td><td> 47.993</td><td> 8787</td><td>2.31</td><td>0.0841</td><td>190.00</td><td>0.3407</td><td>33.50</td><td>0.5753</td></tr>\n",
       "\t<tr><td>140</td><td> 69.878</td><td> 9484</td><td>2.11</td><td>0.0759</td><td>165.00</td><td>0.4044</td><td>24.40</td><td>0.5198</td></tr>\n",
       "\t<tr><td>141</td><td> 44.894</td><td> 9956</td><td>1.68</td><td>0.0688</td><td>203.00</td><td>0.2942</td><td>28.80</td><td>0.6370</td></tr>\n",
       "\t<tr><td>142</td><td> 67.120</td><td>11477</td><td>2.24</td><td>0.0670</td><td>151.00</td><td>0.3458</td><td>26.50</td><td>0.5872</td></tr>\n",
       "\t<tr><td>143</td><td> 73.050</td><td>11796</td><td>2.12</td><td>0.1033</td><td>148.00</td><td>0.3914</td><td>28.60</td><td>0.5054</td></tr>\n",
       "\t<tr><td>144</td><td>139.422</td><td>14359</td><td>2.31</td><td>0.1050</td><td>212.00</td><td>0.4102</td><td>33.50</td><td>0.4848</td></tr>\n",
       "\t<tr><td>145</td><td>119.939</td><td>16719</td><td>2.30</td><td>0.0906</td><td>162.00</td><td>0.4340</td><td>23.60</td><td>0.4754</td></tr>\n",
       "\t<tr><td>146</td><td> 23.220</td><td> 3018</td><td>2.01</td><td>0.1292</td><td>163.00</td><td>0.3282</td><td>35.10</td><td>0.5425</td></tr>\n",
       "\t<tr><td>147</td><td>  7.797</td><td>  874</td><td>2.05</td><td>0.1084</td><td>155.00</td><td>0.2123</td><td>35.10</td><td>0.6793</td></tr>\n",
       "\t<tr><td>148</td><td>  1.610</td><td>   14</td><td>1.99</td><td>0.1764</td><td>199.00</td><td>0.6352</td><td>35.40</td><td>0.1884</td></tr>\n",
       "\t<tr><td>149</td><td> 28.996</td><td> 4174</td><td>2.28</td><td>0.1067</td><td>157.00</td><td>0.3675</td><td>28.55</td><td>0.5258</td></tr>\n",
       "\t<tr><td>150</td><td> 37.767</td><td> 6356</td><td>1.92</td><td>0.0713</td><td>160.20</td><td>0.6656</td><td>22.50</td><td>0.2631</td></tr>\n",
       "\t<tr><td>151</td><td> 37.496</td><td> 8291</td><td>1.91</td><td>0.0764</td><td>171.00</td><td>0.5175</td><td>22.43</td><td>0.4060</td></tr>\n",
       "\t<tr><td>152</td><td> 64.888</td><td>13702</td><td>1.66</td><td>0.0877</td><td>192.00</td><td>0.3692</td><td>22.90</td><td>0.5431</td></tr>\n",
       "\t<tr><td>153</td><td> 52.083</td><td> 8545</td><td>2.17</td><td>0.0850</td><td>186.00</td><td>0.5933</td><td>26.40</td><td>0.3217</td></tr>\n",
       "\t<tr><td>154</td><td>132.901</td><td>19170</td><td>2.30</td><td>0.0910</td><td>162.00</td><td>0.4511</td><td>23.60</td><td>0.3217</td></tr>\n",
       "\t<tr><td>155</td><td> 31.980</td><td> 4548</td><td>2.18</td><td>0.0862</td><td>159.00</td><td>0.3119</td><td>36.00</td><td>0.6020</td></tr>\n",
       "\t<tr><td>156</td><td> 12.483</td><td> 2106</td><td>1.77</td><td>0.0945</td><td>156.00</td><td>0.3940</td><td>21.30</td><td>0.5115</td></tr>\n",
       "\t<tr><td>157</td><td>  5.817</td><td>  895</td><td>2.27</td><td>0.0924</td><td>174.36</td><td>0.2975</td><td>28.56</td><td>0.6101</td></tr>\n",
       "\t<tr><td>158</td><td> 12.072</td><td> 1787</td><td>2.11</td><td>0.0595</td><td>178.00</td><td>0.4036</td><td>30.00</td><td>0.5369</td></tr>\n",
       "\t<tr><td>159</td><td>  9.391</td><td> 2050</td><td>1.80</td><td>0.0803</td><td>157.98</td><td>0.3377</td><td>22.50</td><td>0.5820</td></tr>\n",
       "</tbody>\n",
       "</table>\n"
      ],
      "text/latex": [
       "A data.frame: 159 × 9\n",
       "\\begin{tabular}{lllllllll}\n",
       " rownames & cost & output & labor & laborshare & capital & capitalshare & fuel & fuelshare\\\\\n",
       " <int> & <dbl> & <int> & <dbl> & <dbl> & <dbl> & <dbl> & <dbl> & <dbl>\\\\\n",
       "\\hline\n",
       "\t  1 & 0.082 &   2 & 2.09 & 0.3164 & 183 & 0.4521 & 17.9 & 0.2315\\\\\n",
       "\t  2 & 0.661 &   3 & 2.05 & 0.2073 & 174 & 0.6676 & 35.1 & 0.1251\\\\\n",
       "\t  3 & 0.990 &   4 & 2.05 & 0.2349 & 171 & 0.5799 & 35.1 & 0.1852\\\\\n",
       "\t  4 & 0.315 &   4 & 1.83 & 0.1152 & 166 & 0.7857 & 32.2 & 0.0990\\\\\n",
       "\t  5 & 0.197 &   5 & 2.12 & 0.2300 & 233 & 0.3841 & 28.6 & 0.3859\\\\\n",
       "\t  6 & 0.098 &   9 & 2.12 & 0.1881 & 195 & 0.2926 & 28.6 & 0.5193\\\\\n",
       "\t  7 & 0.949 &  11 & 1.98 & 0.1584 & 206 & 0.6093 & 35.5 & 0.2323\\\\\n",
       "\t  8 & 0.675 &  13 & 2.05 & 0.1880 & 150 & 0.4952 & 35.1 & 0.3169\\\\\n",
       "\t  9 & 0.525 &  13 & 2.19 & 0.1852 & 155 & 0.3651 & 29.1 & 0.4496\\\\\n",
       "\t 10 & 0.501 &  22 & 1.72 & 0.1845 & 188 & 0.2491 & 15.0 & 0.5664\\\\\n",
       "\t 11 & 1.194 &  25 & 2.09 & 0.1994 & 170 & 0.5478 & 17.9 & 0.2528\\\\\n",
       "\t 12 & 0.670 &  25 & 1.68 & 0.1102 & 167 & 0.6118 & 39.7 & 0.2780\\\\\n",
       "\t 13 & 0.349 &  35 & 1.81 & 0.1386 & 213 & 0.3817 & 22.6 & 0.4797\\\\\n",
       "\t 14 & 0.423 &  39 & 2.30 & 0.1702 & 164 & 0.4137 & 23.6 & 0.4161\\\\\n",
       "\t 15 & 0.501 &  43 & 1.75 & 0.1143 & 170 & 0.3481 & 42.8 & 0.5376\\\\\n",
       "\t 16 & 0.550 &  63 & 1.76 & 0.0887 & 161 & 0.5184 & 10.3 & 0.3929\\\\\n",
       "\t 17 & 0.795 &  68 & 1.98 & 0.1116 & 210 & 0.3054 & 35.5 & 0.5830\\\\\n",
       "\t 18 & 0.664 &  81 & 2.29 & 0.1665 & 158 & 0.3859 & 28.5 & 0.4476\\\\\n",
       "\t 19 & 0.705 &  84 & 2.19 & 0.1484 & 156 & 0.3630 & 29.1 & 0.4883\\\\\n",
       "\t 20 & 0.903 &  73 & 1.75 & 0.0821 & 176 & 0.2910 & 42.8 & 0.6269\\\\\n",
       "\t 21 & 1.504 &  99 & 2.20 & 0.0906 & 170 & 0.3947 & 36.2 & 0.5146\\\\\n",
       "\t 22 & 1.615 & 101 & 1.66 & 0.1080 & 192 & 0.3675 & 33.4 & 0.5245\\\\\n",
       "\t 23 & 1.127 & 119 & 1.92 & 0.1980 & 164 & 0.4164 & 22.5 & 0.3856\\\\\n",
       "\t 24 & 0.718 & 120 & 1.77 & 0.1648 & 175 & 0.2664 & 21.3 & 0.5688\\\\\n",
       "\t 25 & 2.414 & 122 & 2.09 & 0.2402 & 180 & 0.4949 & 17.9 & 0.2649\\\\\n",
       "\t 26 & 1.130 & 130 & 1.82 & 0.1171 & 176 & 0.2779 & 38.9 & 0.6049\\\\\n",
       "\t 27 & 0.992 & 138 & 1.80 & 0.1304 & 202 & 0.4011 & 20.2 & 0.4686\\\\\n",
       "\t 28 & 1.554 & 149 & 1.92 & 0.0553 & 227 & 0.4320 & 22.5 & 0.5127\\\\\n",
       "\t 29 & 1.225 & 196 & 1.92 & 0.0722 & 186 & 0.4550 & 29.1 & 0.4728\\\\\n",
       "\t 30 & 1.565 & 197 & 2.19 & 0.0692 & 183 & 0.4151 & 29.1 & 0.5157\\\\\n",
       "\t ⋮ & ⋮ & ⋮ & ⋮ & ⋮ & ⋮ & ⋮ & ⋮ & ⋮\\\\\n",
       "\t 130 &  17.467 &  5681 & 1.76 & 0.0802 & 157.00 & 0.5323 & 10.30 & 0.3875\\\\\n",
       "\t 131 &  22.828 &  5819 & 1.79 & 0.0854 & 196.00 & 0.3921 & 18.50 & 0.5226\\\\\n",
       "\t 132 &  33.154 &  6000 & 2.11 & 0.1043 & 183.00 & 0.4186 & 24.40 & 0.4771\\\\\n",
       "\t 133 &  32.228 &  6119 & 1.54 & 0.0797 & 189.00 & 0.3503 & 26.20 & 0.5700\\\\\n",
       "\t 134 &  34.168 &  6136 & 1.92 & 0.0653 & 160.00 & 0.6791 & 22.50 & 0.2556\\\\\n",
       "\t 135 &  40.594 &  7193 & 2.12 & 0.0729 & 162.00 & 0.3550 & 28.60 & 0.5721\\\\\n",
       "\t 136 &  33.354 &  7886 & 1.61 & 0.0587 & 178.00 & 0.5835 & 17.80 & 0.3578\\\\\n",
       "\t 137 &  64.542 &  8419 & 2.32 & 0.1108 & 199.00 & 0.3910 & 31.90 & 0.4982\\\\\n",
       "\t 138 &  41.238 &  8642 & 2.24 & 0.0517 & 182.00 & 0.3259 & 26.50 & 0.6224\\\\\n",
       "\t 139 &  47.993 &  8787 & 2.31 & 0.0841 & 190.00 & 0.3407 & 33.50 & 0.5753\\\\\n",
       "\t 140 &  69.878 &  9484 & 2.11 & 0.0759 & 165.00 & 0.4044 & 24.40 & 0.5198\\\\\n",
       "\t 141 &  44.894 &  9956 & 1.68 & 0.0688 & 203.00 & 0.2942 & 28.80 & 0.6370\\\\\n",
       "\t 142 &  67.120 & 11477 & 2.24 & 0.0670 & 151.00 & 0.3458 & 26.50 & 0.5872\\\\\n",
       "\t 143 &  73.050 & 11796 & 2.12 & 0.1033 & 148.00 & 0.3914 & 28.60 & 0.5054\\\\\n",
       "\t 144 & 139.422 & 14359 & 2.31 & 0.1050 & 212.00 & 0.4102 & 33.50 & 0.4848\\\\\n",
       "\t 145 & 119.939 & 16719 & 2.30 & 0.0906 & 162.00 & 0.4340 & 23.60 & 0.4754\\\\\n",
       "\t 146 &  23.220 &  3018 & 2.01 & 0.1292 & 163.00 & 0.3282 & 35.10 & 0.5425\\\\\n",
       "\t 147 &   7.797 &   874 & 2.05 & 0.1084 & 155.00 & 0.2123 & 35.10 & 0.6793\\\\\n",
       "\t 148 &   1.610 &    14 & 1.99 & 0.1764 & 199.00 & 0.6352 & 35.40 & 0.1884\\\\\n",
       "\t 149 &  28.996 &  4174 & 2.28 & 0.1067 & 157.00 & 0.3675 & 28.55 & 0.5258\\\\\n",
       "\t 150 &  37.767 &  6356 & 1.92 & 0.0713 & 160.20 & 0.6656 & 22.50 & 0.2631\\\\\n",
       "\t 151 &  37.496 &  8291 & 1.91 & 0.0764 & 171.00 & 0.5175 & 22.43 & 0.4060\\\\\n",
       "\t 152 &  64.888 & 13702 & 1.66 & 0.0877 & 192.00 & 0.3692 & 22.90 & 0.5431\\\\\n",
       "\t 153 &  52.083 &  8545 & 2.17 & 0.0850 & 186.00 & 0.5933 & 26.40 & 0.3217\\\\\n",
       "\t 154 & 132.901 & 19170 & 2.30 & 0.0910 & 162.00 & 0.4511 & 23.60 & 0.3217\\\\\n",
       "\t 155 &  31.980 &  4548 & 2.18 & 0.0862 & 159.00 & 0.3119 & 36.00 & 0.6020\\\\\n",
       "\t 156 &  12.483 &  2106 & 1.77 & 0.0945 & 156.00 & 0.3940 & 21.30 & 0.5115\\\\\n",
       "\t 157 &   5.817 &   895 & 2.27 & 0.0924 & 174.36 & 0.2975 & 28.56 & 0.6101\\\\\n",
       "\t 158 &  12.072 &  1787 & 2.11 & 0.0595 & 178.00 & 0.4036 & 30.00 & 0.5369\\\\\n",
       "\t 159 &   9.391 &  2050 & 1.80 & 0.0803 & 157.98 & 0.3377 & 22.50 & 0.5820\\\\\n",
       "\\end{tabular}\n"
      ],
      "text/markdown": [
       "\n",
       "A data.frame: 159 × 9\n",
       "\n",
       "| rownames &lt;int&gt; | cost &lt;dbl&gt; | output &lt;int&gt; | labor &lt;dbl&gt; | laborshare &lt;dbl&gt; | capital &lt;dbl&gt; | capitalshare &lt;dbl&gt; | fuel &lt;dbl&gt; | fuelshare &lt;dbl&gt; |\n",
       "|---|---|---|---|---|---|---|---|---|\n",
       "|  1 | 0.082 |   2 | 2.09 | 0.3164 | 183 | 0.4521 | 17.9 | 0.2315 |\n",
       "|  2 | 0.661 |   3 | 2.05 | 0.2073 | 174 | 0.6676 | 35.1 | 0.1251 |\n",
       "|  3 | 0.990 |   4 | 2.05 | 0.2349 | 171 | 0.5799 | 35.1 | 0.1852 |\n",
       "|  4 | 0.315 |   4 | 1.83 | 0.1152 | 166 | 0.7857 | 32.2 | 0.0990 |\n",
       "|  5 | 0.197 |   5 | 2.12 | 0.2300 | 233 | 0.3841 | 28.6 | 0.3859 |\n",
       "|  6 | 0.098 |   9 | 2.12 | 0.1881 | 195 | 0.2926 | 28.6 | 0.5193 |\n",
       "|  7 | 0.949 |  11 | 1.98 | 0.1584 | 206 | 0.6093 | 35.5 | 0.2323 |\n",
       "|  8 | 0.675 |  13 | 2.05 | 0.1880 | 150 | 0.4952 | 35.1 | 0.3169 |\n",
       "|  9 | 0.525 |  13 | 2.19 | 0.1852 | 155 | 0.3651 | 29.1 | 0.4496 |\n",
       "| 10 | 0.501 |  22 | 1.72 | 0.1845 | 188 | 0.2491 | 15.0 | 0.5664 |\n",
       "| 11 | 1.194 |  25 | 2.09 | 0.1994 | 170 | 0.5478 | 17.9 | 0.2528 |\n",
       "| 12 | 0.670 |  25 | 1.68 | 0.1102 | 167 | 0.6118 | 39.7 | 0.2780 |\n",
       "| 13 | 0.349 |  35 | 1.81 | 0.1386 | 213 | 0.3817 | 22.6 | 0.4797 |\n",
       "| 14 | 0.423 |  39 | 2.30 | 0.1702 | 164 | 0.4137 | 23.6 | 0.4161 |\n",
       "| 15 | 0.501 |  43 | 1.75 | 0.1143 | 170 | 0.3481 | 42.8 | 0.5376 |\n",
       "| 16 | 0.550 |  63 | 1.76 | 0.0887 | 161 | 0.5184 | 10.3 | 0.3929 |\n",
       "| 17 | 0.795 |  68 | 1.98 | 0.1116 | 210 | 0.3054 | 35.5 | 0.5830 |\n",
       "| 18 | 0.664 |  81 | 2.29 | 0.1665 | 158 | 0.3859 | 28.5 | 0.4476 |\n",
       "| 19 | 0.705 |  84 | 2.19 | 0.1484 | 156 | 0.3630 | 29.1 | 0.4883 |\n",
       "| 20 | 0.903 |  73 | 1.75 | 0.0821 | 176 | 0.2910 | 42.8 | 0.6269 |\n",
       "| 21 | 1.504 |  99 | 2.20 | 0.0906 | 170 | 0.3947 | 36.2 | 0.5146 |\n",
       "| 22 | 1.615 | 101 | 1.66 | 0.1080 | 192 | 0.3675 | 33.4 | 0.5245 |\n",
       "| 23 | 1.127 | 119 | 1.92 | 0.1980 | 164 | 0.4164 | 22.5 | 0.3856 |\n",
       "| 24 | 0.718 | 120 | 1.77 | 0.1648 | 175 | 0.2664 | 21.3 | 0.5688 |\n",
       "| 25 | 2.414 | 122 | 2.09 | 0.2402 | 180 | 0.4949 | 17.9 | 0.2649 |\n",
       "| 26 | 1.130 | 130 | 1.82 | 0.1171 | 176 | 0.2779 | 38.9 | 0.6049 |\n",
       "| 27 | 0.992 | 138 | 1.80 | 0.1304 | 202 | 0.4011 | 20.2 | 0.4686 |\n",
       "| 28 | 1.554 | 149 | 1.92 | 0.0553 | 227 | 0.4320 | 22.5 | 0.5127 |\n",
       "| 29 | 1.225 | 196 | 1.92 | 0.0722 | 186 | 0.4550 | 29.1 | 0.4728 |\n",
       "| 30 | 1.565 | 197 | 2.19 | 0.0692 | 183 | 0.4151 | 29.1 | 0.5157 |\n",
       "| ⋮ | ⋮ | ⋮ | ⋮ | ⋮ | ⋮ | ⋮ | ⋮ | ⋮ |\n",
       "| 130 |  17.467 |  5681 | 1.76 | 0.0802 | 157.00 | 0.5323 | 10.30 | 0.3875 |\n",
       "| 131 |  22.828 |  5819 | 1.79 | 0.0854 | 196.00 | 0.3921 | 18.50 | 0.5226 |\n",
       "| 132 |  33.154 |  6000 | 2.11 | 0.1043 | 183.00 | 0.4186 | 24.40 | 0.4771 |\n",
       "| 133 |  32.228 |  6119 | 1.54 | 0.0797 | 189.00 | 0.3503 | 26.20 | 0.5700 |\n",
       "| 134 |  34.168 |  6136 | 1.92 | 0.0653 | 160.00 | 0.6791 | 22.50 | 0.2556 |\n",
       "| 135 |  40.594 |  7193 | 2.12 | 0.0729 | 162.00 | 0.3550 | 28.60 | 0.5721 |\n",
       "| 136 |  33.354 |  7886 | 1.61 | 0.0587 | 178.00 | 0.5835 | 17.80 | 0.3578 |\n",
       "| 137 |  64.542 |  8419 | 2.32 | 0.1108 | 199.00 | 0.3910 | 31.90 | 0.4982 |\n",
       "| 138 |  41.238 |  8642 | 2.24 | 0.0517 | 182.00 | 0.3259 | 26.50 | 0.6224 |\n",
       "| 139 |  47.993 |  8787 | 2.31 | 0.0841 | 190.00 | 0.3407 | 33.50 | 0.5753 |\n",
       "| 140 |  69.878 |  9484 | 2.11 | 0.0759 | 165.00 | 0.4044 | 24.40 | 0.5198 |\n",
       "| 141 |  44.894 |  9956 | 1.68 | 0.0688 | 203.00 | 0.2942 | 28.80 | 0.6370 |\n",
       "| 142 |  67.120 | 11477 | 2.24 | 0.0670 | 151.00 | 0.3458 | 26.50 | 0.5872 |\n",
       "| 143 |  73.050 | 11796 | 2.12 | 0.1033 | 148.00 | 0.3914 | 28.60 | 0.5054 |\n",
       "| 144 | 139.422 | 14359 | 2.31 | 0.1050 | 212.00 | 0.4102 | 33.50 | 0.4848 |\n",
       "| 145 | 119.939 | 16719 | 2.30 | 0.0906 | 162.00 | 0.4340 | 23.60 | 0.4754 |\n",
       "| 146 |  23.220 |  3018 | 2.01 | 0.1292 | 163.00 | 0.3282 | 35.10 | 0.5425 |\n",
       "| 147 |   7.797 |   874 | 2.05 | 0.1084 | 155.00 | 0.2123 | 35.10 | 0.6793 |\n",
       "| 148 |   1.610 |    14 | 1.99 | 0.1764 | 199.00 | 0.6352 | 35.40 | 0.1884 |\n",
       "| 149 |  28.996 |  4174 | 2.28 | 0.1067 | 157.00 | 0.3675 | 28.55 | 0.5258 |\n",
       "| 150 |  37.767 |  6356 | 1.92 | 0.0713 | 160.20 | 0.6656 | 22.50 | 0.2631 |\n",
       "| 151 |  37.496 |  8291 | 1.91 | 0.0764 | 171.00 | 0.5175 | 22.43 | 0.4060 |\n",
       "| 152 |  64.888 | 13702 | 1.66 | 0.0877 | 192.00 | 0.3692 | 22.90 | 0.5431 |\n",
       "| 153 |  52.083 |  8545 | 2.17 | 0.0850 | 186.00 | 0.5933 | 26.40 | 0.3217 |\n",
       "| 154 | 132.901 | 19170 | 2.30 | 0.0910 | 162.00 | 0.4511 | 23.60 | 0.3217 |\n",
       "| 155 |  31.980 |  4548 | 2.18 | 0.0862 | 159.00 | 0.3119 | 36.00 | 0.6020 |\n",
       "| 156 |  12.483 |  2106 | 1.77 | 0.0945 | 156.00 | 0.3940 | 21.30 | 0.5115 |\n",
       "| 157 |   5.817 |   895 | 2.27 | 0.0924 | 174.36 | 0.2975 | 28.56 | 0.6101 |\n",
       "| 158 |  12.072 |  1787 | 2.11 | 0.0595 | 178.00 | 0.4036 | 30.00 | 0.5369 |\n",
       "| 159 |   9.391 |  2050 | 1.80 | 0.0803 | 157.98 | 0.3377 | 22.50 | 0.5820 |\n",
       "\n"
      ],
      "text/plain": [
       "    rownames cost    output labor laborshare capital capitalshare fuel \n",
       "1    1       0.082     2    2.09  0.3164     183     0.4521       17.9 \n",
       "2    2       0.661     3    2.05  0.2073     174     0.6676       35.1 \n",
       "3    3       0.990     4    2.05  0.2349     171     0.5799       35.1 \n",
       "4    4       0.315     4    1.83  0.1152     166     0.7857       32.2 \n",
       "5    5       0.197     5    2.12  0.2300     233     0.3841       28.6 \n",
       "6    6       0.098     9    2.12  0.1881     195     0.2926       28.6 \n",
       "7    7       0.949    11    1.98  0.1584     206     0.6093       35.5 \n",
       "8    8       0.675    13    2.05  0.1880     150     0.4952       35.1 \n",
       "9    9       0.525    13    2.19  0.1852     155     0.3651       29.1 \n",
       "10  10       0.501    22    1.72  0.1845     188     0.2491       15.0 \n",
       "11  11       1.194    25    2.09  0.1994     170     0.5478       17.9 \n",
       "12  12       0.670    25    1.68  0.1102     167     0.6118       39.7 \n",
       "13  13       0.349    35    1.81  0.1386     213     0.3817       22.6 \n",
       "14  14       0.423    39    2.30  0.1702     164     0.4137       23.6 \n",
       "15  15       0.501    43    1.75  0.1143     170     0.3481       42.8 \n",
       "16  16       0.550    63    1.76  0.0887     161     0.5184       10.3 \n",
       "17  17       0.795    68    1.98  0.1116     210     0.3054       35.5 \n",
       "18  18       0.664    81    2.29  0.1665     158     0.3859       28.5 \n",
       "19  19       0.705    84    2.19  0.1484     156     0.3630       29.1 \n",
       "20  20       0.903    73    1.75  0.0821     176     0.2910       42.8 \n",
       "21  21       1.504    99    2.20  0.0906     170     0.3947       36.2 \n",
       "22  22       1.615   101    1.66  0.1080     192     0.3675       33.4 \n",
       "23  23       1.127   119    1.92  0.1980     164     0.4164       22.5 \n",
       "24  24       0.718   120    1.77  0.1648     175     0.2664       21.3 \n",
       "25  25       2.414   122    2.09  0.2402     180     0.4949       17.9 \n",
       "26  26       1.130   130    1.82  0.1171     176     0.2779       38.9 \n",
       "27  27       0.992   138    1.80  0.1304     202     0.4011       20.2 \n",
       "28  28       1.554   149    1.92  0.0553     227     0.4320       22.5 \n",
       "29  29       1.225   196    1.92  0.0722     186     0.4550       29.1 \n",
       "30  30       1.565   197    2.19  0.0692     183     0.4151       29.1 \n",
       "⋮   ⋮        ⋮       ⋮      ⋮     ⋮          ⋮       ⋮            ⋮    \n",
       "130 130       17.467  5681  1.76  0.0802     157.00  0.5323       10.30\n",
       "131 131       22.828  5819  1.79  0.0854     196.00  0.3921       18.50\n",
       "132 132       33.154  6000  2.11  0.1043     183.00  0.4186       24.40\n",
       "133 133       32.228  6119  1.54  0.0797     189.00  0.3503       26.20\n",
       "134 134       34.168  6136  1.92  0.0653     160.00  0.6791       22.50\n",
       "135 135       40.594  7193  2.12  0.0729     162.00  0.3550       28.60\n",
       "136 136       33.354  7886  1.61  0.0587     178.00  0.5835       17.80\n",
       "137 137       64.542  8419  2.32  0.1108     199.00  0.3910       31.90\n",
       "138 138       41.238  8642  2.24  0.0517     182.00  0.3259       26.50\n",
       "139 139       47.993  8787  2.31  0.0841     190.00  0.3407       33.50\n",
       "140 140       69.878  9484  2.11  0.0759     165.00  0.4044       24.40\n",
       "141 141       44.894  9956  1.68  0.0688     203.00  0.2942       28.80\n",
       "142 142       67.120 11477  2.24  0.0670     151.00  0.3458       26.50\n",
       "143 143       73.050 11796  2.12  0.1033     148.00  0.3914       28.60\n",
       "144 144      139.422 14359  2.31  0.1050     212.00  0.4102       33.50\n",
       "145 145      119.939 16719  2.30  0.0906     162.00  0.4340       23.60\n",
       "146 146       23.220  3018  2.01  0.1292     163.00  0.3282       35.10\n",
       "147 147        7.797   874  2.05  0.1084     155.00  0.2123       35.10\n",
       "148 148        1.610    14  1.99  0.1764     199.00  0.6352       35.40\n",
       "149 149       28.996  4174  2.28  0.1067     157.00  0.3675       28.55\n",
       "150 150       37.767  6356  1.92  0.0713     160.20  0.6656       22.50\n",
       "151 151       37.496  8291  1.91  0.0764     171.00  0.5175       22.43\n",
       "152 152       64.888 13702  1.66  0.0877     192.00  0.3692       22.90\n",
       "153 153       52.083  8545  2.17  0.0850     186.00  0.5933       26.40\n",
       "154 154      132.901 19170  2.30  0.0910     162.00  0.4511       23.60\n",
       "155 155       31.980  4548  2.18  0.0862     159.00  0.3119       36.00\n",
       "156 156       12.483  2106  1.77  0.0945     156.00  0.3940       21.30\n",
       "157 157        5.817   895  2.27  0.0924     174.36  0.2975       28.56\n",
       "158 158       12.072  1787  2.11  0.0595     178.00  0.4036       30.00\n",
       "159 159        9.391  2050  1.80  0.0803     157.98  0.3377       22.50\n",
       "    fuelshare\n",
       "1   0.2315   \n",
       "2   0.1251   \n",
       "3   0.1852   \n",
       "4   0.0990   \n",
       "5   0.3859   \n",
       "6   0.5193   \n",
       "7   0.2323   \n",
       "8   0.3169   \n",
       "9   0.4496   \n",
       "10  0.5664   \n",
       "11  0.2528   \n",
       "12  0.2780   \n",
       "13  0.4797   \n",
       "14  0.4161   \n",
       "15  0.5376   \n",
       "16  0.3929   \n",
       "17  0.5830   \n",
       "18  0.4476   \n",
       "19  0.4883   \n",
       "20  0.6269   \n",
       "21  0.5146   \n",
       "22  0.5245   \n",
       "23  0.3856   \n",
       "24  0.5688   \n",
       "25  0.2649   \n",
       "26  0.6049   \n",
       "27  0.4686   \n",
       "28  0.5127   \n",
       "29  0.4728   \n",
       "30  0.5157   \n",
       "⋮   ⋮        \n",
       "130 0.3875   \n",
       "131 0.5226   \n",
       "132 0.4771   \n",
       "133 0.5700   \n",
       "134 0.2556   \n",
       "135 0.5721   \n",
       "136 0.3578   \n",
       "137 0.4982   \n",
       "138 0.6224   \n",
       "139 0.5753   \n",
       "140 0.5198   \n",
       "141 0.6370   \n",
       "142 0.5872   \n",
       "143 0.5054   \n",
       "144 0.4848   \n",
       "145 0.4754   \n",
       "146 0.5425   \n",
       "147 0.6793   \n",
       "148 0.1884   \n",
       "149 0.5258   \n",
       "150 0.2631   \n",
       "151 0.4060   \n",
       "152 0.5431   \n",
       "153 0.3217   \n",
       "154 0.3217   \n",
       "155 0.6020   \n",
       "156 0.5115   \n",
       "157 0.6101   \n",
       "158 0.5369   \n",
       "159 0.5820   "
      ]
     },
     "metadata": {},
     "output_type": "display_data"
    }
   ],
   "source": [
    "M=read.csv(\"Electricity1955.csv\")\n",
    "M"
   ]
  }
 ],
 "metadata": {
  "colab": {
   "provenance": []
  },
  "kernelspec": {
   "display_name": "R",
   "language": "R",
   "name": "r-env"
  },
  "language_info": {
   "codemirror_mode": "r",
   "file_extension": ".r",
   "mimetype": "text/x-r-source",
   "name": "R",
   "pygments_lexer": "r",
   "version": "4.3.3"
  }
 },
 "nbformat": 4,
 "nbformat_minor": 4
}
