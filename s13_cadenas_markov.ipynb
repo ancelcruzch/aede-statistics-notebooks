{
  "nbformat": 4,
  "nbformat_minor": 0,
  "metadata": {
    "colab": {
      "provenance": []
    },
    "kernelspec": {
      "name": "ir",
      "display_name": "R"
    },
    "language_info": {
      "name": "R"
    }
  },
  "cells": [
    {
      "cell_type": "markdown",
      "source": [
        "<img src=\"https://drive.google.com/uc?export=view&id=1QyjJW7NL2WDfnVZ0_MqAfH6Slkal1DJA\" width=\"150\">\n",
        "\n",
        "$\\tiny{Universidad \\ Nacional \\ de \\ San \\ Agustín \\ de \\ Arequipa \\\\\n",
        "Ciencia \\ de \\ la \\ Computación \\ UNSA}$\n",
        "\n",
        "---"
      ],
      "metadata": {
        "id": "GwgCEP7ZIObd"
      }
    },
    {
      "cell_type": "markdown",
      "source": [
        "# <center>  $Capítulo \\ 5$\n",
        "### <center> $Cadenas \\ de \\ Markov$"
      ],
      "metadata": {
        "id": "KXpTU27BIWlc"
      }
    },
    {
      "cell_type": "markdown",
      "source": [
        "**Sesión de Laboratorio 13 :** Cadenas de Markov\n",
        "\n",
        "**Profesor:** ......................................\n",
        "\n",
        "**Estudiante:** .........................................\n",
        "\n",
        "---\n"
      ],
      "metadata": {
        "id": "AIwOzybMJtP5"
      }
    },
    {
      "cell_type": "markdown",
      "source": [
        "# **Cadenas de Markov**\n",
        "\n",
        "Una cadena de Markov es una sucesión de ensayos similares u observaciones en la cual cada ensayo tiene el mismo número finito de resultados posibles y en donde también la probabilidad de cada resultado para un ensayo dado depende sólo del resultado del ensayo inmediatamente precedente y no de cualquier resultado previo"
      ],
      "metadata": {
        "id": "LxRulbczX_9s"
      }
    },
    {
      "cell_type": "markdown",
      "source": [
        "Una cadena de Markov es un proceso estocástico, para el cual la sucesión  $\\left\\{X_t / t \\geq 0\\right \\}$ que describe dicho proceso debe verificar la siguiente condición\n",
        "\n",
        "$$P[X_{t+1}=j/ X_0=i_0,X_1=i_1,,...,X_{t-1}=i_{t-1},X_t=i]=P[X_{t+1}=j/ X_t=i]$$"
      ],
      "metadata": {
        "id": "J7kFRi0ogOry"
      }
    },
    {
      "cell_type": "markdown",
      "source": [
        "**Matriz de estado**\n",
        "\n",
        "$$p(k)=[p_1(k) \\hspace{0.5cm} p_2(k) \\hspace{0.5cm}...\\hspace{0.5cm}p_m(k)]$$\n",
        "\n",
        "$$p_1(k) + p_2(k) +...+p_m(k)=1$$\n",
        "\n",
        "**Matriz de transición**\n",
        "\n",
        "\n",
        "$$P=\n",
        "\\left[\\begin{array}{lcr}\n",
        "p_{11} & p_{12} & \\dots & p_{1m}\\\\\n",
        "p_{21} & p_{22} & \\dots & p_{2m}\\\\\n",
        "\\vdots & \\vdots & \\ddots & \\vdots\\\\\n",
        "p_{m1} & p_{m2} & \\dots & p_{mm}\\\\\n",
        "\\end{array}\\right]\n",
        "$$\n",
        "\n",
        "$0 \\leq p_{ij}\\leq 1$\n",
        "\n",
        "$$p_{i1} + p_{i2} + \\dots + p_{im}=1, \\forall i=1,2,...,m$$\n",
        "\n",
        "**Teorema:** Si $P$ denota la matriz de transición de una cadena de Markov  y $p(k)$ es la matriz de estado después de $k$ ensayos entonces la matriz de estado $p(k+1)$ después del ensayo siguiente esta dada por $p(k+1)=p(k)P$\n",
        "\n",
        "usando el teorema se concluye que:\n",
        "\n",
        "$$p(k)=p(0)P^k$$\n",
        "\n",
        "**Matriz de estado estacionaria**\n",
        "\n",
        "$$\\pi=[\\pi_1 \\hspace{0.5cm} \\pi_2 \\hspace{0.5cm}...\\hspace{0.5cm}\\pi_m], \\pi_1 + \\pi_2 +...+\\pi_m=1$$\n",
        "\n",
        "$$\\pi_1 + \\pi_2 +...+\\pi_m=1$$\n",
        "\n",
        "Para cualquier matriz de estado $X$, la matriz estacionaria verifica\n",
        "\n",
        "$$\\lim_{k \\to \\infty}XP^k=\\pi$$\n",
        "\n",
        "la matriz estacionaria se halla resolviendo el sistema\n",
        "\n",
        "$$\n",
        "\\left\\{\n",
        "\\begin{array}{ll}\n",
        "\\pi=\\pi P\\\\\n",
        "\\sum \\pi_i=1\n",
        "\\end{array}\n",
        "\\right.\n",
        "$$\n",
        "\n",
        "\n"
      ],
      "metadata": {
        "id": "kgW9wlf-Yiig"
      }
    },
    {
      "cell_type": "markdown",
      "source": [
        "---"
      ],
      "metadata": {
        "id": "cmz_4Y6yLPDc"
      }
    },
    {
      "cell_type": "markdown",
      "source": [
        "**Ejemplo:** Un sistema de transporte masivo entra en operación. Las autoridades de transito han realizado estudios que predicen el porcentaje de quienes utilizaran el sistema masivo(M) y el de los que seguirán utilizando su auto (A). Se ha obtenido la siguiente matriz de transición\n",
        "\n",
        "<center>$El \\ próximo \\ año$\n",
        "    \n",
        "|$ $|$ $|$M$|$A$|\n",
        "|- |--|--|--|\n",
        "|$ $|$M$|0.7|0.3|\n",
        "|$Este \\ año$|$A$|0.2|0.8|\n"
      ],
      "metadata": {
        "id": "t-jiziADY1Xv"
      }
    },
    {
      "cell_type": "markdown",
      "source": [
        "Suponga que la población del área permanece constante y que al principio el 30% de la gente se traslada en el transporte masivo y el 70% en auto.\n",
        "\n",
        "¿Qué porcentaje utilizará el sistema de transporte masivo después de un año? ¿Después de dos años?¿Despues de un tiempo prolongado?"
      ],
      "metadata": {
        "id": "zoFDpo-fZSOh"
      }
    },
    {
      "cell_type": "markdown",
      "source": [
        "**Solución**\n",
        "\n",
        "$p(0)=[0.3 \\ 0.7]$\n",
        "\n",
        "\n",
        "\n",
        "$p(1)=?$\n",
        "\n",
        "$p(2)=?$"
      ],
      "metadata": {
        "id": "2YIhjA4VZdMg"
      }
    },
    {
      "cell_type": "markdown",
      "source": [
        "<center>\n",
        "$P=\n",
        "\\left[\\begin{array}{lcr}\n",
        "0.7 & 0.3\\\\\n",
        "0.2 & 0.8\n",
        "\\end{array}\\right]\n",
        "$"
      ],
      "metadata": {
        "id": "22pBC3fgaxig"
      }
    },
    {
      "cell_type": "markdown",
      "source": [
        "$p(1)=p(0)P$"
      ],
      "metadata": {
        "id": "_48VD3RAaFlh"
      }
    },
    {
      "cell_type": "code",
      "execution_count": null,
      "metadata": {
        "colab": {
          "base_uri": "https://localhost:8080/",
          "height": 34
        },
        "id": "wafJcjLDX6da",
        "outputId": "736826bf-6b81-46b2-a166-44dce6daa76e"
      },
      "outputs": [
        {
          "output_type": "display_data",
          "data": {
            "text/html": [
              "<style>\n",
              ".list-inline {list-style: none; margin:0; padding: 0}\n",
              ".list-inline>li {display: inline-block}\n",
              ".list-inline>li:not(:last-child)::after {content: \"\\00b7\"; padding: 0 .5ex}\n",
              "</style>\n",
              "<ol class=list-inline><li>0.3</li><li>0.7</li></ol>\n"
            ],
            "text/markdown": "1. 0.3\n2. 0.7\n\n\n",
            "text/latex": "\\begin{enumerate*}\n\\item 0.3\n\\item 0.7\n\\end{enumerate*}\n",
            "text/plain": [
              "[1] 0.3 0.7"
            ]
          },
          "metadata": {}
        }
      ],
      "source": [
        "p0=c(0.3,0.7)\n",
        "p0"
      ]
    },
    {
      "cell_type": "code",
      "source": [
        "P=matrix(c(0.7,0.2,0.3,0.8),nrow=2,ncol=2)\n",
        "print(P)"
      ],
      "metadata": {
        "colab": {
          "base_uri": "https://localhost:8080/"
        },
        "id": "BEQmGYYbbFm6",
        "outputId": "4906231a-b901-45ee-89ba-7667ac784283"
      },
      "execution_count": null,
      "outputs": [
        {
          "output_type": "stream",
          "name": "stdout",
          "text": [
            "     [,1] [,2]\n",
            "[1,]  0.7  0.3\n",
            "[2,]  0.2  0.8\n"
          ]
        }
      ]
    },
    {
      "cell_type": "code",
      "source": [
        "p1=p0%*%P\n",
        "print(p1)"
      ],
      "metadata": {
        "colab": {
          "base_uri": "https://localhost:8080/"
        },
        "id": "T7aoFK_Pbl_3",
        "outputId": "2caf159c-178a-43e9-fdcb-b7ac20a176cf"
      },
      "execution_count": null,
      "outputs": [
        {
          "output_type": "stream",
          "name": "stdout",
          "text": [
            "     [,1] [,2]\n",
            "[1,] 0.35 0.65\n"
          ]
        }
      ]
    },
    {
      "cell_type": "markdown",
      "source": [
        "Luego de un año el 35% de las personas utilizará el transporte masivo y 65% usará su auto"
      ],
      "metadata": {
        "id": "r-5m8PngcUf1"
      }
    },
    {
      "cell_type": "markdown",
      "source": [
        "$p(2)=p(1)P$"
      ],
      "metadata": {
        "id": "NG0RAuRfcsbG"
      }
    },
    {
      "cell_type": "code",
      "source": [
        "p2=p1%*%P\n",
        "print(p2)º"
      ],
      "metadata": {
        "colab": {
          "base_uri": "https://localhost:8080/"
        },
        "id": "fsRk3zvBczAQ",
        "outputId": "dc897849-4037-4d64-9b0b-1fee1241e642"
      },
      "execution_count": null,
      "outputs": [
        {
          "output_type": "stream",
          "name": "stdout",
          "text": [
            "      [,1]  [,2]\n",
            "[1,] 0.375 0.625\n"
          ]
        }
      ]
    },
    {
      "cell_type": "markdown",
      "source": [
        "Luego de dos años el 37.5% de las personas utilizará el transporte masivo y 62.5% usará su auto"
      ],
      "metadata": {
        "id": "w-u49Bb9dGTs"
      }
    },
    {
      "cell_type": "code",
      "source": [],
      "metadata": {
        "id": "SGgk2jUsaqHr"
      },
      "execution_count": null,
      "outputs": []
    },
    {
      "cell_type": "markdown",
      "source": [
        "Equivalentemente\n",
        "\n",
        "$p(2)=p(0)P^2$"
      ],
      "metadata": {
        "id": "mFKdAQzMd10f"
      }
    },
    {
      "cell_type": "code",
      "source": [],
      "metadata": {
        "id": "xyWb3_tE_ymw"
      },
      "execution_count": null,
      "outputs": []
    },
    {
      "cell_type": "markdown",
      "source": [],
      "metadata": {
        "id": "H9rpCckXba6O"
      }
    },
    {
      "cell_type": "markdown",
      "source": [
        "## **Potenciación de matrices**\n",
        "\n",
        "Para hallar la potencia de una matriz $A^n$\n",
        "se puede utilizar la instrucción **A\\% \\^\\%k**\n",
        "\n",
        "para usar esta instrucción debemos utlizar el paquete **expm**"
      ],
      "metadata": {
        "id": "VwmOwqdObdZK"
      }
    },
    {
      "cell_type": "code",
      "source": [
        "install.packages(\"expm\")"
      ],
      "metadata": {
        "colab": {
          "base_uri": "https://localhost:8080/"
        },
        "id": "Z9ECnIB6c_hO",
        "outputId": "54b2e529-a523-4c5b-d1cc-5145805eeec8"
      },
      "execution_count": null,
      "outputs": [
        {
          "output_type": "stream",
          "name": "stderr",
          "text": [
            "Installing package into ‘/usr/local/lib/R/site-library’\n",
            "(as ‘lib’ is unspecified)\n",
            "\n"
          ]
        }
      ]
    },
    {
      "cell_type": "code",
      "source": [
        "library(expm)"
      ],
      "metadata": {
        "id": "X_JlBgyBc_wz",
        "colab": {
          "base_uri": "https://localhost:8080/"
        },
        "outputId": "ea530f09-6029-4e00-9a28-25d63bdb3cb9"
      },
      "execution_count": null,
      "outputs": [
        {
          "output_type": "stream",
          "name": "stderr",
          "text": [
            "Loading required package: Matrix\n",
            "\n",
            "\n",
            "Attaching package: ‘Matrix’\n",
            "\n",
            "\n",
            "The following objects are masked from ‘package:pracma’:\n",
            "\n",
            "    expm, lu, tril, triu\n",
            "\n",
            "\n",
            "\n",
            "Attaching package: ‘expm’\n",
            "\n",
            "\n",
            "The following object is masked from ‘package:Matrix’:\n",
            "\n",
            "    expm\n",
            "\n",
            "\n",
            "The following objects are masked from ‘package:pracma’:\n",
            "\n",
            "    expm, logm, sqrtm\n",
            "\n",
            "\n"
          ]
        }
      ]
    },
    {
      "cell_type": "code",
      "source": [
        "p2=p0%*%(P%^%2)\n",
        "p2"
      ],
      "metadata": {
        "colab": {
          "base_uri": "https://localhost:8080/",
          "height": 83
        },
        "id": "aEdSVq0WdACj",
        "outputId": "8af50444-75b0-4d02-f9b7-c3124fd9a1fc"
      },
      "execution_count": null,
      "outputs": [
        {
          "output_type": "display_data",
          "data": {
            "text/html": [
              "<table class=\"dataframe\">\n",
              "<caption>A matrix: 1 × 2 of type dbl</caption>\n",
              "<tbody>\n",
              "\t<tr><td>0.375</td><td>0.625</td></tr>\n",
              "</tbody>\n",
              "</table>\n"
            ],
            "text/markdown": "\nA matrix: 1 × 2 of type dbl\n\n| 0.375 | 0.625 |\n\n",
            "text/latex": "A matrix: 1 × 2 of type dbl\n\\begin{tabular}{ll}\n\t 0.375 & 0.625\\\\\n\\end{tabular}\n",
            "text/plain": [
              "     [,1]  [,2] \n",
              "[1,] 0.375 0.625"
            ]
          },
          "metadata": {}
        }
      ]
    },
    {
      "cell_type": "markdown",
      "source": [
        "## **Potenciación de matrices**\n",
        "\n",
        "Para hallar la potencia de una matriz $A^n$\n",
        "se puede utilizar la instrucción $mtx.exp(A,n)$\n",
        "\n",
        "para usar esta instrucción debemos utlizar el paquete $Biodem$"
      ],
      "metadata": {
        "id": "bFVJqlGneBzT"
      }
    },
    {
      "cell_type": "code",
      "source": [
        "install.packages(\"Biodem\")"
      ],
      "metadata": {
        "colab": {
          "base_uri": "https://localhost:8080/"
        },
        "id": "RucWuImQeEMB",
        "outputId": "053dfd7a-974f-4d6e-ee47-8e32b16d1b11"
      },
      "execution_count": null,
      "outputs": [
        {
          "output_type": "stream",
          "name": "stderr",
          "text": [
            "Installing package into ‘/usr/local/lib/R/site-library’\n",
            "(as ‘lib’ is unspecified)\n",
            "\n"
          ]
        }
      ]
    },
    {
      "cell_type": "code",
      "source": [
        "library(Biodem)"
      ],
      "metadata": {
        "id": "QAkh2r0Le9Dx"
      },
      "execution_count": null,
      "outputs": []
    },
    {
      "cell_type": "code",
      "source": [
        "mtx.exp(P,2)"
      ],
      "metadata": {
        "colab": {
          "base_uri": "https://localhost:8080/",
          "height": 114
        },
        "id": "SFe_E99DfB4j",
        "outputId": "e7ca2a1e-01f0-41e7-af11-64254c7b9435"
      },
      "execution_count": null,
      "outputs": [
        {
          "output_type": "display_data",
          "data": {
            "text/html": [
              "<table class=\"dataframe\">\n",
              "<caption>A matrix: 2 × 2 of type dbl</caption>\n",
              "<tbody>\n",
              "\t<tr><td>0.55</td><td>0.45</td></tr>\n",
              "\t<tr><td>0.30</td><td>0.70</td></tr>\n",
              "</tbody>\n",
              "</table>\n"
            ],
            "text/markdown": "\nA matrix: 2 × 2 of type dbl\n\n| 0.55 | 0.45 |\n| 0.30 | 0.70 |\n\n",
            "text/latex": "A matrix: 2 × 2 of type dbl\n\\begin{tabular}{ll}\n\t 0.55 & 0.45\\\\\n\t 0.30 & 0.70\\\\\n\\end{tabular}\n",
            "text/plain": [
              "     [,1] [,2]\n",
              "[1,] 0.55 0.45\n",
              "[2,] 0.30 0.70"
            ]
          },
          "metadata": {}
        }
      ]
    },
    {
      "cell_type": "code",
      "source": [
        "p2=p0%*%mtx.exp(P,2)\n",
        "print(p2)"
      ],
      "metadata": {
        "colab": {
          "base_uri": "https://localhost:8080/"
        },
        "id": "Iu3oBppYfO7u",
        "outputId": "04e4b852-1450-44e3-eb35-3a1048762642"
      },
      "execution_count": null,
      "outputs": [
        {
          "output_type": "stream",
          "name": "stdout",
          "text": [
            "      [,1]  [,2]\n",
            "[1,] 0.375 0.625\n"
          ]
        }
      ]
    },
    {
      "cell_type": "markdown",
      "source": [
        "Si calculamos diferentes matrices ce transicón $p(k)$ cuando $k$  tiende al infinito tenemos:\n"
      ],
      "metadata": {
        "id": "TfRafVavfrfT"
      }
    },
    {
      "cell_type": "code",
      "source": [
        "p3=p0%*%mtx.exp(P,3)\n",
        "print(p3)"
      ],
      "metadata": {
        "colab": {
          "base_uri": "https://localhost:8080/"
        },
        "id": "urBMBY9ifpQA",
        "outputId": "b7191fd2-c911-4ced-f75f-41564f33fe3b"
      },
      "execution_count": null,
      "outputs": [
        {
          "output_type": "stream",
          "name": "stdout",
          "text": [
            "       [,1]   [,2]\n",
            "[1,] 0.3875 0.6125\n"
          ]
        }
      ]
    },
    {
      "cell_type": "code",
      "source": [
        "p4=p0%*%mtx.exp(P,4)\n",
        "print(p4)"
      ],
      "metadata": {
        "colab": {
          "base_uri": "https://localhost:8080/"
        },
        "id": "a2kYhaUmgKnl",
        "outputId": "2f9c166f-8522-4ed7-c076-e83a00d54847"
      },
      "execution_count": null,
      "outputs": [
        {
          "output_type": "stream",
          "name": "stdout",
          "text": [
            "        [,1]    [,2]\n",
            "[1,] 0.39375 0.60625\n"
          ]
        }
      ]
    },
    {
      "cell_type": "code",
      "source": [
        "p5=p0%*%mtx.exp(P,5)\n",
        "print(p5)"
      ],
      "metadata": {
        "colab": {
          "base_uri": "https://localhost:8080/"
        },
        "id": "INp0cUV_gRUB",
        "outputId": "8f3dd1ea-733c-4b91-802f-4f8f35113533"
      },
      "execution_count": null,
      "outputs": [
        {
          "output_type": "stream",
          "name": "stdout",
          "text": [
            "         [,1]     [,2]\n",
            "[1,] 0.396875 0.603125\n"
          ]
        }
      ]
    },
    {
      "cell_type": "code",
      "source": [
        "p15=p0%*%mtx.exp(P,15)\n",
        "print(p15)"
      ],
      "metadata": {
        "colab": {
          "base_uri": "https://localhost:8080/"
        },
        "id": "6vbibFFXUA3Z",
        "outputId": "135dda8b-ddd4-46b7-90ba-4412179fda90"
      },
      "execution_count": null,
      "outputs": [
        {
          "output_type": "stream",
          "name": "stdout",
          "text": [
            "          [,1]      [,2]\n",
            "[1,] 0.3999969 0.6000031\n"
          ]
        }
      ]
    },
    {
      "cell_type": "code",
      "source": [
        "p50=p0%*%mtx.exp(P,50)\n",
        "print(p50)"
      ],
      "metadata": {
        "colab": {
          "base_uri": "https://localhost:8080/"
        },
        "id": "ISiSVyCfgfH8",
        "outputId": "63b8a85f-f332-4b37-f53d-e982d5fe4940"
      },
      "execution_count": null,
      "outputs": [
        {
          "output_type": "stream",
          "name": "stdout",
          "text": [
            "     [,1] [,2]\n",
            "[1,]  0.4  0.6\n"
          ]
        }
      ]
    },
    {
      "cell_type": "markdown",
      "source": [
        "Calculamos ahora diferentes potencias de la matriz de transición\n",
        "\n",
        "$$P^k$$"
      ],
      "metadata": {
        "id": "S2fLuhF_gzVB"
      }
    },
    {
      "cell_type": "code",
      "source": [
        "P2=mtx.exp(P,2)\n",
        "print(P2)"
      ],
      "metadata": {
        "colab": {
          "base_uri": "https://localhost:8080/"
        },
        "id": "xdyLgDEgg-cw",
        "outputId": "f0fc929b-5b1f-4b6a-c8bb-2267b892ef19"
      },
      "execution_count": null,
      "outputs": [
        {
          "output_type": "stream",
          "name": "stdout",
          "text": [
            "     [,1] [,2]\n",
            "[1,] 0.55 0.45\n",
            "[2,] 0.30 0.70\n"
          ]
        }
      ]
    },
    {
      "cell_type": "code",
      "source": [
        "P3=mtx.exp(P,3)\n",
        "print(P3)"
      ],
      "metadata": {
        "colab": {
          "base_uri": "https://localhost:8080/"
        },
        "id": "sh_j6e2KhJds",
        "outputId": "90578ece-864e-4035-a40c-aafa4a70dc1b"
      },
      "execution_count": null,
      "outputs": [
        {
          "output_type": "stream",
          "name": "stdout",
          "text": [
            "      [,1]  [,2]\n",
            "[1,] 0.475 0.525\n",
            "[2,] 0.350 0.650\n"
          ]
        }
      ]
    },
    {
      "cell_type": "code",
      "source": [
        "P4=mtx.exp(P,4)\n",
        "print(P4)"
      ],
      "metadata": {
        "colab": {
          "base_uri": "https://localhost:8080/"
        },
        "id": "kINBTjkuhOyD",
        "outputId": "21c5af7f-d43d-4b33-c308-0e5270f38c1c"
      },
      "execution_count": null,
      "outputs": [
        {
          "output_type": "stream",
          "name": "stdout",
          "text": [
            "       [,1]   [,2]\n",
            "[1,] 0.4375 0.5625\n",
            "[2,] 0.3750 0.6250\n"
          ]
        }
      ]
    },
    {
      "cell_type": "code",
      "source": [
        "P5=mtx.exp(P,5)\n",
        "print(P5)"
      ],
      "metadata": {
        "colab": {
          "base_uri": "https://localhost:8080/"
        },
        "id": "m7BlfNbehUOj",
        "outputId": "eb7b6bb4-cc18-435b-93ae-6ff0c4dbd8c4"
      },
      "execution_count": null,
      "outputs": [
        {
          "output_type": "stream",
          "name": "stdout",
          "text": [
            "        [,1]    [,2]\n",
            "[1,] 0.41875 0.58125\n",
            "[2,] 0.38750 0.61250\n"
          ]
        }
      ]
    },
    {
      "cell_type": "code",
      "source": [
        "P6=mtx.exp(P,6)\n",
        "print(P6)"
      ],
      "metadata": {
        "colab": {
          "base_uri": "https://localhost:8080/"
        },
        "id": "PmkglInRhb1Z",
        "outputId": "74747c11-c1d7-4810-b4cf-9135a478d37b"
      },
      "execution_count": null,
      "outputs": [
        {
          "output_type": "stream",
          "name": "stdout",
          "text": [
            "         [,1]     [,2]\n",
            "[1,] 0.409375 0.590625\n",
            "[2,] 0.393750 0.606250\n"
          ]
        }
      ]
    },
    {
      "cell_type": "code",
      "source": [
        "P7=mtx.exp(P,7)\n",
        "print(P7)"
      ],
      "metadata": {
        "colab": {
          "base_uri": "https://localhost:8080/"
        },
        "id": "3nGbYDG4hkNh",
        "outputId": "5034714e-00ef-40f7-a6eb-2e6d6e26f99e"
      },
      "execution_count": null,
      "outputs": [
        {
          "output_type": "stream",
          "name": "stdout",
          "text": [
            "          [,1]      [,2]\n",
            "[1,] 0.4046875 0.5953125\n",
            "[2,] 0.3968750 0.6031250\n"
          ]
        }
      ]
    },
    {
      "cell_type": "code",
      "source": [
        "P10=mtx.exp(P,10)\n",
        "print(P10)"
      ],
      "metadata": {
        "colab": {
          "base_uri": "https://localhost:8080/"
        },
        "id": "z2n9WLEyhsJ2",
        "outputId": "52740aed-c841-4b5e-9a3c-70a9b42d8483"
      },
      "execution_count": null,
      "outputs": [
        {
          "output_type": "stream",
          "name": "stdout",
          "text": [
            "          [,1]      [,2]\n",
            "[1,] 0.4005859 0.5994141\n",
            "[2,] 0.3996094 0.6003906\n"
          ]
        }
      ]
    },
    {
      "cell_type": "code",
      "source": [
        "P20=mtx.exp(P,20)\n",
        "print(P20)"
      ],
      "metadata": {
        "colab": {
          "base_uri": "https://localhost:8080/"
        },
        "id": "l_-A5EqGhzAK",
        "outputId": "7adde063-ac71-41f5-86e8-4ad1b57e682a"
      },
      "execution_count": null,
      "outputs": [
        {
          "output_type": "stream",
          "name": "stdout",
          "text": [
            "          [,1]      [,2]\n",
            "[1,] 0.4000006 0.5999994\n",
            "[2,] 0.3999996 0.6000004\n"
          ]
        }
      ]
    },
    {
      "cell_type": "code",
      "source": [
        "P30=mtx.exp(P,30)\n",
        "print(P30)"
      ],
      "metadata": {
        "colab": {
          "base_uri": "https://localhost:8080/"
        },
        "id": "LZqFcbfTh3ER",
        "outputId": "774eb595-bcc5-436a-896e-4b837a4bb5a7"
      },
      "execution_count": null,
      "outputs": [
        {
          "output_type": "stream",
          "name": "stdout",
          "text": [
            "     [,1] [,2]\n",
            "[1,]  0.4  0.6\n",
            "[2,]  0.4  0.6\n"
          ]
        }
      ]
    },
    {
      "cell_type": "markdown",
      "source": [
        "Intuitivamente tenemos\n",
        "\n",
        "$$\\lim_{k \\to \\infty}P^k=P_0$$\n",
        "\n",
        "\n",
        "donde\n",
        "\n",
        "\n",
        "<center>\n",
        "$P_0=\n",
        "\\left[\\begin{array}{lcr}\n",
        "0.4 & 0.6\\\\\n",
        "0.4 & 0.6\n",
        "\\end{array}\\right]\n",
        "$"
      ],
      "metadata": {
        "id": "0zmJMVJIil0O"
      }
    },
    {
      "cell_type": "markdown",
      "source": [
        "## **Cálculo de la matriz estacionaria**\n",
        "\n",
        "Es posible usar la libreria $Biodem$ o la libreria $pracma$"
      ],
      "metadata": {
        "id": "yHEz1sTTmY8h"
      }
    },
    {
      "cell_type": "code",
      "source": [
        "install.packages(\"pracma\")"
      ],
      "metadata": {
        "colab": {
          "base_uri": "https://localhost:8080/"
        },
        "id": "OBy8e8U9sVdh",
        "outputId": "32c7ba0d-be2f-42a9-d793-64009942e3bc"
      },
      "execution_count": null,
      "outputs": [
        {
          "output_type": "stream",
          "name": "stderr",
          "text": [
            "Installing package into ‘/usr/local/lib/R/site-library’\n",
            "(as ‘lib’ is unspecified)\n",
            "\n"
          ]
        }
      ]
    },
    {
      "cell_type": "code",
      "source": [
        "library(\"pracma\")"
      ],
      "metadata": {
        "id": "hVpNHo28sYPW"
      },
      "execution_count": null,
      "outputs": []
    },
    {
      "cell_type": "code",
      "source": [],
      "metadata": {
        "id": "hLJNbc95Zhbv"
      },
      "execution_count": null,
      "outputs": []
    },
    {
      "cell_type": "markdown",
      "source": [
        "## **Contrucción de la matriz aumentada**"
      ],
      "metadata": {
        "id": "7A-RFdNvsgFF"
      }
    },
    {
      "cell_type": "code",
      "source": [
        "P=matrix(c(0.7,0.2,0.3,0.8),nrow=2,ncol=2)\n",
        "print(P)\n",
        "P2=P"
      ],
      "metadata": {
        "colab": {
          "base_uri": "https://localhost:8080/"
        },
        "id": "6XBq5osesgUu",
        "outputId": "5ec9af65-7c08-4eb9-c3b0-abf7ce5f5c63"
      },
      "execution_count": null,
      "outputs": [
        {
          "output_type": "stream",
          "name": "stdout",
          "text": [
            "     [,1] [,2]\n",
            "[1,]  0.7  0.3\n",
            "[2,]  0.2  0.8\n"
          ]
        }
      ]
    },
    {
      "cell_type": "code",
      "source": [
        "I=diag(1,2,2)\n",
        "print(I)"
      ],
      "metadata": {
        "colab": {
          "base_uri": "https://localhost:8080/"
        },
        "id": "-ixl8DoBsnrs",
        "outputId": "bdfabe18-8cd8-47ca-f82a-c6382bf32756"
      },
      "execution_count": null,
      "outputs": [
        {
          "output_type": "stream",
          "name": "stdout",
          "text": [
            "     [,1] [,2]\n",
            "[1,]    1    0\n",
            "[2,]    0    1\n"
          ]
        }
      ]
    },
    {
      "cell_type": "code",
      "source": [
        "PP=t(P2)-I\n",
        "PP"
      ],
      "metadata": {
        "colab": {
          "base_uri": "https://localhost:8080/",
          "height": 132
        },
        "id": "YfgNIocHssYa",
        "outputId": "94152155-34a4-4669-84e6-44aba4d8d165"
      },
      "execution_count": null,
      "outputs": [
        {
          "output_type": "display_data",
          "data": {
            "text/html": [
              "<table class=\"dataframe\">\n",
              "<caption>A matrix: 2 × 2 of type dbl</caption>\n",
              "<tbody>\n",
              "\t<tr><td>-0.3</td><td> 0.2</td></tr>\n",
              "\t<tr><td> 0.3</td><td>-0.2</td></tr>\n",
              "</tbody>\n",
              "</table>\n"
            ],
            "text/markdown": "\nA matrix: 2 × 2 of type dbl\n\n| -0.3 |  0.2 |\n|  0.3 | -0.2 |\n\n",
            "text/latex": "A matrix: 2 × 2 of type dbl\n\\begin{tabular}{ll}\n\t -0.3 &  0.2\\\\\n\t  0.3 & -0.2\\\\\n\\end{tabular}\n",
            "text/plain": [
              "     [,1] [,2]\n",
              "[1,] -0.3  0.2\n",
              "[2,]  0.3 -0.2"
            ]
          },
          "metadata": {}
        }
      ]
    },
    {
      "cell_type": "code",
      "source": [
        "orden=dim(P2)\n",
        "orden"
      ],
      "metadata": {
        "colab": {
          "base_uri": "https://localhost:8080/",
          "height": 34
        },
        "id": "_Boggpkqs7mv",
        "outputId": "22bb1522-08e9-4177-f72b-cd8d305a4014"
      },
      "execution_count": null,
      "outputs": [
        {
          "output_type": "display_data",
          "data": {
            "text/html": [
              "<style>\n",
              ".list-inline {list-style: none; margin:0; padding: 0}\n",
              ".list-inline>li {display: inline-block}\n",
              ".list-inline>li:not(:last-child)::after {content: \"\\00b7\"; padding: 0 .5ex}\n",
              "</style>\n",
              "<ol class=list-inline><li>2</li><li>2</li></ol>\n"
            ],
            "text/markdown": "1. 2\n2. 2\n\n\n",
            "text/latex": "\\begin{enumerate*}\n\\item 2\n\\item 2\n\\end{enumerate*}\n",
            "text/plain": [
              "[1] 2 2"
            ]
          },
          "metadata": {}
        }
      ]
    },
    {
      "cell_type": "code",
      "source": [
        "b=matrix(0,orden[1],1)\n",
        "b"
      ],
      "metadata": {
        "colab": {
          "base_uri": "https://localhost:8080/",
          "height": 184
        },
        "id": "vCjDOUacs7rO",
        "outputId": "714da9ac-1d77-48b3-ab0b-db4ce8dd0040"
      },
      "execution_count": null,
      "outputs": [
        {
          "output_type": "display_data",
          "data": {
            "text/html": [
              "<table class=\"dataframe\">\n",
              "<caption>A matrix: 2 × 1 of type dbl</caption>\n",
              "<tbody>\n",
              "\t<tr><td>0</td></tr>\n",
              "\t<tr><td>0</td></tr>\n",
              "</tbody>\n",
              "</table>\n"
            ],
            "text/markdown": "\nA matrix: 2 × 1 of type dbl\n\n| 0 |\n| 0 |\n\n",
            "text/latex": "A matrix: 2 × 1 of type dbl\n\\begin{tabular}{l}\n\t 0\\\\\n\t 0\\\\\n\\end{tabular}\n",
            "text/plain": [
              "     [,1]\n",
              "[1,] 0   \n",
              "[2,] 0   "
            ]
          },
          "metadata": {}
        }
      ]
    },
    {
      "cell_type": "code",
      "source": [
        "T=cbind(PP,b)\n",
        "T"
      ],
      "metadata": {
        "colab": {
          "base_uri": "https://localhost:8080/",
          "height": 114
        },
        "id": "KUHjmjg-tAjR",
        "outputId": "11b96ae6-88d4-4eee-b9bf-f43da7212fdd"
      },
      "execution_count": null,
      "outputs": [
        {
          "output_type": "display_data",
          "data": {
            "text/html": [
              "<table class=\"dataframe\">\n",
              "<caption>A matrix: 2 × 3 of type dbl</caption>\n",
              "<tbody>\n",
              "\t<tr><td>-0.3</td><td> 0.2</td><td>0</td></tr>\n",
              "\t<tr><td> 0.3</td><td>-0.2</td><td>0</td></tr>\n",
              "</tbody>\n",
              "</table>\n"
            ],
            "text/markdown": "\nA matrix: 2 × 3 of type dbl\n\n| -0.3 |  0.2 | 0 |\n|  0.3 | -0.2 | 0 |\n\n",
            "text/latex": "A matrix: 2 × 3 of type dbl\n\\begin{tabular}{lll}\n\t -0.3 &  0.2 & 0\\\\\n\t  0.3 & -0.2 & 0\\\\\n\\end{tabular}\n",
            "text/plain": [
              "     [,1] [,2] [,3]\n",
              "[1,] -0.3  0.2 0   \n",
              "[2,]  0.3 -0.2 0   "
            ]
          },
          "metadata": {}
        }
      ]
    },
    {
      "cell_type": "code",
      "source": [
        "Aum=rbind(T,matrix(1,1,orden[1]+1))\n",
        "Aum"
      ],
      "metadata": {
        "colab": {
          "base_uri": "https://localhost:8080/",
          "height": 146
        },
        "id": "B-NVzttRtAnx",
        "outputId": "48c944d7-da0a-4dac-cbb8-b7ee4f395ede"
      },
      "execution_count": null,
      "outputs": [
        {
          "output_type": "display_data",
          "data": {
            "text/html": [
              "<table class=\"dataframe\">\n",
              "<caption>A matrix: 3 × 3 of type dbl</caption>\n",
              "<tbody>\n",
              "\t<tr><td>-0.3</td><td> 0.2</td><td>0</td></tr>\n",
              "\t<tr><td> 0.3</td><td>-0.2</td><td>0</td></tr>\n",
              "\t<tr><td> 1.0</td><td> 1.0</td><td>1</td></tr>\n",
              "</tbody>\n",
              "</table>\n"
            ],
            "text/markdown": "\nA matrix: 3 × 3 of type dbl\n\n| -0.3 |  0.2 | 0 |\n|  0.3 | -0.2 | 0 |\n|  1.0 |  1.0 | 1 |\n\n",
            "text/latex": "A matrix: 3 × 3 of type dbl\n\\begin{tabular}{lll}\n\t -0.3 &  0.2 & 0\\\\\n\t  0.3 & -0.2 & 0\\\\\n\t  1.0 &  1.0 & 1\\\\\n\\end{tabular}\n",
            "text/plain": [
              "     [,1] [,2] [,3]\n",
              "[1,] -0.3  0.2 0   \n",
              "[2,]  0.3 -0.2 0   \n",
              "[3,]  1.0  1.0 1   "
            ]
          },
          "metadata": {}
        }
      ]
    },
    {
      "cell_type": "markdown",
      "source": [
        "**Solución del sistema**"
      ],
      "metadata": {
        "id": "d2yGbr37tnjP"
      }
    },
    {
      "cell_type": "code",
      "source": [
        "rref(Aum)"
      ],
      "metadata": {
        "colab": {
          "base_uri": "https://localhost:8080/",
          "height": 163
        },
        "id": "jPnSaeqCtJB6",
        "outputId": "450fa675-b4ce-4654-e392-25231e095eeb"
      },
      "execution_count": null,
      "outputs": [
        {
          "output_type": "display_data",
          "data": {
            "text/html": [
              "<table class=\"dataframe\">\n",
              "<caption>A matrix: 3 × 3 of type dbl</caption>\n",
              "<tbody>\n",
              "\t<tr><td>1</td><td>0</td><td>0.4</td></tr>\n",
              "\t<tr><td>0</td><td>1</td><td>0.6</td></tr>\n",
              "\t<tr><td>0</td><td>0</td><td>0.0</td></tr>\n",
              "</tbody>\n",
              "</table>\n"
            ],
            "text/markdown": "\nA matrix: 3 × 3 of type dbl\n\n| 1 | 0 | 0.4 |\n| 0 | 1 | 0.6 |\n| 0 | 0 | 0.0 |\n\n",
            "text/latex": "A matrix: 3 × 3 of type dbl\n\\begin{tabular}{lll}\n\t 1 & 0 & 0.4\\\\\n\t 0 & 1 & 0.6\\\\\n\t 0 & 0 & 0.0\\\\\n\\end{tabular}\n",
            "text/plain": [
              "     [,1] [,2] [,3]\n",
              "[1,] 1    0    0.4 \n",
              "[2,] 0    1    0.6 \n",
              "[3,] 0    0    0.0 "
            ]
          },
          "metadata": {}
        }
      ]
    },
    {
      "cell_type": "code",
      "source": [],
      "metadata": {
        "id": "M1f1qLPhtJOd"
      },
      "execution_count": null,
      "outputs": []
    },
    {
      "cell_type": "markdown",
      "source": [
        "## **Construcción y solución del sistema**"
      ],
      "metadata": {
        "id": "MKzQ69DGtRV2"
      }
    },
    {
      "cell_type": "code",
      "source": [
        "P=matrix(c(0.7,0.2,0.3,0.8),nrow=2,ncol=2)\n",
        "print(P)\n",
        "P2=P\n",
        "orden=dim(P2)\n",
        "I=diag(1,orden)\n",
        "PP=t(P2)-I\n",
        "b=matrix(0,orden[1],1)\n",
        "T=cbind(PP,b)\n",
        "Aum=rbind(T,matrix(1,1,orden[1]+1))\n",
        "B=rref(Aum)\n",
        "B2=B[1:orden[1],orden[1]+1]\n",
        "cat(\"Matriz estacionaria\\n\")\n",
        "print(B2)"
      ],
      "metadata": {
        "colab": {
          "base_uri": "https://localhost:8080/"
        },
        "id": "EX23waTumYWu",
        "outputId": "3e4d2cda-8b05-44c4-d4cf-067e8c8cd2db"
      },
      "execution_count": null,
      "outputs": [
        {
          "output_type": "stream",
          "name": "stdout",
          "text": [
            "     [,1] [,2]\n",
            "[1,]  0.7  0.3\n",
            "[2,]  0.2  0.8\n",
            "Matriz estacionaria\n",
            "[1] 0.4 0.6\n"
          ]
        }
      ]
    },
    {
      "cell_type": "code",
      "source": [],
      "metadata": {
        "id": "XQekYSgkuV57"
      },
      "execution_count": null,
      "outputs": []
    },
    {
      "cell_type": "markdown",
      "source": [
        "Hoy día tres empresas procesadoras de productos X,Y,Z controlan el 50%, 30% y 20% del mercado de café respectivamente. Al mismo tiempo las tres empresas presentan\n",
        "marcas de café con la introducción de estas nuevas marcas en un año ocurre lo siguiente:\n",
        "\n",
        "a)X retiene el 60% de sus consumidores y cede el 20% a Y y otro 20% a Z\n",
        "\n",
        "b)Y conserva el 50% de sus consumidores y pierde el 30% con X y un 20% con Z\n",
        "\n",
        "c)Z retiene el 70% de sus consumidores, cede el 10% a X y el 20% a Y\n",
        "\n",
        "Suponiendo que esta tendencia continua que proporción del mercado tendrá cada\n",
        "empresa al termino de dos años ¿Qué proporción del mercado tendrá cada empresa a\n",
        "largo plazo?"
      ],
      "metadata": {
        "id": "GxJnSRDhf76G"
      }
    },
    {
      "cell_type": "markdown",
      "source": [],
      "metadata": {
        "id": "1ObsvQmQgIpS"
      }
    },
    {
      "cell_type": "code",
      "source": [
        "p0=c(0.5,0.3,0.2)\n",
        "P=matrix(c(0.6,0.3,0.1,0.2,0.5,0.2,0.2,0.2,0.7),nrow=3,ncol=3)\n",
        "p1=p0%*%P\n",
        "p1\n"
      ],
      "metadata": {
        "colab": {
          "base_uri": "https://localhost:8080/",
          "height": 83
        },
        "id": "KBbz7cGVgJuj",
        "outputId": "30610b0e-f739-447f-a97b-51318062e9c4"
      },
      "execution_count": null,
      "outputs": [
        {
          "output_type": "display_data",
          "data": {
            "text/html": [
              "<table class=\"dataframe\">\n",
              "<caption>A matrix: 1 × 3 of type dbl</caption>\n",
              "<tbody>\n",
              "\t<tr><td>0.41</td><td>0.29</td><td>0.3</td></tr>\n",
              "</tbody>\n",
              "</table>\n"
            ],
            "text/markdown": "\nA matrix: 1 × 3 of type dbl\n\n| 0.41 | 0.29 | 0.3 |\n\n",
            "text/latex": "A matrix: 1 × 3 of type dbl\n\\begin{tabular}{lll}\n\t 0.41 & 0.29 & 0.3\\\\\n\\end{tabular}\n",
            "text/plain": [
              "     [,1] [,2] [,3]\n",
              "[1,] 0.41 0.29 0.3 "
            ]
          },
          "metadata": {}
        }
      ]
    },
    {
      "cell_type": "code",
      "source": [
        "p2=p1%*%P\n",
        "p2"
      ],
      "metadata": {
        "colab": {
          "base_uri": "https://localhost:8080/",
          "height": 83
        },
        "id": "k3ecXZ4IhNjl",
        "outputId": "ef0391f7-732f-4a30-a9d9-8f0aee5c8b7b"
      },
      "execution_count": null,
      "outputs": [
        {
          "output_type": "display_data",
          "data": {
            "text/html": [
              "<table class=\"dataframe\">\n",
              "<caption>A matrix: 1 × 3 of type dbl</caption>\n",
              "<tbody>\n",
              "\t<tr><td>0.363</td><td>0.287</td><td>0.35</td></tr>\n",
              "</tbody>\n",
              "</table>\n"
            ],
            "text/markdown": "\nA matrix: 1 × 3 of type dbl\n\n| 0.363 | 0.287 | 0.35 |\n\n",
            "text/latex": "A matrix: 1 × 3 of type dbl\n\\begin{tabular}{lll}\n\t 0.363 & 0.287 & 0.35\\\\\n\\end{tabular}\n",
            "text/plain": [
              "     [,1]  [,2]  [,3]\n",
              "[1,] 0.363 0.287 0.35"
            ]
          },
          "metadata": {}
        }
      ]
    },
    {
      "cell_type": "code",
      "source": [
        "P%^%2"
      ],
      "metadata": {
        "colab": {
          "base_uri": "https://localhost:8080/",
          "height": 146
        },
        "id": "dzMAjbMThRHy",
        "outputId": "6a5158cf-724a-4130-9937-5850c9755a2b"
      },
      "execution_count": null,
      "outputs": [
        {
          "output_type": "display_data",
          "data": {
            "text/html": [
              "<table class=\"dataframe\">\n",
              "<caption>A matrix: 3 × 3 of type dbl</caption>\n",
              "<tbody>\n",
              "\t<tr><td>0.44</td><td>0.26</td><td>0.30</td></tr>\n",
              "\t<tr><td>0.35</td><td>0.35</td><td>0.30</td></tr>\n",
              "\t<tr><td>0.19</td><td>0.26</td><td>0.55</td></tr>\n",
              "</tbody>\n",
              "</table>\n"
            ],
            "text/markdown": "\nA matrix: 3 × 3 of type dbl\n\n| 0.44 | 0.26 | 0.30 |\n| 0.35 | 0.35 | 0.30 |\n| 0.19 | 0.26 | 0.55 |\n\n",
            "text/latex": "A matrix: 3 × 3 of type dbl\n\\begin{tabular}{lll}\n\t 0.44 & 0.26 & 0.30\\\\\n\t 0.35 & 0.35 & 0.30\\\\\n\t 0.19 & 0.26 & 0.55\\\\\n\\end{tabular}\n",
            "text/plain": [
              "     [,1] [,2] [,3]\n",
              "[1,] 0.44 0.26 0.30\n",
              "[2,] 0.35 0.35 0.30\n",
              "[3,] 0.19 0.26 0.55"
            ]
          },
          "metadata": {}
        }
      ]
    },
    {
      "cell_type": "code",
      "source": [
        "p2=p0%*%(P%^%2)\n",
        "p2"
      ],
      "metadata": {
        "colab": {
          "base_uri": "https://localhost:8080/",
          "height": 83
        },
        "id": "k6pTwbxNhseZ",
        "outputId": "a407ceeb-607b-455d-e7fb-57e64064e697"
      },
      "execution_count": null,
      "outputs": [
        {
          "output_type": "display_data",
          "data": {
            "text/html": [
              "<table class=\"dataframe\">\n",
              "<caption>A matrix: 1 × 3 of type dbl</caption>\n",
              "<tbody>\n",
              "\t<tr><td>0.363</td><td>0.287</td><td>0.35</td></tr>\n",
              "</tbody>\n",
              "</table>\n"
            ],
            "text/markdown": "\nA matrix: 1 × 3 of type dbl\n\n| 0.363 | 0.287 | 0.35 |\n\n",
            "text/latex": "A matrix: 1 × 3 of type dbl\n\\begin{tabular}{lll}\n\t 0.363 & 0.287 & 0.35\\\\\n\\end{tabular}\n",
            "text/plain": [
              "     [,1]  [,2]  [,3]\n",
              "[1,] 0.363 0.287 0.35"
            ]
          },
          "metadata": {}
        }
      ]
    },
    {
      "cell_type": "code",
      "source": [
        "P=matrix(c(0.6,0.3,0.1,0.2,0.5,0.2,0.2,0.2,0.7),nrow=3,ncol=3)\n",
        "print(P)\n",
        "P2=P\n",
        "orden=dim(P2)\n",
        "I=diag(1,orden)\n",
        "PP=t(P2)-I\n",
        "b=matrix(0,orden[1],1)\n",
        "T=cbind(PP,b)\n",
        "T\n",
        "Aum=rbind(T,matrix(1,1,orden[1]+1))\n",
        "B=rref(Aum)\n",
        "B\n",
        "B2=B[1:orden[1],orden[1]+1]\n",
        "cat(\"Matriz estacionaria\\n\")\n",
        "print(B2)"
      ],
      "metadata": {
        "colab": {
          "base_uri": "https://localhost:8080/",
          "height": 416
        },
        "id": "6HRXTqLygEjh",
        "outputId": "e9df055c-ab06-40ae-c38e-14ff0db901b9"
      },
      "execution_count": null,
      "outputs": [
        {
          "output_type": "stream",
          "name": "stdout",
          "text": [
            "     [,1] [,2] [,3]\n",
            "[1,]  0.6  0.2  0.2\n",
            "[2,]  0.3  0.5  0.2\n",
            "[3,]  0.1  0.2  0.7\n"
          ]
        },
        {
          "output_type": "display_data",
          "data": {
            "text/html": [
              "<table class=\"dataframe\">\n",
              "<caption>A matrix: 3 × 4 of type dbl</caption>\n",
              "<tbody>\n",
              "\t<tr><td>-0.4</td><td> 0.3</td><td> 0.1</td><td>0</td></tr>\n",
              "\t<tr><td> 0.2</td><td>-0.5</td><td> 0.2</td><td>0</td></tr>\n",
              "\t<tr><td> 0.2</td><td> 0.2</td><td>-0.3</td><td>0</td></tr>\n",
              "</tbody>\n",
              "</table>\n"
            ],
            "text/markdown": "\nA matrix: 3 × 4 of type dbl\n\n| -0.4 |  0.3 |  0.1 | 0 |\n|  0.2 | -0.5 |  0.2 | 0 |\n|  0.2 |  0.2 | -0.3 | 0 |\n\n",
            "text/latex": "A matrix: 3 × 4 of type dbl\n\\begin{tabular}{llll}\n\t -0.4 &  0.3 &  0.1 & 0\\\\\n\t  0.2 & -0.5 &  0.2 & 0\\\\\n\t  0.2 &  0.2 & -0.3 & 0\\\\\n\\end{tabular}\n",
            "text/plain": [
              "     [,1] [,2] [,3] [,4]\n",
              "[1,] -0.4  0.3  0.1 0   \n",
              "[2,]  0.2 -0.5  0.2 0   \n",
              "[3,]  0.2  0.2 -0.3 0   "
            ]
          },
          "metadata": {}
        },
        {
          "output_type": "display_data",
          "data": {
            "text/html": [
              "<table class=\"dataframe\">\n",
              "<caption>A matrix: 4 × 4 of type dbl</caption>\n",
              "<tbody>\n",
              "\t<tr><td>1</td><td>0</td><td>0</td><td>0.3142857</td></tr>\n",
              "\t<tr><td>0</td><td>1</td><td>0</td><td>0.2857143</td></tr>\n",
              "\t<tr><td>0</td><td>0</td><td>1</td><td>0.4000000</td></tr>\n",
              "\t<tr><td>0</td><td>0</td><td>0</td><td>0.0000000</td></tr>\n",
              "</tbody>\n",
              "</table>\n"
            ],
            "text/markdown": "\nA matrix: 4 × 4 of type dbl\n\n| 1 | 0 | 0 | 0.3142857 |\n| 0 | 1 | 0 | 0.2857143 |\n| 0 | 0 | 1 | 0.4000000 |\n| 0 | 0 | 0 | 0.0000000 |\n\n",
            "text/latex": "A matrix: 4 × 4 of type dbl\n\\begin{tabular}{llll}\n\t 1 & 0 & 0 & 0.3142857\\\\\n\t 0 & 1 & 0 & 0.2857143\\\\\n\t 0 & 0 & 1 & 0.4000000\\\\\n\t 0 & 0 & 0 & 0.0000000\\\\\n\\end{tabular}\n",
            "text/plain": [
              "     [,1] [,2] [,3] [,4]     \n",
              "[1,] 1    0    0    0.3142857\n",
              "[2,] 0    1    0    0.2857143\n",
              "[3,] 0    0    1    0.4000000\n",
              "[4,] 0    0    0    0.0000000"
            ]
          },
          "metadata": {}
        },
        {
          "output_type": "stream",
          "name": "stdout",
          "text": [
            "Matriz estacionaria\n",
            "[1] 0.3142857 0.2857143 0.4000000\n"
          ]
        }
      ]
    },
    {
      "cell_type": "markdown",
      "source": [
        "### **AUTOVALORES Y AUTOVECTORES**"
      ],
      "metadata": {
        "id": "uduxSoCxWPUQ"
      }
    },
    {
      "cell_type": "code",
      "source": [
        "P=matrix(c(1/2,0,1/4,1/4,1,1/4,1/4,0,1/2),nrow=3,ncol=3)\n",
        "P"
      ],
      "metadata": {
        "colab": {
          "base_uri": "https://localhost:8080/",
          "height": 146
        },
        "id": "Wr1wgIZmWQdB",
        "outputId": "f9ad4c8f-d6dc-4445-cc36-0b7c2115cbab"
      },
      "execution_count": null,
      "outputs": [
        {
          "output_type": "display_data",
          "data": {
            "text/html": [
              "<table class=\"dataframe\">\n",
              "<caption>A matrix: 3 × 3 of type dbl</caption>\n",
              "<tbody>\n",
              "\t<tr><td>0.50</td><td>0.25</td><td>0.25</td></tr>\n",
              "\t<tr><td>0.00</td><td>1.00</td><td>0.00</td></tr>\n",
              "\t<tr><td>0.25</td><td>0.25</td><td>0.50</td></tr>\n",
              "</tbody>\n",
              "</table>\n"
            ],
            "text/markdown": "\nA matrix: 3 × 3 of type dbl\n\n| 0.50 | 0.25 | 0.25 |\n| 0.00 | 1.00 | 0.00 |\n| 0.25 | 0.25 | 0.50 |\n\n",
            "text/latex": "A matrix: 3 × 3 of type dbl\n\\begin{tabular}{lll}\n\t 0.50 & 0.25 & 0.25\\\\\n\t 0.00 & 1.00 & 0.00\\\\\n\t 0.25 & 0.25 & 0.50\\\\\n\\end{tabular}\n",
            "text/plain": [
              "     [,1] [,2] [,3]\n",
              "[1,] 0.50 0.25 0.25\n",
              "[2,] 0.00 1.00 0.00\n",
              "[3,] 0.25 0.25 0.50"
            ]
          },
          "metadata": {}
        }
      ]
    },
    {
      "cell_type": "code",
      "source": [
        "M=eigen(P)\n",
        "M"
      ],
      "metadata": {
        "colab": {
          "base_uri": "https://localhost:8080/",
          "height": 182
        },
        "id": "te8HRREtWQfx",
        "outputId": "6b11ebbf-a501-4d96-b2ac-5e0059f25986"
      },
      "execution_count": null,
      "outputs": [
        {
          "output_type": "display_data",
          "data": {
            "text/plain": [
              "eigen() decomposition\n",
              "$values\n",
              "[1] 1.00 0.75 0.25\n",
              "\n",
              "$vectors\n",
              "          [,1]      [,2]       [,3]\n",
              "[1,] 0.5773503 0.7071068 -0.7071068\n",
              "[2,] 0.5773503 0.0000000  0.0000000\n",
              "[3,] 0.5773503 0.7071068  0.7071068\n"
            ]
          },
          "metadata": {}
        }
      ]
    },
    {
      "cell_type": "code",
      "source": [
        "d=M$values\n",
        "d"
      ],
      "metadata": {
        "colab": {
          "base_uri": "https://localhost:8080/",
          "height": 34
        },
        "id": "dVIdUVDEWQjQ",
        "outputId": "115b83c4-bc3a-494a-b05a-2d7990579740"
      },
      "execution_count": null,
      "outputs": [
        {
          "output_type": "display_data",
          "data": {
            "text/html": [
              "<style>\n",
              ".list-inline {list-style: none; margin:0; padding: 0}\n",
              ".list-inline>li {display: inline-block}\n",
              ".list-inline>li:not(:last-child)::after {content: \"\\00b7\"; padding: 0 .5ex}\n",
              "</style>\n",
              "<ol class=list-inline><li>1</li><li>0.75</li><li>0.25</li></ol>\n"
            ],
            "text/markdown": "1. 1\n2. 0.75\n3. 0.25\n\n\n",
            "text/latex": "\\begin{enumerate*}\n\\item 1\n\\item 0.75\n\\item 0.25\n\\end{enumerate*}\n",
            "text/plain": [
              "[1] 1.00 0.75 0.25"
            ]
          },
          "metadata": {}
        }
      ]
    },
    {
      "cell_type": "code",
      "source": [
        "d=c(1,0.25,0.75)\n",
        "d"
      ],
      "metadata": {
        "colab": {
          "base_uri": "https://localhost:8080/",
          "height": 34
        },
        "id": "IGGhzJJsXuP3",
        "outputId": "f3f9b64b-9477-4bfd-b210-ec009bff1acf"
      },
      "execution_count": null,
      "outputs": [
        {
          "output_type": "display_data",
          "data": {
            "text/html": [
              "<style>\n",
              ".list-inline {list-style: none; margin:0; padding: 0}\n",
              ".list-inline>li {display: inline-block}\n",
              ".list-inline>li:not(:last-child)::after {content: \"\\00b7\"; padding: 0 .5ex}\n",
              "</style>\n",
              "<ol class=list-inline><li>1</li><li>0.25</li><li>0.75</li></ol>\n"
            ],
            "text/markdown": "1. 1\n2. 0.25\n3. 0.75\n\n\n",
            "text/latex": "\\begin{enumerate*}\n\\item 1\n\\item 0.25\n\\item 0.75\n\\end{enumerate*}\n",
            "text/plain": [
              "[1] 1.00 0.25 0.75"
            ]
          },
          "metadata": {}
        }
      ]
    },
    {
      "cell_type": "code",
      "source": [
        "D=diag(d)\n",
        "D"
      ],
      "metadata": {
        "colab": {
          "base_uri": "https://localhost:8080/",
          "height": 146
        },
        "id": "SXufo0HPW4mD",
        "outputId": "9c351262-f147-40f3-d14e-60a2c947b1e9"
      },
      "execution_count": null,
      "outputs": [
        {
          "output_type": "display_data",
          "data": {
            "text/html": [
              "<table class=\"dataframe\">\n",
              "<caption>A matrix: 3 × 3 of type dbl</caption>\n",
              "<tbody>\n",
              "\t<tr><td>1</td><td>0.00</td><td>0.00</td></tr>\n",
              "\t<tr><td>0</td><td>0.25</td><td>0.00</td></tr>\n",
              "\t<tr><td>0</td><td>0.00</td><td>0.75</td></tr>\n",
              "</tbody>\n",
              "</table>\n"
            ],
            "text/markdown": "\nA matrix: 3 × 3 of type dbl\n\n| 1 | 0.00 | 0.00 |\n| 0 | 0.25 | 0.00 |\n| 0 | 0.00 | 0.75 |\n\n",
            "text/latex": "A matrix: 3 × 3 of type dbl\n\\begin{tabular}{lll}\n\t 1 & 0.00 & 0.00\\\\\n\t 0 & 0.25 & 0.00\\\\\n\t 0 & 0.00 & 0.75\\\\\n\\end{tabular}\n",
            "text/plain": [
              "     [,1] [,2] [,3]\n",
              "[1,] 1    0.00 0.00\n",
              "[2,] 0    0.25 0.00\n",
              "[3,] 0    0.00 0.75"
            ]
          },
          "metadata": {}
        }
      ]
    },
    {
      "cell_type": "code",
      "source": [
        "C=M$vectors\n",
        "C"
      ],
      "metadata": {
        "colab": {
          "base_uri": "https://localhost:8080/",
          "height": 128
        },
        "id": "--WIKTy_W4ol",
        "outputId": "2013bf7d-f710-47cc-de04-d123a1f5bbf5"
      },
      "execution_count": null,
      "outputs": [
        {
          "output_type": "display_data",
          "data": {
            "text/html": [
              "<table class=\"dataframe\">\n",
              "<caption>A matrix: 3 × 3 of type dbl</caption>\n",
              "<tbody>\n",
              "\t<tr><td>0.5773503</td><td>0.7071068</td><td>-0.7071068</td></tr>\n",
              "\t<tr><td>0.5773503</td><td>0.0000000</td><td> 0.0000000</td></tr>\n",
              "\t<tr><td>0.5773503</td><td>0.7071068</td><td> 0.7071068</td></tr>\n",
              "</tbody>\n",
              "</table>\n"
            ],
            "text/markdown": "\nA matrix: 3 × 3 of type dbl\n\n| 0.5773503 | 0.7071068 | -0.7071068 |\n| 0.5773503 | 0.0000000 |  0.0000000 |\n| 0.5773503 | 0.7071068 |  0.7071068 |\n\n",
            "text/latex": "A matrix: 3 × 3 of type dbl\n\\begin{tabular}{lll}\n\t 0.5773503 & 0.7071068 & -0.7071068\\\\\n\t 0.5773503 & 0.0000000 &  0.0000000\\\\\n\t 0.5773503 & 0.7071068 &  0.7071068\\\\\n\\end{tabular}\n",
            "text/plain": [
              "     [,1]      [,2]      [,3]      \n",
              "[1,] 0.5773503 0.7071068 -0.7071068\n",
              "[2,] 0.5773503 0.0000000  0.0000000\n",
              "[3,] 0.5773503 0.7071068  0.7071068"
            ]
          },
          "metadata": {}
        }
      ]
    },
    {
      "cell_type": "code",
      "source": [
        "C[,2]"
      ],
      "metadata": {
        "colab": {
          "base_uri": "https://localhost:8080/",
          "height": 34
        },
        "id": "Mxqr6Q8tX2HA",
        "outputId": "d64a6e3e-055a-4513-c028-3d917f62fbaf"
      },
      "execution_count": null,
      "outputs": [
        {
          "output_type": "display_data",
          "data": {
            "text/html": [
              "<style>\n",
              ".list-inline {list-style: none; margin:0; padding: 0}\n",
              ".list-inline>li {display: inline-block}\n",
              ".list-inline>li:not(:last-child)::after {content: \"\\00b7\"; padding: 0 .5ex}\n",
              "</style>\n",
              "<ol class=list-inline><li>0.707106781186547</li><li>0</li><li>0.707106781186547</li></ol>\n"
            ],
            "text/markdown": "1. 0.707106781186547\n2. 0\n3. 0.707106781186547\n\n\n",
            "text/latex": "\\begin{enumerate*}\n\\item 0.707106781186547\n\\item 0\n\\item 0.707106781186547\n\\end{enumerate*}\n",
            "text/plain": [
              "[1] 0.7071068 0.0000000 0.7071068"
            ]
          },
          "metadata": {}
        }
      ]
    },
    {
      "cell_type": "code",
      "source": [
        "C1=cbind(C[,1],C[,3],C[,2])\n",
        "C1"
      ],
      "metadata": {
        "colab": {
          "base_uri": "https://localhost:8080/",
          "height": 128
        },
        "id": "QzPiMNPjYAYA",
        "outputId": "4f87d6e1-e282-4d7a-ec06-92c3df402d15"
      },
      "execution_count": null,
      "outputs": [
        {
          "output_type": "display_data",
          "data": {
            "text/html": [
              "<table class=\"dataframe\">\n",
              "<caption>A matrix: 3 × 3 of type dbl</caption>\n",
              "<tbody>\n",
              "\t<tr><td>0.5773503</td><td>-0.7071068</td><td>0.7071068</td></tr>\n",
              "\t<tr><td>0.5773503</td><td> 0.0000000</td><td>0.0000000</td></tr>\n",
              "\t<tr><td>0.5773503</td><td> 0.7071068</td><td>0.7071068</td></tr>\n",
              "</tbody>\n",
              "</table>\n"
            ],
            "text/markdown": "\nA matrix: 3 × 3 of type dbl\n\n| 0.5773503 | -0.7071068 | 0.7071068 |\n| 0.5773503 |  0.0000000 | 0.0000000 |\n| 0.5773503 |  0.7071068 | 0.7071068 |\n\n",
            "text/latex": "A matrix: 3 × 3 of type dbl\n\\begin{tabular}{lll}\n\t 0.5773503 & -0.7071068 & 0.7071068\\\\\n\t 0.5773503 &  0.0000000 & 0.0000000\\\\\n\t 0.5773503 &  0.7071068 & 0.7071068\\\\\n\\end{tabular}\n",
            "text/plain": [
              "     [,1]      [,2]       [,3]     \n",
              "[1,] 0.5773503 -0.7071068 0.7071068\n",
              "[2,] 0.5773503  0.0000000 0.0000000\n",
              "[3,] 0.5773503  0.7071068 0.7071068"
            ]
          },
          "metadata": {}
        }
      ]
    },
    {
      "cell_type": "code",
      "source": [
        "C1inv=solve(C1)\n",
        "C1inv"
      ],
      "metadata": {
        "colab": {
          "base_uri": "https://localhost:8080/",
          "height": 128
        },
        "id": "DrlBYHSbW4q9",
        "outputId": "a17586b9-1472-4fa9-925e-e54c2e19273d"
      },
      "execution_count": null,
      "outputs": [
        {
          "output_type": "display_data",
          "data": {
            "text/html": [
              "<table class=\"dataframe\">\n",
              "<caption>A matrix: 3 × 3 of type dbl</caption>\n",
              "<tbody>\n",
              "\t<tr><td> 0.0000000</td><td> 1.732051</td><td>0.0000000</td></tr>\n",
              "\t<tr><td>-0.7071068</td><td> 0.000000</td><td>0.7071068</td></tr>\n",
              "\t<tr><td> 0.7071068</td><td>-1.414214</td><td>0.7071068</td></tr>\n",
              "</tbody>\n",
              "</table>\n"
            ],
            "text/markdown": "\nA matrix: 3 × 3 of type dbl\n\n|  0.0000000 |  1.732051 | 0.0000000 |\n| -0.7071068 |  0.000000 | 0.7071068 |\n|  0.7071068 | -1.414214 | 0.7071068 |\n\n",
            "text/latex": "A matrix: 3 × 3 of type dbl\n\\begin{tabular}{lll}\n\t  0.0000000 &  1.732051 & 0.0000000\\\\\n\t -0.7071068 &  0.000000 & 0.7071068\\\\\n\t  0.7071068 & -1.414214 & 0.7071068\\\\\n\\end{tabular}\n",
            "text/plain": [
              "     [,1]       [,2]      [,3]     \n",
              "[1,]  0.0000000  1.732051 0.0000000\n",
              "[2,] -0.7071068  0.000000 0.7071068\n",
              "[3,]  0.7071068 -1.414214 0.7071068"
            ]
          },
          "metadata": {}
        }
      ]
    },
    {
      "cell_type": "code",
      "source": [
        "(C1%*%D)%*%C1inv"
      ],
      "metadata": {
        "colab": {
          "base_uri": "https://localhost:8080/",
          "height": 146
        },
        "id": "BgW2jI0ZXVZv",
        "outputId": "f6d0a72a-3b54-433b-a9ed-35462b987629"
      },
      "execution_count": null,
      "outputs": [
        {
          "output_type": "display_data",
          "data": {
            "text/html": [
              "<table class=\"dataframe\">\n",
              "<caption>A matrix: 3 × 3 of type dbl</caption>\n",
              "<tbody>\n",
              "\t<tr><td>0.50</td><td>0.25</td><td>0.25</td></tr>\n",
              "\t<tr><td>0.00</td><td>1.00</td><td>0.00</td></tr>\n",
              "\t<tr><td>0.25</td><td>0.25</td><td>0.50</td></tr>\n",
              "</tbody>\n",
              "</table>\n"
            ],
            "text/markdown": "\nA matrix: 3 × 3 of type dbl\n\n| 0.50 | 0.25 | 0.25 |\n| 0.00 | 1.00 | 0.00 |\n| 0.25 | 0.25 | 0.50 |\n\n",
            "text/latex": "A matrix: 3 × 3 of type dbl\n\\begin{tabular}{lll}\n\t 0.50 & 0.25 & 0.25\\\\\n\t 0.00 & 1.00 & 0.00\\\\\n\t 0.25 & 0.25 & 0.50\\\\\n\\end{tabular}\n",
            "text/plain": [
              "     [,1] [,2] [,3]\n",
              "[1,] 0.50 0.25 0.25\n",
              "[2,] 0.00 1.00 0.00\n",
              "[3,] 0.25 0.25 0.50"
            ]
          },
          "metadata": {}
        }
      ]
    },
    {
      "cell_type": "code",
      "source": [
        "Dk=matrix(c(1,0,0,0,0,0,0,0,0),nrow=3,ncol=3)\n",
        "Dk"
      ],
      "metadata": {
        "colab": {
          "base_uri": "https://localhost:8080/",
          "height": 163
        },
        "id": "ZsKRZuZlZxvU",
        "outputId": "dab53416-c5f6-4f8d-a091-9f4f5d994b1c"
      },
      "execution_count": null,
      "outputs": [
        {
          "output_type": "display_data",
          "data": {
            "text/html": [
              "<table class=\"dataframe\">\n",
              "<caption>A matrix: 3 × 3 of type dbl</caption>\n",
              "<tbody>\n",
              "\t<tr><td>1</td><td>0</td><td>0</td></tr>\n",
              "\t<tr><td>0</td><td>0</td><td>0</td></tr>\n",
              "\t<tr><td>0</td><td>0</td><td>0</td></tr>\n",
              "</tbody>\n",
              "</table>\n"
            ],
            "text/markdown": "\nA matrix: 3 × 3 of type dbl\n\n| 1 | 0 | 0 |\n| 0 | 0 | 0 |\n| 0 | 0 | 0 |\n\n",
            "text/latex": "A matrix: 3 × 3 of type dbl\n\\begin{tabular}{lll}\n\t 1 & 0 & 0\\\\\n\t 0 & 0 & 0\\\\\n\t 0 & 0 & 0\\\\\n\\end{tabular}\n",
            "text/plain": [
              "     [,1] [,2] [,3]\n",
              "[1,] 1    0    0   \n",
              "[2,] 0    0    0   \n",
              "[3,] 0    0    0   "
            ]
          },
          "metadata": {}
        }
      ]
    },
    {
      "cell_type": "code",
      "source": [
        "Pb=(C1%*%Dk)%*%C1inv\n",
        "Pb"
      ],
      "metadata": {
        "colab": {
          "base_uri": "https://localhost:8080/",
          "height": 163
        },
        "id": "xDR9DVSAZ-Rx",
        "outputId": "2e4b8ba0-6559-49f0-e25c-96f903aeef46"
      },
      "execution_count": null,
      "outputs": [
        {
          "output_type": "display_data",
          "data": {
            "text/html": [
              "<table class=\"dataframe\">\n",
              "<caption>A matrix: 3 × 3 of type dbl</caption>\n",
              "<tbody>\n",
              "\t<tr><td>0</td><td>1</td><td>0</td></tr>\n",
              "\t<tr><td>0</td><td>1</td><td>0</td></tr>\n",
              "\t<tr><td>0</td><td>1</td><td>0</td></tr>\n",
              "</tbody>\n",
              "</table>\n"
            ],
            "text/markdown": "\nA matrix: 3 × 3 of type dbl\n\n| 0 | 1 | 0 |\n| 0 | 1 | 0 |\n| 0 | 1 | 0 |\n\n",
            "text/latex": "A matrix: 3 × 3 of type dbl\n\\begin{tabular}{lll}\n\t 0 & 1 & 0\\\\\n\t 0 & 1 & 0\\\\\n\t 0 & 1 & 0\\\\\n\\end{tabular}\n",
            "text/plain": [
              "     [,1] [,2] [,3]\n",
              "[1,] 0    1    0   \n",
              "[2,] 0    1    0   \n",
              "[3,] 0    1    0   "
            ]
          },
          "metadata": {}
        }
      ]
    }
  ]
}