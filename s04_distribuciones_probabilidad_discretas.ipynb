{
  "nbformat": 4,
  "nbformat_minor": 0,
  "metadata": {
    "colab": {
      "provenance": [],
      "collapsed_sections": [
        "KxtOCP5FeSt5",
        "WJx8-8pbij3S",
        "PbF96bNzjq0y"
      ]
    },
    "kernelspec": {
      "name": "ir",
      "display_name": "R"
    },
    "language_info": {
      "name": "R"
    }
  },
  "cells": [
    {
      "cell_type": "markdown",
      "metadata": {
        "id": "vomlElLn_3wN"
      },
      "source": [
        "<img src=\"https://drive.google.com/uc?export=view&id=1QyjJW7NL2WDfnVZ0_MqAfH6Slkal1DJA\" width=\"150\">\n",
        "\n",
        "$\\tiny{Universidad \\ Nacional \\ de \\ San \\ Agustín \\ de \\ Arequipa \\\\\n",
        "Ciencia \\ de \\ la \\ Computación \\ UNSA}$\n",
        "\n",
        "\n",
        "---\n"
      ]
    },
    {
      "cell_type": "markdown",
      "metadata": {
        "id": "9U76Npw94f8o"
      },
      "source": [
        "# <center>  $Capítulo \\ 2$\n",
        "### <center> $Distribuciones \\ de \\ probabilidad$\n",
        "\n"
      ]
    },
    {
      "cell_type": "markdown",
      "metadata": {
        "id": "joWSfRnt43xr"
      },
      "source": [
        "**Sesión de Laboratorio 03** : Distribuciones de probabilidad discretas\n",
        "\n",
        "\n",
        "**Profesor:** ......................................\n",
        "\n",
        "**Estudiante** .........................................\n",
        "\n",
        "---\n",
        "\n",
        "\n"
      ]
    },
    {
      "cell_type": "markdown",
      "metadata": {
        "id": "KxtOCP5FeSt5"
      },
      "source": [
        "# **Variable aleatoria discreta**\n",
        "\n",
        "Es una variable cuyo rango es un conjunto numerable\n",
        "\n",
        "\n",
        "# **Esperanza Matematica**\n",
        "\n",
        "\n",
        "$$\\mu=E(X)=\\displaystyle\\sum_{x_i\\in R_x}x_if (x_i )$$\n",
        "\n",
        "# **Varianza**\n",
        "\n",
        "\n",
        "$$\\sigma^2=V(X)=\\displaystyle\\sum_{x_i\\in R_x}(x_i-\\mu)^2f (x_i )$$\n",
        "\n",
        "# **Distribución de probabilidad para una variable aleatoria discreta**\n",
        "\n",
        "Si $X$ es una variable aleatoria discreta, su función de probabilidad\n",
        "$f (x_i) =P[ X=x_i ]$  debe verificar las siguientes condiciones\n",
        "\n",
        "a)\t$f (x_i)\\geq  0  \\        \\forall x_i \\in R_x$\n",
        "\n",
        "b)\t$ \\displaystyle\\sum_{x_i\\in R_x}f (x_i ) =1 $   , con   $x_i \\in R_x$\n",
        "\n"
      ]
    },
    {
      "cell_type": "markdown",
      "metadata": {
        "id": "WJx8-8pbij3S"
      },
      "source": [
        "# **Nombres de las distribuciones de Probabilidad en R**\n",
        "\n",
        "Cada distribución de probabilidad tiene un nombre asociado a un comando en el lenguaje R\n",
        "\n",
        "## **Distribuciones Discretas en R**\n",
        "\n",
        "|$Distribución$|$Nombre \\ en \\ R$|\n",
        "|:--|:--|\n",
        "|$Binomial$|$binom$|\n",
        "|$Poisson$|$pois$|\n",
        "|$Geométrica$|$geom$|\n",
        "|$Hipergeométrica$|$hyper$|\n",
        "|$Binomial \\ negativa$|$nbinom$|\n",
        "\n",
        "Para cada distribución, R dispone de cuatro funciones. Se puede acceder a cada una de ellas simplemente precediendo el nombre de la distribución en cada una de las tablas anteriores por la letra que se indica a continuación:\n",
        "\n",
        "- **d:** función de densidad o de probabilidad.\n",
        "\n",
        "- **p:** función de distribución\n",
        "\n",
        "- **q:** función para el cálculo de cuantiles.\n",
        "\n",
        "- **r:** función para simular datos con dicha distribución\n"
      ]
    },
    {
      "cell_type": "markdown",
      "metadata": {
        "id": "PbF96bNzjq0y"
      },
      "source": [
        "# **Distribucion Binomial**\n",
        "\n",
        "\\begin{equation}\n",
        "f(x)= P[X=x]={n \\choose x} p^xq^{n-x}\\ con\\ x=0,1,2,3,...,n\n",
        "\\end{equation}\n",
        "\n",
        "\n",
        "  - $p$ es la probabilidad de éxito\n",
        "  - $q$ es la probabilidad de fracaso ($q=1- p$)      \n",
        "  - $n$ numero de ensayos  \n",
        "\n",
        "Además\n",
        "\n",
        "\n",
        "$\\mu=E(X)=np$\n",
        "\n",
        "$\\sigma^2=Var(X)=npq$\n",
        "\n",
        "Para representar que una variable aleatoria $X$ sigue una distribución binomial de parámetros $n$ y $p$, se denota:\n",
        "\n",
        "\\begin{equation}\n",
        "X  \\thicksim B(n,p)\n",
        "\\end{equation}"
      ]
    },
    {
      "cell_type": "markdown",
      "metadata": {
        "id": "UL3WrCs-j9_K"
      },
      "source": [
        "# **Distribucion de Poisson**\n",
        "\n",
        "\\begin{equation}\n",
        "f(x)=P[X=x]=  \\frac{\\lambda^xe^{-\\lambda}}{x!}, x=0,1,2,3,...\n",
        "\\end{equation}\n",
        "\n",
        "Donde       $f(x)$  es la probabilidad de $x$ ocurrencias en un intervalo,   $\\lambda$   es el valor esperado o cantidad promedio de ocurrencias\n",
        "\n",
        "\n",
        "$\\mu=E(X)=\\lambda$\n",
        "\n",
        "$\\sigma^2=Var(X)=\\lambda$\n",
        "\n",
        "\n",
        "Para representar que una variable aleatoria $X$ sigue una distribución de Poisson de parámetro $\\lambda$, se denota:\n",
        "\n",
        "\\begin{equation}\n",
        "X  \\thicksim P(\\lambda)\n",
        "\\end{equation}\n"
      ]
    },
    {
      "cell_type": "markdown",
      "metadata": {
        "id": "Z8laqveSjGei"
      },
      "source": [
        "***"
      ]
    },
    {
      "cell_type": "markdown",
      "metadata": {
        "id": "kEK1AfTdjIXa"
      },
      "source": [
        "# **Variable aleatoria**\n",
        "\n"
      ]
    },
    {
      "cell_type": "code",
      "metadata": {
        "id": "-eOa7TLYjDF5"
      },
      "source": [
        "xi=c(0,10,100,500)\n",
        "pxi=c(0.45,0.30,0.20,0.05)"
      ],
      "execution_count": null,
      "outputs": []
    },
    {
      "cell_type": "code",
      "metadata": {
        "colab": {
          "base_uri": "https://localhost:8080/",
          "height": 34
        },
        "id": "L6xbKVfNjVjb",
        "outputId": "134ce7ac-4f3a-46aa-8224-4eee6f504670"
      },
      "source": [
        "Ex=sum(xi*pxi)\n",
        "Ex"
      ],
      "execution_count": null,
      "outputs": [
        {
          "output_type": "display_data",
          "data": {
            "text/plain": [
              "[1] 48"
            ],
            "text/latex": "48",
            "text/markdown": "48",
            "text/html": [
              "48"
            ]
          },
          "metadata": {}
        }
      ]
    },
    {
      "cell_type": "code",
      "metadata": {
        "colab": {
          "base_uri": "https://localhost:8080/",
          "height": 34
        },
        "id": "8s7aZrCsjYIK",
        "outputId": "ac597893-50bc-4b54-97be-4aee7007bab6"
      },
      "source": [
        "Vx=sum((xi-Ex)^2*pxi)\n",
        "Vx"
      ],
      "execution_count": null,
      "outputs": [
        {
          "output_type": "display_data",
          "data": {
            "text/plain": [
              "[1] 12226"
            ],
            "text/latex": "12226",
            "text/markdown": "12226",
            "text/html": [
              "12226"
            ]
          },
          "metadata": {}
        }
      ]
    },
    {
      "cell_type": "code",
      "metadata": {
        "colab": {
          "base_uri": "https://localhost:8080/",
          "height": 34
        },
        "id": "NGQkzQstjb3d",
        "outputId": "257568aa-1697-4032-e517-f4e0837b062e"
      },
      "source": [
        "Dx=sqrt(Vx)\n",
        "Dx"
      ],
      "execution_count": null,
      "outputs": [
        {
          "output_type": "display_data",
          "data": {
            "text/plain": [
              "[1] 110.5712"
            ],
            "text/latex": "110.571244001323",
            "text/markdown": "110.571244001323",
            "text/html": [
              "110.571244001323"
            ]
          },
          "metadata": {}
        }
      ]
    },
    {
      "cell_type": "code",
      "metadata": {
        "colab": {
          "base_uri": "https://localhost:8080/",
          "height": 437
        },
        "id": "zqCZvg8HjfOa",
        "outputId": "2e0b2630-67b6-4cee-e8dd-9cc09f4cf9aa"
      },
      "source": [
        "plot(xi,pxi,type=\"h\")"
      ],
      "execution_count": null,
      "outputs": [
        {
          "output_type": "display_data",
          "data": {
            "text/plain": [
              "plot without title"
            ],
            "image/png": "[encoded data removed]"
          },
          "metadata": {
            "image/png": {
              "width": 420,
              "height": 420
            }
          }
        }
      ]
    },
    {
      "cell_type": "code",
      "source": [
        "plot(xi,pxi,type=\"h\")\n",
        "points(xi,pxi,col=\"black\",pch=21,lwd=2,cex=2,bg=\"gold\")\n",
        "grid()"
      ],
      "metadata": {
        "colab": {
          "base_uri": "https://localhost:8080/",
          "height": 437
        },
        "id": "FqP121XS7ypv",
        "outputId": "3796eb41-f63c-4291-87c2-575a59f3f3cd"
      },
      "execution_count": null,
      "outputs": [
        {
          "output_type": "display_data",
          "data": {
            "text/plain": [
              "plot without title"
            ],
            "image/png": "[encoded data removed]"
          },
          "metadata": {
            "image/png": {
              "width": 420,
              "height": 420
            }
          }
        }
      ]
    },
    {
      "cell_type": "markdown",
      "source": [
        "**Ejemplo** Todos los días, la cantidad de apagones en la red tiene una distribución\n",
        "\n",
        "x 0 1 2\n",
        "f(x) 0.7 0.2 0.1\n",
        "\n",
        "\n",
        "Una pequeña empresa de comercio de Internet estima que cada apagón de la red genera una pérdida de $500. pérdida. Calcule la esperanza y la varianza de las pérdidas diarias de esta empresa debido a apagones"
      ],
      "metadata": {
        "id": "eQg5iy619Byl"
      }
    },
    {
      "cell_type": "code",
      "source": [],
      "metadata": {
        "id": "BamlmXF-9B_Q"
      },
      "execution_count": null,
      "outputs": []
    },
    {
      "cell_type": "markdown",
      "metadata": {
        "id": "m7uJI8LGjhki"
      },
      "source": [
        "# **Distribucion Binomial**"
      ]
    },
    {
      "cell_type": "markdown",
      "source": [
        "**Ejemplo**\n",
        "Un fabricante de marcos para ventanas sabe, con base a su larga experiencia, que el 5% de su producción tendrá algún pequeño defecto que requerirá ajuste. ¿Cuál es la probabilidad de que, en una muestra de 20 marcos?\n",
        "\n",
        "a.\tNinguno requiera ajuste\n",
        "\n",
        "b.\tAl menos uno requiera ajuste\n",
        "\n",
        "c.\tMás de dos requieran ajuste\n",
        "\n",
        "**Solución:**\n",
        "\n",
        "\\begin{equation}\n",
        "f(x)= P[X=x]={20 \\choose x} 0.05^x0.95^{20-x}\\ con\\ x=0,1,2,3,...,20\n",
        "\\end{equation}\n",
        "\n",
        "\n",
        "\\begin{equation}\n",
        "X  \\thicksim Bin(20,0.05)\n",
        "\\end{equation}\n"
      ],
      "metadata": {
        "id": "ZJ73J0iiOlwc"
      }
    },
    {
      "cell_type": "markdown",
      "source": [
        "a) $P[X=0]=?$\n",
        "\n",
        "$$dbinom(x,n,p)$$\n",
        "\n",
        "$P[X=0]=0.3585$"
      ],
      "metadata": {
        "id": "WA57b0XeOsrV"
      }
    },
    {
      "cell_type": "code",
      "metadata": {
        "id": "VVQH9Bn3kNC6",
        "colab": {
          "base_uri": "https://localhost:8080/",
          "height": 34
        },
        "outputId": "1fa218f1-76e7-4149-8989-e40408f4d4b8"
      },
      "source": [
        "dbinom(0,20,0.05)"
      ],
      "execution_count": null,
      "outputs": [
        {
          "output_type": "display_data",
          "data": {
            "text/plain": [
              "[1] 0.3584859"
            ],
            "text/latex": "0.358485922408542",
            "text/markdown": "0.358485922408542",
            "text/html": [
              "0.358485922408542"
            ]
          },
          "metadata": {}
        }
      ]
    },
    {
      "cell_type": "markdown",
      "source": [
        "b) $P[X \\geq 1]=?$\n",
        "\n",
        "$P[X \\geq 1]=1-P[X=0]=1-0.3585=0.6415$"
      ],
      "metadata": {
        "id": "CCT65W8rO1Y1"
      }
    },
    {
      "cell_type": "code",
      "source": [
        "1-dbinom(0,20,0.05)"
      ],
      "metadata": {
        "colab": {
          "base_uri": "https://localhost:8080/",
          "height": 34
        },
        "id": "UykTCJRNO52u",
        "outputId": "58908c14-d731-4a98-e537-fe54d7069fc5"
      },
      "execution_count": null,
      "outputs": [
        {
          "output_type": "display_data",
          "data": {
            "text/plain": [
              "[1] 0.6415141"
            ],
            "text/latex": "0.641514077591458",
            "text/markdown": "0.641514077591458",
            "text/html": [
              "0.641514077591458"
            ]
          },
          "metadata": {}
        }
      ]
    },
    {
      "cell_type": "markdown",
      "source": [
        "c) $P[X>2]=?$\n",
        "\n",
        "$P[X>2]=1-P[X\\leq 2]=0.0755$\n",
        "\n",
        "$$pbinom(x,n,p)$$"
      ],
      "metadata": {
        "id": "646OY0eYO9b9"
      }
    },
    {
      "cell_type": "code",
      "source": [
        "1-pbinom(2,20,0.05)"
      ],
      "metadata": {
        "colab": {
          "base_uri": "https://localhost:8080/",
          "height": 34
        },
        "id": "63rNlKyMPBUF",
        "outputId": "826f3414-c972-4160-c401-23dd4ff75198"
      },
      "execution_count": null,
      "outputs": [
        {
          "output_type": "display_data",
          "data": {
            "text/plain": [
              "[1] 0.07548367"
            ],
            "text/latex": "0.0754836737884963",
            "text/markdown": "0.0754836737884963",
            "text/html": [
              "0.0754836737884963"
            ]
          },
          "metadata": {}
        }
      ]
    },
    {
      "cell_type": "markdown",
      "source": [
        "**Ejemplo:** El $90\\%$ de los tubos de ensayo soportan temperatura mayor de $80^oC$, suponga que $10$ de estos tubos se someten a una prueba  a temperaturas mayores de $80^oC$. Determine la probabilidad que tres de estos tubos queden inutilizables\n",
        "\n",
        "**Solución:**\n",
        "\n",
        "\n",
        "\\begin{equation}\n",
        "f(x)= P[X=x]={10 \\choose x} 0.1^x0.9^{10-x}\\ con\\ x=0,1,2,3,...,10\n",
        "\\end{equation}\n",
        "\n",
        "\n",
        "\\begin{equation}\n",
        "X  \\thicksim B(10,0.1)\n",
        "\\end{equation}"
      ],
      "metadata": {
        "id": "spO-9KyZPGw1"
      }
    },
    {
      "cell_type": "markdown",
      "source": [
        "$P[X=3]=?$\n",
        "\n",
        "$P[X=3]=0.057395628$"
      ],
      "metadata": {
        "id": "SudoBAkKPKeF"
      }
    },
    {
      "cell_type": "code",
      "source": [
        "dbinom(3,10,0.1)"
      ],
      "metadata": {
        "colab": {
          "base_uri": "https://localhost:8080/",
          "height": 34
        },
        "id": "6KuG5tHxPNgG",
        "outputId": "9ce247a0-fe9c-43c5-9645-d3588dd9517c"
      },
      "execution_count": null,
      "outputs": [
        {
          "output_type": "display_data",
          "data": {
            "text/plain": [
              "[1] 0.05739563"
            ],
            "text/latex": "0.057395628",
            "text/markdown": "0.057395628",
            "text/html": [
              "0.057395628"
            ]
          },
          "metadata": {}
        }
      ]
    },
    {
      "cell_type": "markdown",
      "source": [
        "**Ejemplo**\n",
        "\n",
        "Se tiene un experimento binomial con $n=12$ y $p=0.6$\n",
        "Determine lo indicado y compare sus respuestas usando la grafica proporcionada de esta función de distribución\n",
        "\n",
        "a) f(8)                            \n",
        "\n",
        "b) P[ X = 6 ]\n",
        "\n",
        "c) P[X ≥ 3]\n",
        "\n",
        "d) P[9 < X ≤ 11]\n",
        "\n",
        "e) P[X ≤ 2]\n",
        "\n",
        "f) E(X) , Var(X) y $\\sigma$\n",
        "\n",
        "Graficar la función\n"
      ],
      "metadata": {
        "id": "ybdp9L5OPRvc"
      }
    },
    {
      "cell_type": "markdown",
      "source": [
        "a)  f(8)"
      ],
      "metadata": {
        "id": "QObPX2x6PWM1"
      }
    },
    {
      "cell_type": "code",
      "source": [
        "dbinom(8,12,0.6)"
      ],
      "metadata": {
        "colab": {
          "base_uri": "https://localhost:8080/",
          "height": 34
        },
        "id": "QK9bxV17PXGN",
        "outputId": "a29d561f-a5e9-4b9c-9271-747d29348a2f"
      },
      "execution_count": null,
      "outputs": [
        {
          "output_type": "display_data",
          "data": {
            "text/plain": [
              "[1] 0.2128409"
            ],
            "text/latex": "0.21284093952",
            "text/markdown": "0.21284093952",
            "text/html": [
              "0.21284093952"
            ]
          },
          "metadata": {}
        }
      ]
    },
    {
      "cell_type": "markdown",
      "source": [
        "b) P[X=6]"
      ],
      "metadata": {
        "id": "VTY8kcdmPcWd"
      }
    },
    {
      "cell_type": "code",
      "source": [
        "dbinom(6,12,0.6)"
      ],
      "metadata": {
        "colab": {
          "base_uri": "https://localhost:8080/",
          "height": 34
        },
        "id": "zHGFJ8wDPddd",
        "outputId": "93f3bd97-ce21-441d-9be1-101c84b0df11"
      },
      "execution_count": null,
      "outputs": [
        {
          "output_type": "display_data",
          "data": {
            "text/plain": [
              "[1] 0.1765791"
            ],
            "text/latex": "0.176579149824",
            "text/markdown": "0.176579149824",
            "text/html": [
              "0.176579149824"
            ]
          },
          "metadata": {}
        }
      ]
    },
    {
      "cell_type": "markdown",
      "source": [
        "c) $P[X \\geq 3]=1-P[X<3]=1-P[X \\leq 2]$"
      ],
      "metadata": {
        "id": "qkzoK3X4PiZ1"
      }
    },
    {
      "cell_type": "code",
      "source": [
        "1-pbinom(2,12,0.6)"
      ],
      "metadata": {
        "colab": {
          "base_uri": "https://localhost:8080/",
          "height": 34
        },
        "id": "Mc1osYqpPqwu",
        "outputId": "17a648a9-839e-48d3-c8f8-37456864b439"
      },
      "execution_count": null,
      "outputs": [
        {
          "output_type": "display_data",
          "data": {
            "text/plain": [
              "[1] 0.9971898"
            ],
            "text/latex": "0.99718981632",
            "text/markdown": "0.99718981632",
            "text/html": [
              "0.99718981632"
            ]
          },
          "metadata": {}
        }
      ]
    },
    {
      "cell_type": "markdown",
      "source": [
        "d) $P[9 < X \\leq 11]=P[X=10]+P[X=11]$"
      ],
      "metadata": {
        "id": "RtWg9AfZPu-m"
      }
    },
    {
      "cell_type": "code",
      "source": [
        "dbinom(10,12,0.6)+dbinom(11,12,0.6)"
      ],
      "metadata": {
        "colab": {
          "base_uri": "https://localhost:8080/",
          "height": 34
        },
        "id": "NFu_WfO-PwI2",
        "outputId": "279b3433-3c5f-45a2-fbd1-88240c051679"
      },
      "execution_count": null,
      "outputs": [
        {
          "output_type": "display_data",
          "data": {
            "text/plain": [
              "[1] 0.08126654"
            ],
            "text/latex": "0.0812665405439999",
            "text/markdown": "0.0812665405439999",
            "text/html": [
              "0.0812665405439999"
            ]
          },
          "metadata": {}
        }
      ]
    },
    {
      "cell_type": "markdown",
      "source": [
        "e) $P[X \\leq 2]$"
      ],
      "metadata": {
        "id": "sSTGUg1VP1P1"
      }
    },
    {
      "cell_type": "code",
      "source": [
        "pbinom(2,12,0.6)"
      ],
      "metadata": {
        "colab": {
          "base_uri": "https://localhost:8080/",
          "height": 34
        },
        "id": "aY7CWDQ-P2ld",
        "outputId": "286af2f7-34ba-4f70-e4c0-0b3c5a3705bc"
      },
      "execution_count": null,
      "outputs": [
        {
          "output_type": "display_data",
          "data": {
            "text/plain": [
              "[1] 0.002810184"
            ],
            "text/latex": "0.00281018368000001",
            "text/markdown": "0.00281018368000001",
            "text/html": [
              "0.00281018368000001"
            ]
          },
          "metadata": {}
        }
      ]
    },
    {
      "cell_type": "markdown",
      "source": [
        "f) E(X)  ,     V(X)  ,   $\\sigma$"
      ],
      "metadata": {
        "id": "jfvNAr_wP8u1"
      }
    },
    {
      "cell_type": "code",
      "source": [
        "n=12\n",
        "p=0.6\n",
        "q=1-p\n",
        "Ex=n*p\n",
        "Ex\n",
        "Vx=n*p*q\n",
        "Vx\n",
        "Dx=sqrt(Vx)\n",
        "Dx"
      ],
      "metadata": {
        "colab": {
          "base_uri": "https://localhost:8080/",
          "height": 69
        },
        "id": "Cn93rdCrP91N",
        "outputId": "33ecdef8-742f-44ce-af70-4e4f0ccaa218"
      },
      "execution_count": null,
      "outputs": [
        {
          "output_type": "display_data",
          "data": {
            "text/plain": [
              "[1] 7.2"
            ],
            "text/latex": "7.2",
            "text/markdown": "7.2",
            "text/html": [
              "7.2"
            ]
          },
          "metadata": {}
        },
        {
          "output_type": "display_data",
          "data": {
            "text/plain": [
              "[1] 2.88"
            ],
            "text/latex": "2.88",
            "text/markdown": "2.88",
            "text/html": [
              "2.88"
            ]
          },
          "metadata": {}
        },
        {
          "output_type": "display_data",
          "data": {
            "text/plain": [
              "[1] 1.697056"
            ],
            "text/latex": "1.69705627484771",
            "text/markdown": "1.69705627484771",
            "text/html": [
              "1.69705627484771"
            ]
          },
          "metadata": {}
        }
      ]
    },
    {
      "cell_type": "markdown",
      "source": [
        "Grafica de la función de distribución de probabilidad"
      ],
      "metadata": {
        "id": "j7i5s9pHQELG"
      }
    },
    {
      "cell_type": "code",
      "source": [
        "x=seq(0,12,1)\n",
        "y=dbinom(x,12,0.6)\n",
        "plot(x,y,col=\"red\")"
      ],
      "metadata": {
        "colab": {
          "base_uri": "https://localhost:8080/",
          "height": 437
        },
        "id": "Gko3yfWjQC_e",
        "outputId": "7c17196e-f6d9-4ed8-cb58-0b5902f0399b"
      },
      "execution_count": null,
      "outputs": [
        {
          "output_type": "display_data",
          "data": {
            "image/png": "[encoded data removed]",
            "text/plain": [
              "plot without title"
            ]
          },
          "metadata": {
            "image/png": {
              "width": 420,
              "height": 420
            }
          }
        }
      ]
    },
    {
      "cell_type": "markdown",
      "source": [
        "**Ejemplo:** cargamento viene con la garantía de que contiene no más de 10% de unidades defectuosas. Cuál es la probabilidad de que de 15 piezas seleccionadas al azar\n",
        "\n",
        "a. Por lo menos 12 no tengan defectos\n",
        "\n",
        "b. Entre 10 y 13 inclusive no tengan defectos\n",
        "\n",
        "c. A lo sumo 2 tengan defecto\n"
      ],
      "metadata": {
        "id": "3xwlHt_X6cnn"
      }
    },
    {
      "cell_type": "code",
      "source": [],
      "metadata": {
        "id": "WCplCjnf6cwk"
      },
      "execution_count": null,
      "outputs": []
    },
    {
      "cell_type": "markdown",
      "metadata": {
        "id": "tLLPuLF9kNbi"
      },
      "source": [
        "# **Distribucion de Poisson**"
      ]
    },
    {
      "cell_type": "markdown",
      "source": [
        "**Ejemplo:**\n",
        "\n",
        "Graficar la Distribución de Poisson definida por $\\lambda=4$ está determinada por\n",
        "\n",
        "\n",
        "  $$f(x)=\\frac{4^x e^{-4}}{x!}  \\  , \\  x=0,1,2,3,…$$\n"
      ],
      "metadata": {
        "id": "4-zQTQPQQYq9"
      }
    },
    {
      "cell_type": "markdown",
      "source": [
        "**Solución:**\n",
        "\n",
        "$$dpois(x,\\lambda)$$"
      ],
      "metadata": {
        "id": "ukD0H91SQb6d"
      }
    },
    {
      "cell_type": "code",
      "metadata": {
        "id": "GTaWsPTEkN6q",
        "colab": {
          "base_uri": "https://localhost:8080/",
          "height": 34
        },
        "outputId": "334ae18e-a5de-4e1f-f0c4-a4d8faeeb551"
      },
      "source": [
        "dpois(2,4)"
      ],
      "execution_count": null,
      "outputs": [
        {
          "output_type": "display_data",
          "data": {
            "text/plain": [
              "[1] 0.1465251"
            ],
            "text/latex": "0.146525111109873",
            "text/markdown": "0.146525111109873",
            "text/html": [
              "0.146525111109873"
            ]
          },
          "metadata": {}
        }
      ]
    },
    {
      "cell_type": "code",
      "source": [
        "x=seq(0,15,1)\n",
        "y=dpois(x,4)\n",
        "plot(x,y, col=\"blue\")"
      ],
      "metadata": {
        "colab": {
          "base_uri": "https://localhost:8080/",
          "height": 437
        },
        "id": "N09rP5JMQhlN",
        "outputId": "abce455f-45dc-4d54-d58b-361bc2c2642a"
      },
      "execution_count": null,
      "outputs": [
        {
          "output_type": "display_data",
          "data": {
            "image/png": "[encoded data removed]",
            "text/plain": [
              "plot without title"
            ]
          },
          "metadata": {
            "image/png": {
              "width": 420,
              "height": 420
            }
          }
        }
      ]
    },
    {
      "cell_type": "markdown",
      "source": [
        "**Ejemplo:**\n",
        "\n",
        "El número promedio de automóviles que llegan a una estación de suministro de gasolina es de 4 por minuto. Si dicha estación puede atender a un máximo de 8 automóviles por minuto determine la probabilidad de que\n",
        "\n",
        "a)  En un minuto dado lleguen a la estación 2 automóviles\n",
        "\n",
        "b) En un minuto dado lleguen a la estación, a lo más 3 automóviles\n",
        "\n",
        "c)  En un minuto dado lleguen a la estación más automóviles de los que se puede atender\n",
        "\n",
        "d)  En un periodo de tres minutos lleguen 5 automóviles"
      ],
      "metadata": {
        "id": "aY_bA3cIQl00"
      }
    },
    {
      "cell_type": "markdown",
      "source": [
        "**Solución**\n",
        "\n",
        "$\\mu=4 \\Rightarrow \\lambda=E(X)=4$\n",
        "\n",
        "$$P[X=x]=\\frac{4^xe{-4}}{x!}$$"
      ],
      "metadata": {
        "id": "qDATFZdwQpPl"
      }
    },
    {
      "cell_type": "markdown",
      "source": [
        " a) $P[X=2]=0.1465$"
      ],
      "metadata": {
        "id": "oKznY9ppQuXn"
      }
    },
    {
      "cell_type": "code",
      "source": [
        "dpois(2,4)"
      ],
      "metadata": {
        "colab": {
          "base_uri": "https://localhost:8080/",
          "height": 34
        },
        "id": "CuSlY4PfQvPu",
        "outputId": "bb25105f-b4ee-4a3b-b9b9-e6541ae76f7b"
      },
      "execution_count": null,
      "outputs": [
        {
          "output_type": "display_data",
          "data": {
            "text/plain": [
              "[1] 0.1465251"
            ],
            "text/latex": "0.146525111109873",
            "text/markdown": "0.146525111109873",
            "text/html": [
              "0.146525111109873"
            ]
          },
          "metadata": {}
        }
      ]
    },
    {
      "cell_type": "markdown",
      "source": [
        "b) $P[X \\leq 3]=0.4335$"
      ],
      "metadata": {
        "id": "P1CL-rdOQ4NG"
      }
    },
    {
      "cell_type": "code",
      "source": [
        "ppois(3,4)"
      ],
      "metadata": {
        "colab": {
          "base_uri": "https://localhost:8080/",
          "height": 34
        },
        "id": "UH6VmwvJQ6il",
        "outputId": "3c87e726-1efd-43b3-e8ba-366f12a195bf"
      },
      "execution_count": null,
      "outputs": [
        {
          "output_type": "display_data",
          "data": {
            "text/plain": [
              "[1] 0.4334701"
            ],
            "text/latex": "0.433470120366709",
            "text/markdown": "0.433470120366709",
            "text/html": [
              "0.433470120366709"
            ]
          },
          "metadata": {}
        }
      ]
    },
    {
      "cell_type": "markdown",
      "source": [
        " c) $P[X>8]=1-P[X\\leq 8]=0.0214$"
      ],
      "metadata": {
        "id": "um9fZGttRAXW"
      }
    },
    {
      "cell_type": "code",
      "source": [
        "1-ppois(8,4)"
      ],
      "metadata": {
        "colab": {
          "base_uri": "https://localhost:8080/",
          "height": 34
        },
        "id": "ak_4jMVbRF2O",
        "outputId": "49210181-f180-4da1-b45d-0c953ff7eb57"
      },
      "execution_count": null,
      "outputs": [
        {
          "output_type": "display_data",
          "data": {
            "text/plain": [
              "[1] 0.02136343"
            ],
            "text/latex": "0.0213634344879842",
            "text/markdown": "0.0213634344879842",
            "text/html": [
              "0.0213634344879842"
            ]
          },
          "metadata": {}
        }
      ]
    },
    {
      "cell_type": "markdown",
      "source": [
        "d)  $\\lambda t=12$\n",
        "\n",
        "$$P[X=x]=\\frac{12^xe{-12}}{x!}$$\n",
        "\n",
        "\n",
        "$P[X=5]=0.0127$"
      ],
      "metadata": {
        "id": "7hBx2JfXRI92"
      }
    },
    {
      "cell_type": "code",
      "source": [
        "dpois(5,12)"
      ],
      "metadata": {
        "id": "1srUNuEFRMZG",
        "outputId": "419673c0-c4ac-4c3e-a56d-fb07aa3415cc",
        "colab": {
          "base_uri": "https://localhost:8080/",
          "height": 34
        }
      },
      "execution_count": null,
      "outputs": [
        {
          "output_type": "display_data",
          "data": {
            "text/plain": [
              "[1] 0.01274064"
            ],
            "text/latex": "0.0127406387358614",
            "text/markdown": "0.0127406387358614",
            "text/html": [
              "0.0127406387358614"
            ]
          },
          "metadata": {}
        }
      ]
    },
    {
      "cell_type": "markdown",
      "source": [
        " **Ejemplo:** Los automóviles llegan a un servicio de lavado automático a razón de nueve cada media hora. Determine la probabilidad que en cualquier periodo de tiempo dado de 8 horas\n",
        "\n",
        "a. Lleguen cuando menos 120 automóviles\n",
        "\n",
        "b. Lleguen entre 120 y 150 automóviles\n"
      ],
      "metadata": {
        "id": "WyXrIoNA6vn4"
      }
    },
    {
      "cell_type": "code",
      "source": [],
      "metadata": {
        "id": "CKuiCS1D6vxC"
      },
      "execution_count": null,
      "outputs": []
    },
    {
      "cell_type": "markdown",
      "source": [
        "---\n",
        "\n",
        "# **Problemas propuestos**\n",
        "\n",
        "---"
      ],
      "metadata": {
        "id": "4Z5T0cmWCYSM"
      }
    },
    {
      "cell_type": "markdown",
      "source": [
        "1. De acuerdo con la Chemical Engineering Progress (noviembre de 1990), aproximadamente 30% de  todas las fallas de operación de tuberías en plantas químicas son ocasionadas por errores de operador\n",
        "a.\tCual es la probabilidad de que de las siguientes 20 fallas al menos 4 se deban a error del operador\n",
        "b.\tCual es la probabilidad de que no mas de dos de 20 fallas se deban a error del operador\n",
        "c.\tCual es la probabilidad de que de la muestra aleatoria de 20 de tales fallas exactamente cinco sean de errores de operación\n"
      ],
      "metadata": {
        "id": "qtiQjLqFCaWl"
      }
    },
    {
      "cell_type": "code",
      "source": [],
      "metadata": {
        "id": "42pPFiRRCu8s"
      },
      "execution_count": null,
      "outputs": []
    },
    {
      "cell_type": "markdown",
      "source": [
        "2. Cierto cargamento viene con la garantía de que contiene no más de 10% de unidades defectuosas . Cuál es la probabilidad de que de 15 piezas seleccionadas al azar\n",
        "a.\tPor lo menos 12 no tengan defectos\n",
        "b.\tEntre 10 y 13 inclusive no tengan defectos\n",
        "c.\tA lo sumo 2 tengan defecto\n"
      ],
      "metadata": {
        "id": "jpUpEDYkCvXi"
      }
    },
    {
      "cell_type": "code",
      "source": [],
      "metadata": {
        "id": "Odwnven0DF8k"
      },
      "execution_count": null,
      "outputs": []
    },
    {
      "cell_type": "markdown",
      "source": [
        "3. Al examinar la aplicación de estaño por un proceso electrolítico continuo, se descubren en promedio 0,3 imperfecciones por minuto.\n",
        "a. ¿Cuál es la probabilidad de encontrar 3 imperfecciones en 4 minutos?\n",
        "b. ¿Cuál es la probabilidad de que hayan más de 4 imperfecciones en 6\n",
        "minutos?\n",
        "c. ¿Cuál es la probabilidad de a lo sumo 6 imperfecciones en 15 minutos\n"
      ],
      "metadata": {
        "id": "A1mMOu2oDb4C"
      }
    },
    {
      "cell_type": "code",
      "source": [],
      "metadata": {
        "id": "nfRlUGrlDfbw"
      },
      "execution_count": null,
      "outputs": []
    },
    {
      "cell_type": "markdown",
      "source": [
        "4. Supongamos que el número medio de los accidentes que ocurren semanalmente\n",
        "en una determinada autopista es igual a $1.2$. Aproxime la probabilidad de que\n",
        "ocurra al menos un accidente durante la semana en curso.\n"
      ],
      "metadata": {
        "id": "V0LAHZBz-0BF"
      }
    }
  ]
}