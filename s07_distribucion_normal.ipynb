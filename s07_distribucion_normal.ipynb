{
  "nbformat": 4,
  "nbformat_minor": 0,
  "metadata": {
    "colab": {
      "provenance": []
    },
    "kernelspec": {
      "name": "ir",
      "display_name": "R"
    }
  },
  "cells": [
    {
      "cell_type": "markdown",
      "source": [
        "<img src=\"https://drive.google.com/uc?export=view&id=1QyjJW7NL2WDfnVZ0_MqAfH6Slkal1DJA\" width=\"150\">\n",
        "\n",
        "$\\tiny{Universidad \\ Nacional \\ de \\ San \\ Agustín \\ de \\ Arequipa \\\\\n",
        "Ciencia \\ de \\ la \\ Computación \\ UNSA}$\n",
        "\n",
        "\n",
        "---"
      ],
      "metadata": {
        "id": "43OnsU_ngxFJ"
      }
    },
    {
      "cell_type": "markdown",
      "source": [
        "# <center>  $Capítulo \\ 2$\n",
        "### <center> $Distribuciones \\ de \\ probabilidad$\n",
        "\n"
      ],
      "metadata": {
        "id": "Y3w5gJ72g9fQ"
      }
    },
    {
      "cell_type": "markdown",
      "source": [
        "**Sesión de Laboratorio 6** : La Distribución Normal\n",
        "\n",
        "**Profesor:** ......................................\n",
        "\n",
        "**Estudiante:** .........................................\n",
        "\n",
        "---\n",
        "\n",
        "\n"
      ],
      "metadata": {
        "id": "6MA24JpnhHWQ"
      }
    },
    {
      "cell_type": "markdown",
      "source": [
        "# **La Distribución Normal**\n",
        "\n",
        "Dada una variable aleatoria $X$ continua se denomina normal si su función de densidad se define por\n",
        "\n",
        "\n",
        "\\begin{equation}\n",
        "f(x)= \\frac{1}{\\sqrt{2 \\pi}\\sigma}e^{-\\frac{1}{2}\\left(\\frac{x-\\mu}{\\sigma} \\right) ^{2}}  \\ con\\ x \\in \\mathbb{R}         \n",
        "\\end{equation}\n",
        "\n",
        "Para representar que una variable aleatoria $X$ sigue una distribución normal de parámetros $\\mu$ y $\\sigma ^2$, se denota:\n",
        "\n",
        "\\begin{equation}\n",
        "X  \\thicksim N(\\mu,\\sigma ^2)\n",
        "\\end{equation}"
      ],
      "metadata": {
        "id": "3Sf7kktch6Dx"
      }
    },
    {
      "cell_type": "markdown",
      "source": [
        "## **Cálculo de Probabilidad**\n",
        "\n",
        "Para hallar una probabilidad se tiene\n",
        "\n",
        "\n",
        "\\begin{equation}\n",
        "P \\ [ a \\leq x \\leq b \\ ] = \\int_a^b f(x)dx= \\int_a^b \\frac{1}{\\sqrt{2 \\pi}\\sigma}e^{-\\frac{1}{2}\\left(\\frac{x-\\mu}{\\sigma} \\right) ^{2}}dx         \n",
        "\\end{equation}\n",
        "\n",
        "equivalentemente\n",
        "\n",
        "$$P[a \\leq X \\leq b]=P[X\\leq b]-P[X \\leq a]$$"
      ],
      "metadata": {
        "id": "uO8-mAg5kZ93"
      }
    },
    {
      "cell_type": "markdown",
      "source": [
        "***"
      ],
      "metadata": {
        "id": "-rJoAxOuUvI1"
      }
    },
    {
      "cell_type": "markdown",
      "source": [
        "**Ejemplo:** Una maquina despachadora de refrescos esta calibrada para servir 250 mililitros de refresco por vaso. La desviación estándar es de 4 mililitros.¿ Cual es la probabilidad de que una maquina despache:\n",
        "\n",
        "a. Entre 240 y 255 mililitros de refresco?\n",
        "\n",
        "b. 260 mililitros o más?\n",
        "\n",
        "c. Entre 270 y 280 mililitros de refresco?\n",
        "\n",
        "d. Cuanto refresco se despacha en el 2% más grande de refrescos?"
      ],
      "metadata": {
        "id": "eKZx_mHlUrL2"
      }
    },
    {
      "cell_type": "markdown",
      "source": [
        "**Solución**\n",
        "\n",
        "$$\\mu = 250$$\n",
        "$$\\sigma =4$$\n",
        "\n",
        "\\begin{equation}\n",
        "X  \\thicksim N(\\mu,\\sigma ^2)\n",
        "\\end{equation}"
      ],
      "metadata": {
        "id": "OPhI1GzYYgU7"
      }
    },
    {
      "cell_type": "markdown",
      "source": [
        "a) $P[240 \\leq X \\leq 255]=?$\n",
        "\n",
        "$P[240 \\leq X \\leq 255]=P[X\\leq 255]-P[X\\leq 240]$\n",
        "\n",
        "$$pnorm(x,mean=valor1,sd=valor2)$$"
      ],
      "metadata": {
        "id": "7Mq8hVcQY689"
      }
    },
    {
      "cell_type": "code",
      "source": [
        "pnorm(255,mean=250,sd=4)"
      ],
      "metadata": {
        "id": "X26I0zhUUyMT",
        "colab": {
          "base_uri": "https://localhost:8080/",
          "height": 34
        },
        "outputId": "10befca7-0d40-41ba-a20f-a2b66b1ec182"
      },
      "execution_count": null,
      "outputs": [
        {
          "output_type": "display_data",
          "data": {
            "text/html": [
              "0.894350226333145"
            ],
            "text/markdown": "0.894350226333145",
            "text/latex": "0.894350226333145",
            "text/plain": [
              "[1] 0.8943502"
            ]
          },
          "metadata": {}
        }
      ]
    },
    {
      "cell_type": "code",
      "source": [
        "pnorm(240,mean=250,sd=4)"
      ],
      "metadata": {
        "colab": {
          "base_uri": "https://localhost:8080/",
          "height": 34
        },
        "id": "gBBafYnfZ-pE",
        "outputId": "cf88ce25-b5ba-4b81-9cd1-b0bfe43e1ef4"
      },
      "execution_count": null,
      "outputs": [
        {
          "output_type": "display_data",
          "data": {
            "text/html": [
              "0.00620966532577613"
            ],
            "text/markdown": "0.00620966532577613",
            "text/latex": "0.00620966532577613",
            "text/plain": [
              "[1] 0.006209665"
            ]
          },
          "metadata": {}
        }
      ]
    },
    {
      "cell_type": "code",
      "source": [
        "pnorm(255,mean=250,sd=4)-pnorm(240,mean=250,sd=4)"
      ],
      "metadata": {
        "colab": {
          "base_uri": "https://localhost:8080/",
          "height": 34
        },
        "id": "1vieLl4qaG_0",
        "outputId": "d70d847f-d728-4529-8e5e-a88e004c71ea"
      },
      "execution_count": null,
      "outputs": [
        {
          "output_type": "display_data",
          "data": {
            "text/plain": [
              "[1] 0.8881406"
            ],
            "text/latex": "0.888140561007369",
            "text/markdown": "0.888140561007369",
            "text/html": [
              "0.888140561007369"
            ]
          },
          "metadata": {}
        }
      ]
    },
    {
      "cell_type": "markdown",
      "source": [
        "b) $P[X \\geq 260]=?$\n",
        "\n",
        "$P[X \\geq 260]=1-P[X<260]$"
      ],
      "metadata": {
        "id": "PksPfqi5a5LE"
      }
    },
    {
      "cell_type": "code",
      "source": [
        "1-pnorm(260,mean=250,sd=4)"
      ],
      "metadata": {
        "colab": {
          "base_uri": "https://localhost:8080/",
          "height": 34
        },
        "id": "8OsF4czcbPy8",
        "outputId": "7d47ca00-f31e-4f32-8fcb-4af137cb1da9"
      },
      "execution_count": null,
      "outputs": [
        {
          "output_type": "display_data",
          "data": {
            "text/html": [
              "0.00620966532577616"
            ],
            "text/markdown": "0.00620966532577616",
            "text/latex": "0.00620966532577616",
            "text/plain": [
              "[1] 0.006209665"
            ]
          },
          "metadata": {}
        }
      ]
    },
    {
      "cell_type": "markdown",
      "source": [
        "c) $P[270 \\leq X\\leq 280]=?$\n",
        "\n",
        "$P[270 \\leq X\\leq 280]=P[X \\leq 280]-P[X \\leq 270]$\n",
        "    "
      ],
      "metadata": {
        "id": "fUnCeNl1bnQj"
      }
    },
    {
      "cell_type": "code",
      "source": [
        "pnorm(280,mean=250, sd=4)-pnorm(270,mean=250,sd=4)"
      ],
      "metadata": {
        "colab": {
          "base_uri": "https://localhost:8080/",
          "height": 34
        },
        "id": "i1RsVvJHcyyN",
        "outputId": "b8d71dac-e66f-4f09-f4d3-0fe0b2519eae"
      },
      "execution_count": null,
      "outputs": [
        {
          "output_type": "display_data",
          "data": {
            "text/plain": [
              "[1] 2.866515e-07"
            ],
            "text/latex": "2.86651540060134e-07",
            "text/markdown": "2.86651540060134e-07",
            "text/html": [
              "2.86651540060134e-07"
            ]
          },
          "metadata": {}
        }
      ]
    },
    {
      "cell_type": "markdown",
      "source": [
        "d) Probabilidad Inversa\n",
        "\n",
        "$$qnorm(probabilidad,mean=valor1,sd=valor2)$$"
      ],
      "metadata": {
        "id": "Oc1kJaIOdg7s"
      }
    },
    {
      "cell_type": "code",
      "source": [
        "qnorm(0.98,mean=250,sd=4)"
      ],
      "metadata": {
        "colab": {
          "base_uri": "https://localhost:8080/",
          "height": 34
        },
        "id": "Tpb-NyV0dbMI",
        "outputId": "331e1f32-1989-4c4c-ed66-4bee3cb9908b"
      },
      "execution_count": null,
      "outputs": [
        {
          "output_type": "display_data",
          "data": {
            "text/html": [
              "258.214995642527"
            ],
            "text/markdown": "258.214995642527",
            "text/latex": "258.214995642527",
            "text/plain": [
              "[1] 258.215"
            ]
          },
          "metadata": {}
        }
      ]
    },
    {
      "cell_type": "markdown",
      "source": [
        "**Grafica de la función de densidad**"
      ],
      "metadata": {
        "id": "hGk_Ego_esK8"
      }
    },
    {
      "cell_type": "code",
      "source": [
        "Mx=250\n",
        "Dx=4\n",
        "xini=Mx-4*Dx\n",
        "xfin=Mx+4*Dx\n",
        "x=seq(xini,xfin,0.01)\n",
        "y=dnorm(x,mean=250,sd=4)\n",
        "plot(x,y,lwd=2,col=\"blue\",type='l',ylim=c(0,0.1))"
      ],
      "metadata": {
        "colab": {
          "base_uri": "https://localhost:8080/",
          "height": 437
        },
        "id": "dGv8mvBidFpr",
        "outputId": "28937176-3231-42b0-f8a5-4bd43e464c88"
      },
      "execution_count": null,
      "outputs": [
        {
          "output_type": "display_data",
          "data": {
            "image/png": "[encoded data removed]",
            "text/plain": [
              "plot without title"
            ]
          },
          "metadata": {
            "image/png": {
              "width": 420,
              "height": 420
            }
          }
        }
      ]
    },
    {
      "cell_type": "markdown",
      "source": [
        "**Ejemplo:**\n",
        "\n",
        "En una empresa sus trabajadores  emplean la computadora un promedio de 27 horas por semana. Suponga que el tiempo de uso corresponde a una distribución normal y que la desviación estándar es 8 horas.\n",
        "\n",
        "a.\t¿Cuál es la probabilidad de que un trabajador elegido al azar utilice la computadora menos de 11 horas?\n",
        "\n",
        "b.\t¿Qué porcentaje de los trabajadores utiliza la computadora más de 40 horas?\n",
        "\n",
        "c.\tSe clasifica a un trabajador como usuario extraordinario si esta en el 20% superior en términos de horas de uso ¿Cuántas horas debe usar la computadora un trabajador para ser considerado como usuario extraordinario?\n",
        "\n",
        "**Solución**"
      ],
      "metadata": {
        "id": "IyxjtH9Bhjc3"
      }
    },
    {
      "cell_type": "markdown",
      "source": [
        "$$\\mu = 27$$\n",
        "$$\\sigma =8$$\n",
        "\n",
        "\\begin{equation}\n",
        "X  \\thicksim N(\\mu,\\sigma ^2)\n",
        "\\end{equation}"
      ],
      "metadata": {
        "id": "KYzDXpWRk0KE"
      }
    },
    {
      "cell_type": "markdown",
      "source": [
        "a) $P[X<11]=?$\n",
        "$P[X<11]=0.0228$\n"
      ],
      "metadata": {
        "id": "s8pkqGObk8JT"
      }
    },
    {
      "cell_type": "code",
      "source": [
        "pnorm(11,mean=27,sd=8)"
      ],
      "metadata": {
        "colab": {
          "base_uri": "https://localhost:8080/",
          "height": 34
        },
        "id": "YTMfBacQkjP1",
        "outputId": "3526538a-eb4e-442c-b788-4906812bd1b7"
      },
      "execution_count": null,
      "outputs": [
        {
          "output_type": "display_data",
          "data": {
            "text/plain": [
              "[1] 0.02275013"
            ],
            "text/latex": "0.0227501319481792",
            "text/markdown": "0.0227501319481792",
            "text/html": [
              "0.0227501319481792"
            ]
          },
          "metadata": {}
        }
      ]
    },
    {
      "cell_type": "markdown",
      "source": [
        "b) $P[X>40]=1-P[X\\leq 40]=0.0521$"
      ],
      "metadata": {
        "id": "bty90cG5lOYj"
      }
    },
    {
      "cell_type": "code",
      "source": [
        "1-pnorm(40,mean=27,sd=8)"
      ],
      "metadata": {
        "colab": {
          "base_uri": "https://localhost:8080/",
          "height": 34
        },
        "id": "6dvsep-VlOzM",
        "outputId": "59f4e952-cd51-418f-c4ee-9d9e8cc50ce2"
      },
      "execution_count": null,
      "outputs": [
        {
          "output_type": "display_data",
          "data": {
            "text/plain": [
              "[1] 0.05208128"
            ],
            "text/latex": "0.0520812794152196",
            "text/markdown": "0.0520812794152196",
            "text/html": [
              "0.0520812794152196"
            ]
          },
          "metadata": {}
        }
      ]
    },
    {
      "cell_type": "markdown",
      "source": [
        "c) $P[X<x]=0.8$\n",
        "\n",
        "$x=33.74$"
      ],
      "metadata": {
        "id": "MpJVoZhslkAQ"
      }
    },
    {
      "cell_type": "code",
      "source": [
        "qnorm(0.8,mean=27,sd=8)"
      ],
      "metadata": {
        "colab": {
          "base_uri": "https://localhost:8080/",
          "height": 34
        },
        "id": "gSvzH3ENlkN7",
        "outputId": "767768a2-8426-45f5-d313-fa3e5022f494"
      },
      "execution_count": null,
      "outputs": [
        {
          "output_type": "display_data",
          "data": {
            "text/plain": [
              "[1] 33.73297"
            ],
            "text/latex": "33.7329698685833",
            "text/markdown": "33.7329698685833",
            "text/html": [
              "33.7329698685833"
            ]
          },
          "metadata": {}
        }
      ]
    },
    {
      "cell_type": "markdown",
      "source": [
        "Grafica"
      ],
      "metadata": {
        "id": "uvscROSJlkyV"
      }
    },
    {
      "cell_type": "code",
      "source": [
        "Mx=27\n",
        "Dx=8\n",
        "xini=Mx-4*Dx\n",
        "xfin=Mx+4*Dx\n",
        "x=seq(xini,xfin,0.01)\n",
        "y=dnorm(x,mean=Mx,sd=Dx)\n",
        "plot(x,y,lwd=2,col=\"blue\",type='l',ylim=c(0,0.1))"
      ],
      "metadata": {
        "colab": {
          "base_uri": "https://localhost:8080/",
          "height": 437
        },
        "id": "A7ZXijadkjwk",
        "outputId": "eabcc83a-3885-433d-9e59-3a18dc5cb39c"
      },
      "execution_count": null,
      "outputs": [
        {
          "output_type": "display_data",
          "data": {
            "image/png": "[encoded data removed]",
            "text/plain": [
              "plot without title"
            ]
          },
          "metadata": {
            "image/png": {
              "width": 420,
              "height": 420
            }
          }
        }
      ]
    },
    {
      "cell_type": "markdown",
      "source": [
        "# **Distribucion normal estandar: Regla empirica**"
      ],
      "metadata": {
        "id": "R67EI07SCRnK"
      }
    },
    {
      "cell_type": "markdown",
      "source": [
        "$P[-1<Z<1]=P[Z<1]-P[Z<-1]=?$"
      ],
      "metadata": {
        "id": "114kYpiqCZ_j"
      }
    },
    {
      "cell_type": "code",
      "source": [
        "pnorm(1,mean=0,sd=1)-pnorm(-1,mean=0,sd=1)"
      ],
      "metadata": {
        "colab": {
          "base_uri": "https://localhost:8080/",
          "height": 34
        },
        "id": "VUmdS4FDCQ9V",
        "outputId": "8bea159b-7411-4077-8b34-b2992ef014bc"
      },
      "execution_count": null,
      "outputs": [
        {
          "output_type": "display_data",
          "data": {
            "text/html": [
              "0.682689492137086"
            ],
            "text/markdown": "0.682689492137086",
            "text/latex": "0.682689492137086",
            "text/plain": [
              "[1] 0.6826895"
            ]
          },
          "metadata": {}
        }
      ]
    },
    {
      "cell_type": "markdown",
      "source": [
        "$P[-2<Z<2]=P[Z<2]-P[Z<-2]=?$"
      ],
      "metadata": {
        "id": "U-yrCGMNDCzU"
      }
    },
    {
      "cell_type": "code",
      "source": [
        "pnorm(2,mean=0,sd=1)-pnorm(-2,mean=0,sd=1)"
      ],
      "metadata": {
        "colab": {
          "base_uri": "https://localhost:8080/",
          "height": 34
        },
        "id": "OW9UOucnDDX1",
        "outputId": "094fefc6-9256-49c2-af9f-15643cffd138"
      },
      "execution_count": null,
      "outputs": [
        {
          "output_type": "display_data",
          "data": {
            "text/html": [
              "0.954499736103642"
            ],
            "text/markdown": "0.954499736103642",
            "text/latex": "0.954499736103642",
            "text/plain": [
              "[1] 0.9544997"
            ]
          },
          "metadata": {}
        }
      ]
    },
    {
      "cell_type": "markdown",
      "source": [
        "$P[-3<Z<3]=P[Z<3]-P[Z<-3]=?$\n",
        "\n",
        "\n",
        "\n"
      ],
      "metadata": {
        "id": "IOvgKww9DT1B"
      }
    },
    {
      "cell_type": "code",
      "source": [
        "pnorm(3,mean=0,sd=1)-pnorm(-3,mean=0,sd=1)"
      ],
      "metadata": {
        "colab": {
          "base_uri": "https://localhost:8080/",
          "height": 34
        },
        "id": "yNvNBeXLDTc8",
        "outputId": "180203fc-d944-4664-8dde-181d2b26f530"
      },
      "execution_count": null,
      "outputs": [
        {
          "output_type": "display_data",
          "data": {
            "text/html": [
              "0.99730020393674"
            ],
            "text/markdown": "0.99730020393674",
            "text/latex": "0.99730020393674",
            "text/plain": [
              "[1] 0.9973002"
            ]
          },
          "metadata": {}
        }
      ]
    },
    {
      "cell_type": "markdown",
      "source": [
        "$P[-4<Z<4]=P[Z<4]-P[Z<-4]=?$\n"
      ],
      "metadata": {
        "id": "bvj6_whxD4de"
      }
    },
    {
      "cell_type": "code",
      "source": [
        "pnorm(4,mean=0,sd=1)-pnorm(-4,mean=0,sd=1)"
      ],
      "metadata": {
        "colab": {
          "base_uri": "https://localhost:8080/",
          "height": 34
        },
        "id": "HTX9V8b0D-X-",
        "outputId": "d396f50a-0ef8-40aa-859d-e32e5720dba9"
      },
      "execution_count": null,
      "outputs": [
        {
          "output_type": "display_data",
          "data": {
            "text/html": [
              "0.999936657516334"
            ],
            "text/markdown": "0.999936657516334",
            "text/latex": "0.999936657516334",
            "text/plain": [
              "[1] 0.9999367"
            ]
          },
          "metadata": {}
        }
      ]
    },
    {
      "cell_type": "markdown",
      "source": [
        "# **Grafica de la distribucion normal**\n",
        "\n",
        "**Ejemplo:** Graficar la distribución normal $N(\\mu,\\sigma^2)$ donde $\\mu=500$ y $\\sigma=20$"
      ],
      "metadata": {
        "id": "oxwfM3XREpF1"
      }
    },
    {
      "cell_type": "code",
      "source": [
        "Mx=500\n",
        "Dx=20\n",
        "xini=Mx-4*Dx\n",
        "xfin=Mx+4*Dx\n",
        "x=seq(xini,xfin,0.01)\n",
        "y=dnorm(x,mean=Mx,sd=Dx)\n",
        "plot(x,y,type='l', col=\"red\",lwd=2,ylim=c(0,0.08))"
      ],
      "metadata": {
        "colab": {
          "base_uri": "https://localhost:8080/",
          "height": 437
        },
        "id": "32bwlLtrFLqO",
        "outputId": "a8b4ed51-bb77-4e8b-ef89-a1ddec05ca22"
      },
      "execution_count": null,
      "outputs": [
        {
          "output_type": "display_data",
          "data": {
            "text/plain": [
              "plot without title"
            ],
            "image/png": "[encoded data removed]"
          },
          "metadata": {
            "image/png": {
              "width": 420,
              "height": 420
            }
          }
        }
      ]
    }
  ]
}